{
  "cells": [
    {
      "cell_type": "markdown",
      "metadata": {
        "id": "view-in-github",
        "colab_type": "text"
      },
      "source": [
        "<a href=\"https://colab.research.google.com/github/hachanhvu2205/football/blob/master/Untitled3.ipynb\" target=\"_parent\"><img src=\"https://colab.research.google.com/assets/colab-badge.svg\" alt=\"Open In Colab\"/></a>"
      ]
    },
    {
      "cell_type": "code",
      "execution_count": 2,
      "metadata": {
        "colab": {
          "base_uri": "https://localhost:8080/"
        },
        "id": "0u-PumGQQzKI",
        "outputId": "6eb324af-a319-4be4-e97c-f3577af41af3"
      },
      "outputs": [
        {
          "output_type": "stream",
          "name": "stdout",
          "text": [
            "Reading package lists... Done\n",
            "Building dependency tree       \n",
            "Reading state information... Done\n",
            "libboost-all-dev is already the newest version (1.71.0.0ubuntu2).\n",
            "build-essential is already the newest version (12.8ubuntu1.1).\n",
            "cmake is already the newest version (3.16.3-1ubuntu1.20.04.1).\n",
            "git is already the newest version (1:2.25.1-1ubuntu3.10).\n",
            "The following additional packages will be installed:\n",
            "  lib++dfb-1.7-7 liba52-0.7.4 libblkid-dev libdbus-1-dev libdirectfb-1.7-7\n",
            "  libegl1-mesa-dev libffi-dev libgles-dev libgles1 libgles2-mesa-dev\n",
            "  libglib2.0-dev libglib2.0-dev-bin libglvnd-dev libibus-1.0-dev liblzo2-2\n",
            "  libmount-dev libmpeg3-2 libmpeg3-dev libopengl-dev libpulse-dev\n",
            "  libsdl2-gfx-1.0-0 libsdl2-image-2.0-0 libsdl2-ttf-2.0-0 libselinux1-dev\n",
            "  libsepol1-dev libsndio-dev libst1 libudev-dev libvncclient1 libvncserver1\n",
            "  libwayland-bin libwayland-dev libxcursor-dev libxfixes-dev libxi-dev\n",
            "  libxinerama-dev libxkbcommon-dev libxrandr-dev libxv-dev libxxf86vm-dev\n",
            "  python-pip-whl python3-setuptools python3-wheel x11proto-input-dev\n",
            "  x11proto-randr-dev x11proto-xf86vidmode-dev x11proto-xinerama-dev\n",
            "Suggested packages:\n",
            "  libdirectfb-extra libgirepository1.0-dev libglib2.0-doc libgdk-pixbuf2.0-bin\n",
            "  | libgdk-pixbuf2.0-dev libxml2-utils libsdl2-gfx-doc libwayland-doc\n",
            "  python-setuptools-doc\n",
            "The following NEW packages will be installed:\n",
            "  lib++dfb-1.7-7 liba52-0.7.4 libblkid-dev libdbus-1-dev libdirectfb-1.7-7\n",
            "  libdirectfb-dev libegl1-mesa-dev libffi-dev libgl1-mesa-dev libgles-dev\n",
            "  libgles1 libgles2-mesa-dev libglib2.0-dev libglib2.0-dev-bin libglvnd-dev\n",
            "  libibus-1.0-dev liblzo2-2 libmount-dev libmpeg3-2 libmpeg3-dev libopengl-dev\n",
            "  libpulse-dev libsdl2-dev libsdl2-gfx-1.0-0 libsdl2-gfx-dev\n",
            "  libsdl2-image-2.0-0 libsdl2-image-dev libsdl2-ttf-2.0-0 libsdl2-ttf-dev\n",
            "  libselinux1-dev libsepol1-dev libsndio-dev libst-dev libst1 libudev-dev\n",
            "  libvncclient1 libvncserver1 libwayland-bin libwayland-dev libxcursor-dev\n",
            "  libxfixes-dev libxi-dev libxinerama-dev libxkbcommon-dev libxrandr-dev\n",
            "  libxv-dev libxxf86vm-dev mesa-utils python-pip-whl python3-pip\n",
            "  python3-setuptools python3-wheel x11proto-input-dev x11proto-randr-dev\n",
            "  x11proto-xf86vidmode-dev x11proto-xinerama-dev x11vnc xvfb\n",
            "0 upgraded, 58 newly installed, 0 to remove and 19 not upgraded.\n",
            "Need to get 10.4 MB of archives.\n",
            "After this operation, 46.5 MB of additional disk space will be used.\n",
            "Get:1 http://archive.ubuntu.com/ubuntu focal/universe amd64 libdirectfb-1.7-7 amd64 1.7.7-9build1 [959 kB]\n",
            "Get:2 http://archive.ubuntu.com/ubuntu focal/universe amd64 lib++dfb-1.7-7 amd64 1.7.7-9build1 [30.8 kB]\n",
            "Get:3 http://archive.ubuntu.com/ubuntu focal/universe amd64 liba52-0.7.4 amd64 0.7.4-20 [30.5 kB]\n",
            "Get:4 http://archive.ubuntu.com/ubuntu focal-updates/main amd64 libdbus-1-dev amd64 1.12.16-2ubuntu2.3 [167 kB]\n",
            "Get:5 http://archive.ubuntu.com/ubuntu focal-updates/main amd64 libgles1 amd64 1.3.2-1~ubuntu0.20.04.2 [10.3 kB]\n",
            "Get:6 http://archive.ubuntu.com/ubuntu focal-updates/main amd64 libgles-dev amd64 1.3.2-1~ubuntu0.20.04.2 [47.9 kB]\n",
            "Get:7 http://archive.ubuntu.com/ubuntu focal-updates/main amd64 libopengl-dev amd64 1.3.2-1~ubuntu0.20.04.2 [3,584 B]\n",
            "Get:8 http://archive.ubuntu.com/ubuntu focal-updates/main amd64 libglvnd-dev amd64 1.3.2-1~ubuntu0.20.04.2 [11.6 kB]\n",
            "Get:9 http://archive.ubuntu.com/ubuntu focal-updates/main amd64 libgl1-mesa-dev amd64 21.2.6-0ubuntu0.1~20.04.2 [6,420 B]\n",
            "Get:10 http://archive.ubuntu.com/ubuntu focal/universe amd64 libmpeg3-2 amd64 1.8.dfsg-2.1 [87.6 kB]\n",
            "Get:11 http://archive.ubuntu.com/ubuntu focal/universe amd64 libmpeg3-dev amd64 1.8.dfsg-2.1 [112 kB]\n",
            "Get:12 http://archive.ubuntu.com/ubuntu focal/universe amd64 libdirectfb-dev amd64 1.7.7-9build1 [199 kB]\n",
            "Get:13 http://archive.ubuntu.com/ubuntu focal-updates/main amd64 libegl1-mesa-dev amd64 21.2.6-0ubuntu0.1~20.04.2 [7,760 B]\n",
            "Get:14 http://archive.ubuntu.com/ubuntu focal-updates/main amd64 libgles2-mesa-dev amd64 21.2.6-0ubuntu0.1~20.04.2 [6,424 B]\n",
            "Get:15 http://archive.ubuntu.com/ubuntu focal/main amd64 libffi-dev amd64 3.3-4 [57.0 kB]\n",
            "Get:16 http://archive.ubuntu.com/ubuntu focal-updates/main amd64 libglib2.0-dev-bin amd64 2.64.6-1~ubuntu20.04.4 [109 kB]\n",
            "Get:17 http://archive.ubuntu.com/ubuntu focal-updates/main amd64 libblkid-dev amd64 2.34-0.1ubuntu9.3 [167 kB]\n",
            "Get:18 http://archive.ubuntu.com/ubuntu focal-updates/main amd64 libmount-dev amd64 2.34-0.1ubuntu9.3 [176 kB]\n",
            "Get:19 http://archive.ubuntu.com/ubuntu focal-updates/main amd64 libsepol1-dev amd64 3.0-1ubuntu0.1 [325 kB]\n",
            "Get:20 http://archive.ubuntu.com/ubuntu focal/main amd64 libselinux1-dev amd64 3.0-1build2 [151 kB]\n",
            "Get:21 http://archive.ubuntu.com/ubuntu focal-updates/main amd64 libglib2.0-dev amd64 2.64.6-1~ubuntu20.04.4 [1,506 kB]\n",
            "Get:22 http://archive.ubuntu.com/ubuntu focal-updates/main amd64 libibus-1.0-dev amd64 1.5.22-2ubuntu2.1 [179 kB]\n",
            "Get:23 http://archive.ubuntu.com/ubuntu focal/main amd64 liblzo2-2 amd64 2.10-2 [50.8 kB]\n",
            "Get:24 http://archive.ubuntu.com/ubuntu focal-updates/main amd64 libpulse-dev amd64 1:13.99.1-1ubuntu3.13 [72.5 kB]\n",
            "Get:25 http://archive.ubuntu.com/ubuntu focal/universe amd64 libsndio-dev amd64 1.5.0-3 [13.6 kB]\n",
            "Get:26 http://archive.ubuntu.com/ubuntu focal-updates/main amd64 libudev-dev amd64 245.4-4ubuntu3.19 [19.7 kB]\n",
            "Get:27 http://archive.ubuntu.com/ubuntu focal-updates/main amd64 libwayland-bin amd64 1.18.0-1ubuntu0.1 [20.2 kB]\n",
            "Get:28 http://archive.ubuntu.com/ubuntu focal-updates/main amd64 libwayland-dev amd64 1.18.0-1ubuntu0.1 [64.6 kB]\n",
            "Get:29 http://archive.ubuntu.com/ubuntu focal/main amd64 libxfixes-dev amd64 1:5.0.3-2 [11.4 kB]\n",
            "Get:30 http://archive.ubuntu.com/ubuntu focal/main amd64 libxcursor-dev amd64 1:1.2.0-2 [26.5 kB]\n",
            "Get:31 http://archive.ubuntu.com/ubuntu focal/main amd64 x11proto-input-dev all 2019.2-1ubuntu1 [2,628 B]\n",
            "Get:32 http://archive.ubuntu.com/ubuntu focal/main amd64 libxi-dev amd64 2:1.7.10-0ubuntu1 [187 kB]\n",
            "Get:33 http://archive.ubuntu.com/ubuntu focal/main amd64 x11proto-xinerama-dev all 2019.2-1ubuntu1 [2,628 B]\n",
            "Get:34 http://archive.ubuntu.com/ubuntu focal/main amd64 libxinerama-dev amd64 2:1.1.4-2 [7,896 B]\n",
            "Get:35 http://archive.ubuntu.com/ubuntu focal/main amd64 libxkbcommon-dev amd64 0.10.0-1 [45.4 kB]\n",
            "Get:36 http://archive.ubuntu.com/ubuntu focal/main amd64 x11proto-randr-dev all 2019.2-1ubuntu1 [2,620 B]\n",
            "Get:37 http://archive.ubuntu.com/ubuntu focal/main amd64 libxrandr-dev amd64 2:1.5.2-0ubuntu1 [25.0 kB]\n",
            "Get:38 http://archive.ubuntu.com/ubuntu focal/main amd64 libxv-dev amd64 2:1.0.11-1 [32.5 kB]\n",
            "Get:39 http://archive.ubuntu.com/ubuntu focal/main amd64 x11proto-xf86vidmode-dev all 2019.2-1ubuntu1 [2,624 B]\n",
            "Get:40 http://archive.ubuntu.com/ubuntu focal/main amd64 libxxf86vm-dev amd64 1:1.1.4-1build1 [13.3 kB]\n",
            "Get:41 http://archive.ubuntu.com/ubuntu focal/universe amd64 libsdl2-dev amd64 2.0.10+dfsg1-3 [718 kB]\n",
            "Get:42 http://archive.ubuntu.com/ubuntu focal/universe amd64 libsdl2-gfx-1.0-0 amd64 1.0.4+dfsg-3 [30.4 kB]\n",
            "Get:43 http://archive.ubuntu.com/ubuntu focal/universe amd64 libsdl2-gfx-dev amd64 1.0.4+dfsg-3 [29.9 kB]\n",
            "Get:44 http://archive.ubuntu.com/ubuntu focal/universe amd64 libsdl2-image-2.0-0 amd64 2.0.5+dfsg1-2 [63.8 kB]\n",
            "Get:45 http://archive.ubuntu.com/ubuntu focal/universe amd64 libsdl2-image-dev amd64 2.0.5+dfsg1-2 [69.4 kB]\n",
            "Get:46 http://archive.ubuntu.com/ubuntu focal/universe amd64 libsdl2-ttf-2.0-0 amd64 2.0.15+dfsg1-1 [15.6 kB]\n",
            "Get:47 http://archive.ubuntu.com/ubuntu focal/universe amd64 libsdl2-ttf-dev amd64 2.0.15+dfsg1-1 [20.5 kB]\n",
            "Get:48 http://archive.ubuntu.com/ubuntu focal/universe amd64 libst1 amd64 1.9-3.1ubuntu1 [20.9 kB]\n",
            "Get:49 http://archive.ubuntu.com/ubuntu focal/universe amd64 libst-dev amd64 1.9-3.1ubuntu1 [63.4 kB]\n",
            "Get:50 http://archive.ubuntu.com/ubuntu focal-updates/main amd64 libvncclient1 amd64 0.9.12+dfsg-9ubuntu0.3 [65.6 kB]\n",
            "Get:51 http://archive.ubuntu.com/ubuntu focal-updates/main amd64 libvncserver1 amd64 0.9.12+dfsg-9ubuntu0.3 [119 kB]\n",
            "Get:52 http://archive.ubuntu.com/ubuntu focal-updates/universe amd64 python-pip-whl all 20.0.2-5ubuntu1.7 [1,805 kB]\n",
            "Get:53 http://archive.ubuntu.com/ubuntu focal-updates/main amd64 python3-setuptools all 45.2.0-1ubuntu0.1 [330 kB]\n",
            "Get:54 http://archive.ubuntu.com/ubuntu focal-updates/universe amd64 python3-wheel all 0.34.2-1ubuntu0.1 [23.9 kB]\n",
            "Get:55 http://archive.ubuntu.com/ubuntu focal-updates/universe amd64 python3-pip all 20.0.2-5ubuntu1.7 [230 kB]\n",
            "Get:56 http://archive.ubuntu.com/ubuntu focal/universe amd64 x11vnc amd64 0.9.16-3 [1,006 kB]\n",
            "Get:57 http://archive.ubuntu.com/ubuntu focal-updates/universe amd64 xvfb amd64 2:1.20.13-1ubuntu1~20.04.6 [780 kB]\n",
            "Get:58 http://archive.ubuntu.com/ubuntu focal/universe amd64 mesa-utils amd64 8.4.0-1build1 [34.2 kB]\n",
            "Fetched 10.4 MB in 8s (1,281 kB/s)\n",
            "Extracting templates from packages: 100%\n",
            "Selecting previously unselected package libdirectfb-1.7-7:amd64.\n",
            "(Reading database ... 128208 files and directories currently installed.)\n",
            "Preparing to unpack .../00-libdirectfb-1.7-7_1.7.7-9build1_amd64.deb ...\n",
            "Unpacking libdirectfb-1.7-7:amd64 (1.7.7-9build1) ...\n",
            "Selecting previously unselected package lib++dfb-1.7-7:amd64.\n",
            "Preparing to unpack .../01-lib++dfb-1.7-7_1.7.7-9build1_amd64.deb ...\n",
            "Unpacking lib++dfb-1.7-7:amd64 (1.7.7-9build1) ...\n",
            "Selecting previously unselected package liba52-0.7.4:amd64.\n",
            "Preparing to unpack .../02-liba52-0.7.4_0.7.4-20_amd64.deb ...\n",
            "Unpacking liba52-0.7.4:amd64 (0.7.4-20) ...\n",
            "Selecting previously unselected package libdbus-1-dev:amd64.\n",
            "Preparing to unpack .../03-libdbus-1-dev_1.12.16-2ubuntu2.3_amd64.deb ...\n",
            "Unpacking libdbus-1-dev:amd64 (1.12.16-2ubuntu2.3) ...\n",
            "Selecting previously unselected package libgles1:amd64.\n",
            "Preparing to unpack .../04-libgles1_1.3.2-1~ubuntu0.20.04.2_amd64.deb ...\n",
            "Unpacking libgles1:amd64 (1.3.2-1~ubuntu0.20.04.2) ...\n",
            "Selecting previously unselected package libgles-dev:amd64.\n",
            "Preparing to unpack .../05-libgles-dev_1.3.2-1~ubuntu0.20.04.2_amd64.deb ...\n",
            "Unpacking libgles-dev:amd64 (1.3.2-1~ubuntu0.20.04.2) ...\n",
            "Selecting previously unselected package libopengl-dev:amd64.\n",
            "Preparing to unpack .../06-libopengl-dev_1.3.2-1~ubuntu0.20.04.2_amd64.deb ...\n",
            "Unpacking libopengl-dev:amd64 (1.3.2-1~ubuntu0.20.04.2) ...\n",
            "Selecting previously unselected package libglvnd-dev:amd64.\n",
            "Preparing to unpack .../07-libglvnd-dev_1.3.2-1~ubuntu0.20.04.2_amd64.deb ...\n",
            "Unpacking libglvnd-dev:amd64 (1.3.2-1~ubuntu0.20.04.2) ...\n",
            "Selecting previously unselected package libgl1-mesa-dev:amd64.\n",
            "Preparing to unpack .../08-libgl1-mesa-dev_21.2.6-0ubuntu0.1~20.04.2_amd64.deb ...\n",
            "Unpacking libgl1-mesa-dev:amd64 (21.2.6-0ubuntu0.1~20.04.2) ...\n",
            "Selecting previously unselected package libmpeg3-2.\n",
            "Preparing to unpack .../09-libmpeg3-2_1.8.dfsg-2.1_amd64.deb ...\n",
            "Unpacking libmpeg3-2 (1.8.dfsg-2.1) ...\n",
            "Selecting previously unselected package libmpeg3-dev.\n",
            "Preparing to unpack .../10-libmpeg3-dev_1.8.dfsg-2.1_amd64.deb ...\n",
            "Unpacking libmpeg3-dev (1.8.dfsg-2.1) ...\n",
            "Selecting previously unselected package libdirectfb-dev:amd64.\n",
            "Preparing to unpack .../11-libdirectfb-dev_1.7.7-9build1_amd64.deb ...\n",
            "Unpacking libdirectfb-dev:amd64 (1.7.7-9build1) ...\n",
            "Selecting previously unselected package libegl1-mesa-dev:amd64.\n",
            "Preparing to unpack .../12-libegl1-mesa-dev_21.2.6-0ubuntu0.1~20.04.2_amd64.deb ...\n",
            "Unpacking libegl1-mesa-dev:amd64 (21.2.6-0ubuntu0.1~20.04.2) ...\n",
            "Selecting previously unselected package libgles2-mesa-dev:amd64.\n",
            "Preparing to unpack .../13-libgles2-mesa-dev_21.2.6-0ubuntu0.1~20.04.2_amd64.deb ...\n",
            "Unpacking libgles2-mesa-dev:amd64 (21.2.6-0ubuntu0.1~20.04.2) ...\n",
            "Selecting previously unselected package libffi-dev:amd64.\n",
            "Preparing to unpack .../14-libffi-dev_3.3-4_amd64.deb ...\n",
            "Unpacking libffi-dev:amd64 (3.3-4) ...\n",
            "Selecting previously unselected package libglib2.0-dev-bin.\n",
            "Preparing to unpack .../15-libglib2.0-dev-bin_2.64.6-1~ubuntu20.04.4_amd64.deb ...\n",
            "Unpacking libglib2.0-dev-bin (2.64.6-1~ubuntu20.04.4) ...\n",
            "Selecting previously unselected package libblkid-dev:amd64.\n",
            "Preparing to unpack .../16-libblkid-dev_2.34-0.1ubuntu9.3_amd64.deb ...\n",
            "Unpacking libblkid-dev:amd64 (2.34-0.1ubuntu9.3) ...\n",
            "Selecting previously unselected package libmount-dev:amd64.\n",
            "Preparing to unpack .../17-libmount-dev_2.34-0.1ubuntu9.3_amd64.deb ...\n",
            "Unpacking libmount-dev:amd64 (2.34-0.1ubuntu9.3) ...\n",
            "Selecting previously unselected package libsepol1-dev:amd64.\n",
            "Preparing to unpack .../18-libsepol1-dev_3.0-1ubuntu0.1_amd64.deb ...\n",
            "Unpacking libsepol1-dev:amd64 (3.0-1ubuntu0.1) ...\n",
            "Selecting previously unselected package libselinux1-dev:amd64.\n",
            "Preparing to unpack .../19-libselinux1-dev_3.0-1build2_amd64.deb ...\n",
            "Unpacking libselinux1-dev:amd64 (3.0-1build2) ...\n",
            "Selecting previously unselected package libglib2.0-dev:amd64.\n",
            "Preparing to unpack .../20-libglib2.0-dev_2.64.6-1~ubuntu20.04.4_amd64.deb ...\n",
            "Unpacking libglib2.0-dev:amd64 (2.64.6-1~ubuntu20.04.4) ...\n",
            "Selecting previously unselected package libibus-1.0-dev:amd64.\n",
            "Preparing to unpack .../21-libibus-1.0-dev_1.5.22-2ubuntu2.1_amd64.deb ...\n",
            "Unpacking libibus-1.0-dev:amd64 (1.5.22-2ubuntu2.1) ...\n",
            "Selecting previously unselected package liblzo2-2:amd64.\n",
            "Preparing to unpack .../22-liblzo2-2_2.10-2_amd64.deb ...\n",
            "Unpacking liblzo2-2:amd64 (2.10-2) ...\n",
            "Selecting previously unselected package libpulse-dev:amd64.\n",
            "Preparing to unpack .../23-libpulse-dev_1%3a13.99.1-1ubuntu3.13_amd64.deb ...\n",
            "Unpacking libpulse-dev:amd64 (1:13.99.1-1ubuntu3.13) ...\n",
            "Selecting previously unselected package libsndio-dev:amd64.\n",
            "Preparing to unpack .../24-libsndio-dev_1.5.0-3_amd64.deb ...\n",
            "Unpacking libsndio-dev:amd64 (1.5.0-3) ...\n",
            "Selecting previously unselected package libudev-dev:amd64.\n",
            "Preparing to unpack .../25-libudev-dev_245.4-4ubuntu3.19_amd64.deb ...\n",
            "Unpacking libudev-dev:amd64 (245.4-4ubuntu3.19) ...\n",
            "Selecting previously unselected package libwayland-bin.\n",
            "Preparing to unpack .../26-libwayland-bin_1.18.0-1ubuntu0.1_amd64.deb ...\n",
            "Unpacking libwayland-bin (1.18.0-1ubuntu0.1) ...\n",
            "Selecting previously unselected package libwayland-dev:amd64.\n",
            "Preparing to unpack .../27-libwayland-dev_1.18.0-1ubuntu0.1_amd64.deb ...\n",
            "Unpacking libwayland-dev:amd64 (1.18.0-1ubuntu0.1) ...\n",
            "Selecting previously unselected package libxfixes-dev:amd64.\n",
            "Preparing to unpack .../28-libxfixes-dev_1%3a5.0.3-2_amd64.deb ...\n",
            "Unpacking libxfixes-dev:amd64 (1:5.0.3-2) ...\n",
            "Selecting previously unselected package libxcursor-dev:amd64.\n",
            "Preparing to unpack .../29-libxcursor-dev_1%3a1.2.0-2_amd64.deb ...\n",
            "Unpacking libxcursor-dev:amd64 (1:1.2.0-2) ...\n",
            "Selecting previously unselected package x11proto-input-dev.\n",
            "Preparing to unpack .../30-x11proto-input-dev_2019.2-1ubuntu1_all.deb ...\n",
            "Unpacking x11proto-input-dev (2019.2-1ubuntu1) ...\n",
            "Selecting previously unselected package libxi-dev:amd64.\n",
            "Preparing to unpack .../31-libxi-dev_2%3a1.7.10-0ubuntu1_amd64.deb ...\n",
            "Unpacking libxi-dev:amd64 (2:1.7.10-0ubuntu1) ...\n",
            "Selecting previously unselected package x11proto-xinerama-dev.\n",
            "Preparing to unpack .../32-x11proto-xinerama-dev_2019.2-1ubuntu1_all.deb ...\n",
            "Unpacking x11proto-xinerama-dev (2019.2-1ubuntu1) ...\n",
            "Selecting previously unselected package libxinerama-dev:amd64.\n",
            "Preparing to unpack .../33-libxinerama-dev_2%3a1.1.4-2_amd64.deb ...\n",
            "Unpacking libxinerama-dev:amd64 (2:1.1.4-2) ...\n",
            "Selecting previously unselected package libxkbcommon-dev:amd64.\n",
            "Preparing to unpack .../34-libxkbcommon-dev_0.10.0-1_amd64.deb ...\n",
            "Unpacking libxkbcommon-dev:amd64 (0.10.0-1) ...\n",
            "Selecting previously unselected package x11proto-randr-dev.\n",
            "Preparing to unpack .../35-x11proto-randr-dev_2019.2-1ubuntu1_all.deb ...\n",
            "Unpacking x11proto-randr-dev (2019.2-1ubuntu1) ...\n",
            "Selecting previously unselected package libxrandr-dev:amd64.\n",
            "Preparing to unpack .../36-libxrandr-dev_2%3a1.5.2-0ubuntu1_amd64.deb ...\n",
            "Unpacking libxrandr-dev:amd64 (2:1.5.2-0ubuntu1) ...\n",
            "Selecting previously unselected package libxv-dev:amd64.\n",
            "Preparing to unpack .../37-libxv-dev_2%3a1.0.11-1_amd64.deb ...\n",
            "Unpacking libxv-dev:amd64 (2:1.0.11-1) ...\n",
            "Selecting previously unselected package x11proto-xf86vidmode-dev.\n",
            "Preparing to unpack .../38-x11proto-xf86vidmode-dev_2019.2-1ubuntu1_all.deb ...\n",
            "Unpacking x11proto-xf86vidmode-dev (2019.2-1ubuntu1) ...\n",
            "Selecting previously unselected package libxxf86vm-dev:amd64.\n",
            "Preparing to unpack .../39-libxxf86vm-dev_1%3a1.1.4-1build1_amd64.deb ...\n",
            "Unpacking libxxf86vm-dev:amd64 (1:1.1.4-1build1) ...\n",
            "Selecting previously unselected package libsdl2-dev:amd64.\n",
            "Preparing to unpack .../40-libsdl2-dev_2.0.10+dfsg1-3_amd64.deb ...\n",
            "Unpacking libsdl2-dev:amd64 (2.0.10+dfsg1-3) ...\n",
            "Selecting previously unselected package libsdl2-gfx-1.0-0:amd64.\n",
            "Preparing to unpack .../41-libsdl2-gfx-1.0-0_1.0.4+dfsg-3_amd64.deb ...\n",
            "Unpacking libsdl2-gfx-1.0-0:amd64 (1.0.4+dfsg-3) ...\n",
            "Selecting previously unselected package libsdl2-gfx-dev:amd64.\n",
            "Preparing to unpack .../42-libsdl2-gfx-dev_1.0.4+dfsg-3_amd64.deb ...\n",
            "Unpacking libsdl2-gfx-dev:amd64 (1.0.4+dfsg-3) ...\n",
            "Selecting previously unselected package libsdl2-image-2.0-0:amd64.\n",
            "Preparing to unpack .../43-libsdl2-image-2.0-0_2.0.5+dfsg1-2_amd64.deb ...\n",
            "Unpacking libsdl2-image-2.0-0:amd64 (2.0.5+dfsg1-2) ...\n",
            "Selecting previously unselected package libsdl2-image-dev:amd64.\n",
            "Preparing to unpack .../44-libsdl2-image-dev_2.0.5+dfsg1-2_amd64.deb ...\n",
            "Unpacking libsdl2-image-dev:amd64 (2.0.5+dfsg1-2) ...\n",
            "Selecting previously unselected package libsdl2-ttf-2.0-0:amd64.\n",
            "Preparing to unpack .../45-libsdl2-ttf-2.0-0_2.0.15+dfsg1-1_amd64.deb ...\n",
            "Unpacking libsdl2-ttf-2.0-0:amd64 (2.0.15+dfsg1-1) ...\n",
            "Selecting previously unselected package libsdl2-ttf-dev:amd64.\n",
            "Preparing to unpack .../46-libsdl2-ttf-dev_2.0.15+dfsg1-1_amd64.deb ...\n",
            "Unpacking libsdl2-ttf-dev:amd64 (2.0.15+dfsg1-1) ...\n",
            "Selecting previously unselected package libst1.\n",
            "Preparing to unpack .../47-libst1_1.9-3.1ubuntu1_amd64.deb ...\n",
            "Unpacking libst1 (1.9-3.1ubuntu1) ...\n",
            "Selecting previously unselected package libst-dev.\n",
            "Preparing to unpack .../48-libst-dev_1.9-3.1ubuntu1_amd64.deb ...\n",
            "Unpacking libst-dev (1.9-3.1ubuntu1) ...\n",
            "Selecting previously unselected package libvncclient1:amd64.\n",
            "Preparing to unpack .../49-libvncclient1_0.9.12+dfsg-9ubuntu0.3_amd64.deb ...\n",
            "Unpacking libvncclient1:amd64 (0.9.12+dfsg-9ubuntu0.3) ...\n",
            "Selecting previously unselected package libvncserver1:amd64.\n",
            "Preparing to unpack .../50-libvncserver1_0.9.12+dfsg-9ubuntu0.3_amd64.deb ...\n",
            "Unpacking libvncserver1:amd64 (0.9.12+dfsg-9ubuntu0.3) ...\n",
            "Selecting previously unselected package python-pip-whl.\n",
            "Preparing to unpack .../51-python-pip-whl_20.0.2-5ubuntu1.7_all.deb ...\n",
            "Unpacking python-pip-whl (20.0.2-5ubuntu1.7) ...\n",
            "Selecting previously unselected package python3-setuptools.\n",
            "Preparing to unpack .../52-python3-setuptools_45.2.0-1ubuntu0.1_all.deb ...\n",
            "Unpacking python3-setuptools (45.2.0-1ubuntu0.1) ...\n",
            "Selecting previously unselected package python3-wheel.\n",
            "Preparing to unpack .../53-python3-wheel_0.34.2-1ubuntu0.1_all.deb ...\n",
            "Unpacking python3-wheel (0.34.2-1ubuntu0.1) ...\n",
            "Selecting previously unselected package python3-pip.\n",
            "Preparing to unpack .../54-python3-pip_20.0.2-5ubuntu1.7_all.deb ...\n",
            "Unpacking python3-pip (20.0.2-5ubuntu1.7) ...\n",
            "Selecting previously unselected package x11vnc.\n",
            "Preparing to unpack .../55-x11vnc_0.9.16-3_amd64.deb ...\n",
            "Unpacking x11vnc (0.9.16-3) ...\n",
            "Selecting previously unselected package xvfb.\n",
            "Preparing to unpack .../56-xvfb_2%3a1.20.13-1ubuntu1~20.04.6_amd64.deb ...\n",
            "Unpacking xvfb (2:1.20.13-1ubuntu1~20.04.6) ...\n",
            "Selecting previously unselected package mesa-utils.\n",
            "Preparing to unpack .../57-mesa-utils_8.4.0-1build1_amd64.deb ...\n",
            "Unpacking mesa-utils (8.4.0-1build1) ...\n",
            "Setting up libsdl2-image-2.0-0:amd64 (2.0.5+dfsg1-2) ...\n",
            "Setting up libglib2.0-dev-bin (2.64.6-1~ubuntu20.04.4) ...\n",
            "Setting up libst1 (1.9-3.1ubuntu1) ...\n",
            "Setting up libblkid-dev:amd64 (2.34-0.1ubuntu9.3) ...\n",
            "Setting up libsndio-dev:amd64 (1.5.0-3) ...\n",
            "Setting up python3-setuptools (45.2.0-1ubuntu0.1) ...\n",
            "Setting up x11proto-randr-dev (2019.2-1ubuntu1) ...\n",
            "Setting up xvfb (2:1.20.13-1ubuntu1~20.04.6) ...\n",
            "Setting up libxkbcommon-dev:amd64 (0.10.0-1) ...\n",
            "Setting up libsepol1-dev:amd64 (3.0-1ubuntu0.1) ...\n",
            "Setting up liblzo2-2:amd64 (2.10-2) ...\n",
            "Setting up libffi-dev:amd64 (3.3-4) ...\n",
            "Setting up x11proto-xinerama-dev (2019.2-1ubuntu1) ...\n",
            "Setting up python3-wheel (0.34.2-1ubuntu0.1) ...\n",
            "Setting up libvncserver1:amd64 (0.9.12+dfsg-9ubuntu0.3) ...\n",
            "Setting up libst-dev (1.9-3.1ubuntu1) ...\n",
            "Setting up libxfixes-dev:amd64 (1:5.0.3-2) ...\n",
            "Setting up libvncclient1:amd64 (0.9.12+dfsg-9ubuntu0.3) ...\n",
            "Setting up liba52-0.7.4:amd64 (0.7.4-20) ...\n",
            "Setting up libxv-dev:amd64 (2:1.0.11-1) ...\n",
            "Setting up libwayland-bin (1.18.0-1ubuntu0.1) ...\n",
            "Setting up libmpeg3-2 (1.8.dfsg-2.1) ...\n",
            "Setting up libxrandr-dev:amd64 (2:1.5.2-0ubuntu1) ...\n",
            "Setting up mesa-utils (8.4.0-1build1) ...\n",
            "Setting up libdbus-1-dev:amd64 (1.12.16-2ubuntu2.3) ...\n",
            "Setting up libgles1:amd64 (1.3.2-1~ubuntu0.20.04.2) ...\n",
            "Setting up x11proto-input-dev (2019.2-1ubuntu1) ...\n",
            "Setting up libudev-dev:amd64 (245.4-4ubuntu3.19) ...\n",
            "Setting up libxinerama-dev:amd64 (2:1.1.4-2) ...\n",
            "Setting up x11proto-xf86vidmode-dev (2019.2-1ubuntu1) ...\n",
            "Setting up libsdl2-ttf-2.0-0:amd64 (2.0.15+dfsg1-1) ...\n",
            "Setting up python-pip-whl (20.0.2-5ubuntu1.7) ...\n",
            "Setting up libopengl-dev:amd64 (1.3.2-1~ubuntu0.20.04.2) ...\n",
            "Setting up libgles-dev:amd64 (1.3.2-1~ubuntu0.20.04.2) ...\n",
            "Setting up libxi-dev:amd64 (2:1.7.10-0ubuntu1) ...\n",
            "Setting up libdirectfb-1.7-7:amd64 (1.7.7-9build1) ...\n",
            "Setting up libmount-dev:amd64 (2.34-0.1ubuntu9.3) ...\n",
            "Setting up libsdl2-gfx-1.0-0:amd64 (1.0.4+dfsg-3) ...\n",
            "Setting up libmpeg3-dev (1.8.dfsg-2.1) ...\n",
            "Setting up libselinux1-dev:amd64 (3.0-1build2) ...\n",
            "Setting up libxcursor-dev:amd64 (1:1.2.0-2) ...\n",
            "Setting up libxxf86vm-dev:amd64 (1:1.1.4-1build1) ...\n",
            "Setting up libglvnd-dev:amd64 (1.3.2-1~ubuntu0.20.04.2) ...\n",
            "Setting up libwayland-dev:amd64 (1.18.0-1ubuntu0.1) ...\n",
            "Setting up x11vnc (0.9.16-3) ...\n",
            "Setting up libglib2.0-dev:amd64 (2.64.6-1~ubuntu20.04.4) ...\n",
            "Setting up python3-pip (20.0.2-5ubuntu1.7) ...\n",
            "Setting up lib++dfb-1.7-7:amd64 (1.7.7-9build1) ...\n",
            "Setting up libgl1-mesa-dev:amd64 (21.2.6-0ubuntu0.1~20.04.2) ...\n",
            "Setting up libegl1-mesa-dev:amd64 (21.2.6-0ubuntu0.1~20.04.2) ...\n",
            "Setting up libgles2-mesa-dev:amd64 (21.2.6-0ubuntu0.1~20.04.2) ...\n",
            "Setting up libdirectfb-dev:amd64 (1.7.7-9build1) ...\n",
            "Processing triggers for mime-support (3.64ubuntu1) ...\n",
            "Processing triggers for libglib2.0-0:amd64 (2.64.6-1~ubuntu20.04.4) ...\n",
            "Processing triggers for libc-bin (2.31-0ubuntu9.9) ...\n",
            "Processing triggers for man-db (2.9.1-1) ...\n",
            "Setting up libibus-1.0-dev:amd64 (1.5.22-2ubuntu2.1) ...\n",
            "Setting up libpulse-dev:amd64 (1:13.99.1-1ubuntu3.13) ...\n",
            "Setting up libsdl2-dev:amd64 (2.0.10+dfsg1-3) ...\n",
            "Setting up libsdl2-ttf-dev:amd64 (2.0.15+dfsg1-1) ...\n",
            "Setting up libsdl2-image-dev:amd64 (2.0.5+dfsg1-2) ...\n",
            "Setting up libsdl2-gfx-dev:amd64 (1.0.4+dfsg-3) ...\n"
          ]
        }
      ],
      "source": [
        "!apt-get install git cmake build-essential libgl1-mesa-dev libsdl2-dev \\\n",
        "libsdl2-image-dev libsdl2-ttf-dev libsdl2-gfx-dev libboost-all-dev \\\n",
        "libdirectfb-dev libst-dev mesa-utils xvfb x11vnc python3-pip\n",
        "\n"
      ]
    },
    {
      "cell_type": "code",
      "execution_count": 3,
      "metadata": {
        "colab": {
          "base_uri": "https://localhost:8080/"
        },
        "id": "0ydSw1-dRCVn",
        "outputId": "205f69e8-dcbf-4b21-ae55-cd7bbc2491a3"
      },
      "outputs": [
        {
          "output_type": "stream",
          "name": "stdout",
          "text": [
            "Looking in indexes: https://pypi.org/simple, https://us-python.pkg.dev/colab-wheels/public/simple/\n",
            "Requirement already satisfied: pip in /usr/local/lib/python3.8/dist-packages (22.0.4)\n",
            "Collecting pip\n",
            "  Downloading pip-23.0.1-py3-none-any.whl (2.1 MB)\n",
            "\u001b[2K     \u001b[90m━━━━━━━━━━━━━━━━━━━━━━━━━━━━━━━━━━━━━━━━\u001b[0m \u001b[32m2.1/2.1 MB\u001b[0m \u001b[31m24.8 MB/s\u001b[0m eta \u001b[36m0:00:00\u001b[0m\n",
            "\u001b[?25hRequirement already satisfied: setuptools in /usr/local/lib/python3.8/dist-packages (57.4.0)\n",
            "Collecting setuptools\n",
            "  Downloading setuptools-67.4.0-py3-none-any.whl (1.1 MB)\n",
            "\u001b[2K     \u001b[90m━━━━━━━━━━━━━━━━━━━━━━━━━━━━━━━━━━━━━━━━\u001b[0m \u001b[32m1.1/1.1 MB\u001b[0m \u001b[31m49.9 MB/s\u001b[0m eta \u001b[36m0:00:00\u001b[0m\n",
            "\u001b[?25hRequirement already satisfied: psutil in /usr/local/lib/python3.8/dist-packages (5.4.8)\n",
            "Collecting psutil\n",
            "  Downloading psutil-5.9.4-cp36-abi3-manylinux_2_12_x86_64.manylinux2010_x86_64.manylinux_2_17_x86_64.manylinux2014_x86_64.whl (280 kB)\n",
            "\u001b[2K     \u001b[90m━━━━━━━━━━━━━━━━━━━━━━━━━━━━━━━━━━━━━━\u001b[0m \u001b[32m280.2/280.2 KB\u001b[0m \u001b[31m23.1 MB/s\u001b[0m eta \u001b[36m0:00:00\u001b[0m\n",
            "\u001b[?25hRequirement already satisfied: wheel in /usr/local/lib/python3.8/dist-packages (0.38.4)\n",
            "Installing collected packages: setuptools, psutil, pip\n",
            "  Attempting uninstall: setuptools\n",
            "    Found existing installation: setuptools 57.4.0\n",
            "    Uninstalling setuptools-57.4.0:\n",
            "      Successfully uninstalled setuptools-57.4.0\n",
            "  Attempting uninstall: psutil\n",
            "    Found existing installation: psutil 5.4.8\n",
            "    Uninstalling psutil-5.4.8:\n",
            "      Successfully uninstalled psutil-5.4.8\n",
            "  Attempting uninstall: pip\n",
            "    Found existing installation: pip 22.0.4\n",
            "    Uninstalling pip-22.0.4:\n",
            "      Successfully uninstalled pip-22.0.4\n",
            "\u001b[31mERROR: pip's dependency resolver does not currently take into account all the packages that are installed. This behaviour is the source of the following dependency conflicts.\n",
            "ipython 7.9.0 requires jedi>=0.10, which is not installed.\n",
            "cvxpy 1.2.3 requires setuptools<=64.0.2, but you have setuptools 67.4.0 which is incompatible.\u001b[0m\u001b[31m\n",
            "\u001b[0mSuccessfully installed pip-23.0.1 psutil-5.9.4 setuptools-67.4.0\n"
          ]
        }
      ],
      "source": [
        "!python3 -m pip install --upgrade pip setuptools psutil wheel"
      ]
    },
    {
      "cell_type": "code",
      "execution_count": 4,
      "metadata": {
        "colab": {
          "base_uri": "https://localhost:8080/"
        },
        "id": "o3Xv28lYRMog",
        "outputId": "679ebe05-5c6f-4e23-a908-076c6aedd9e0"
      },
      "outputs": [
        {
          "output_type": "stream",
          "name": "stdout",
          "text": [
            "Looking in indexes: https://pypi.org/simple, https://us-python.pkg.dev/colab-wheels/public/simple/\n",
            "Collecting gfootball\n",
            "  Downloading gfootball-2.10.2.tar.gz (8.7 MB)\n",
            "\u001b[2K     \u001b[90m━━━━━━━━━━━━━━━━━━━━━━━━━━━━━━━━━━━━━━━━\u001b[0m \u001b[32m8.7/8.7 MB\u001b[0m \u001b[31m25.9 MB/s\u001b[0m eta \u001b[36m0:00:00\u001b[0m\n",
            "\u001b[?25h  Preparing metadata (setup.py) ... \u001b[?25l\u001b[?25hdone\n",
            "Collecting pygame>=1.9.6\n",
            "  Downloading pygame-2.2.0-cp38-cp38-manylinux_2_17_x86_64.manylinux2014_x86_64.whl (13.7 MB)\n",
            "\u001b[2K     \u001b[90m━━━━━━━━━━━━━━━━━━━━━━━━━━━━━━━━━━━━━━━━\u001b[0m \u001b[32m13.7/13.7 MB\u001b[0m \u001b[31m19.0 MB/s\u001b[0m eta \u001b[36m0:00:00\u001b[0m\n",
            "\u001b[?25hRequirement already satisfied: opencv-python in /usr/local/lib/python3.8/dist-packages (from gfootball) (4.6.0.66)\n",
            "Requirement already satisfied: psutil in /usr/local/lib/python3.8/dist-packages (from gfootball) (5.9.4)\n",
            "Requirement already satisfied: scipy in /usr/local/lib/python3.8/dist-packages (from gfootball) (1.7.3)\n",
            "Requirement already satisfied: gym>=0.11.0 in /usr/local/lib/python3.8/dist-packages (from gfootball) (0.25.2)\n",
            "Requirement already satisfied: absl-py in /usr/local/lib/python3.8/dist-packages (from gfootball) (1.4.0)\n",
            "Requirement already satisfied: wheel in /usr/local/lib/python3.8/dist-packages (from gfootball) (0.38.4)\n",
            "Requirement already satisfied: cloudpickle>=1.2.0 in /usr/local/lib/python3.8/dist-packages (from gym>=0.11.0->gfootball) (2.2.1)\n",
            "Requirement already satisfied: gym-notices>=0.0.4 in /usr/local/lib/python3.8/dist-packages (from gym>=0.11.0->gfootball) (0.0.8)\n",
            "Requirement already satisfied: numpy>=1.18.0 in /usr/local/lib/python3.8/dist-packages (from gym>=0.11.0->gfootball) (1.22.4)\n",
            "Requirement already satisfied: importlib-metadata>=4.8.0 in /usr/local/lib/python3.8/dist-packages (from gym>=0.11.0->gfootball) (6.0.0)\n",
            "Requirement already satisfied: zipp>=0.5 in /usr/local/lib/python3.8/dist-packages (from importlib-metadata>=4.8.0->gym>=0.11.0->gfootball) (3.15.0)\n",
            "Building wheels for collected packages: gfootball\n",
            "  Building wheel for gfootball (setup.py) ... \u001b[?25l\u001b[?25hdone\n",
            "  Created wheel for gfootball: filename=gfootball-2.10.2-cp38-cp38-linux_x86_64.whl size=32416346 sha256=f49aafc7bec30c24dd0f1e9b4755432b097c293b1f56783e00c25b5bc56d3754\n",
            "  Stored in directory: /root/.cache/pip/wheels/b8/b6/db/d2a715d01601e711f1caeaf1d1ba12b2b25f8e9ec0f9114bc2\n",
            "Successfully built gfootball\n",
            "Installing collected packages: pygame, gfootball\n",
            "Successfully installed gfootball-2.10.2 pygame-2.2.0\n",
            "\u001b[33mWARNING: Running pip as the 'root' user can result in broken permissions and conflicting behaviour with the system package manager. It is recommended to use a virtual environment instead: https://pip.pypa.io/warnings/venv\u001b[0m\u001b[33m\n",
            "\u001b[0m"
          ]
        }
      ],
      "source": [
        "!python3 -m pip install gfootball"
      ]
    },
    {
      "cell_type": "code",
      "execution_count": 5,
      "metadata": {
        "colab": {
          "base_uri": "https://localhost:8080/"
        },
        "id": "DLSaYioqSsHr",
        "outputId": "f54a8c8a-cae8-43b9-e65b-c2cc372c9da2"
      },
      "outputs": [
        {
          "output_type": "stream",
          "name": "stdout",
          "text": [
            "/usr/local/lib/python3.8/dist-packages/pkg_resources/__init__.py:2804: DeprecationWarning: Deprecated call to `pkg_resources.declare_namespace('google')`.\n",
            "Implementing implicit namespace packages (as specified in PEP 420) is preferred to `pkg_resources.declare_namespace`. See https://setuptools.pypa.io/en/latest/references/keywords.html#keyword-namespace-packages\n",
            "  declare_namespace(pkg)\n",
            "/usr/local/lib/python3.8/dist-packages/pkg_resources/__init__.py:2804: DeprecationWarning: Deprecated call to `pkg_resources.declare_namespace('google.cloud')`.\n",
            "Implementing implicit namespace packages (as specified in PEP 420) is preferred to `pkg_resources.declare_namespace`. See https://setuptools.pypa.io/en/latest/references/keywords.html#keyword-namespace-packages\n",
            "  declare_namespace(pkg)\n",
            "/usr/local/lib/python3.8/dist-packages/pkg_resources/__init__.py:2804: DeprecationWarning: Deprecated call to `pkg_resources.declare_namespace('google.logging')`.\n",
            "Implementing implicit namespace packages (as specified in PEP 420) is preferred to `pkg_resources.declare_namespace`. See https://setuptools.pypa.io/en/latest/references/keywords.html#keyword-namespace-packages\n",
            "  declare_namespace(pkg)\n",
            "/usr/local/lib/python3.8/dist-packages/pkg_resources/__init__.py:2804: DeprecationWarning: Deprecated call to `pkg_resources.declare_namespace('mpl_toolkits')`.\n",
            "Implementing implicit namespace packages (as specified in PEP 420) is preferred to `pkg_resources.declare_namespace`. See https://setuptools.pypa.io/en/latest/references/keywords.html#keyword-namespace-packages\n",
            "  declare_namespace(pkg)\n",
            "/usr/local/lib/python3.8/dist-packages/pkg_resources/__init__.py:2804: DeprecationWarning: Deprecated call to `pkg_resources.declare_namespace('sphinxcontrib')`.\n",
            "Implementing implicit namespace packages (as specified in PEP 420) is preferred to `pkg_resources.declare_namespace`. See https://setuptools.pypa.io/en/latest/references/keywords.html#keyword-namespace-packages\n",
            "  declare_namespace(pkg)\n",
            "No DISPLAY defined, doing off-screen rendering\n",
            "Tue Feb 28 20:17:14 2023 [FATAL ERROR !!! N00000 !!!] in [OpenGLRenderer3D::CreateContextEgl]: Failed on construct EGL Display\n",
            "/usr/local/lib/python3.8/dist-packages/gfootball_engine/_gameplayfootball.so(_Z16print_stacktracev+0x2f)[0x7f47930ffcff]\n",
            "/usr/local/lib/python3.8/dist-packages/gfootball_engine/_gameplayfootball.so(_ZN7blunted3LogENS_9e_LogTypeENSt7__cxx1112basic_stringIcSt11char_traitsIcESaIcEEES6_S6_+0x33c)[0x7f47931f2e4c]\n",
            "/usr/local/lib/python3.8/dist-packages/gfootball_engine/_gameplayfootball.so(_ZN7blunted16OpenGLRenderer3D16CreateContextEglEv+0x13d0)[0x7f4793238180]\n",
            "/usr/local/lib/python3.8/dist-packages/gfootball_engine/_gameplayfootball.so(_ZN7blunted16OpenGLRenderer3D13CreateContextEiiib+0x6cc)[0x7f479323a48c]\n",
            "/usr/local/lib/python3.8/dist-packages/gfootball_engine/_gameplayfootball.so(_ZN7blunted14GraphicsSystem10InitializeEbii+0x182)[0x7f47932002f2]\n",
            "/usr/local/lib/python3.8/dist-packages/gfootball_engine/_gameplayfootball.so(_Z8run_gamePN7blunted10PropertiesEb+0x7c)[0x7f479310791c]\n",
            "/usr/local/lib/python3.8/dist-packages/gfootball_engine/_gameplayfootball.so(_ZN7GameEnv10start_gameEv+0x23e)[0x7f479315378e]\n",
            "/usr/local/lib/python3.8/dist-packages/gfootball_engine/_gameplayfootball.so(_ZN5boost6python7objects23caller_py_function_implINS0_6detail6callerIM7GameEnvFvvENS0_21default_call_policiesENS_3mpl7vector2IvR14GameEnv_PythonEEEEEclEP7_objectSH_+0x46)[0x7f479311ebd6]\n",
            "/lib/x86_64-linux-gnu/libboost_python38.so.1.71.0(_ZNK5boost6python7objects8function4callEP7_objectS4_+0x2cb)[0x7f4792911eab]\n",
            "/lib/x86_64-linux-gnu/libboost_python38.so.1.71.0(+0x2115c)[0x7f479291215c]\n",
            "/lib/x86_64-linux-gnu/libboost_python38.so.1.71.0(_ZN5boost6python21handle_exception_implENS_9function0IvEE+0x73)[0x7f4792917233]\n",
            "/lib/x86_64-linux-gnu/libboost_python38.so.1.71.0(+0x1e6c6)[0x7f479290f6c6]\n",
            "python3(_PyObject_MakeTpCall+0x296)[0x5f6706]\n",
            "python3[0x50ba83]\n",
            "python3(_PyEval_EvalFrameDefault+0x57f2)[0x570b82]\n",
            "python3(_PyEval_EvalCodeWithName+0x26a)[0x569d8a]\n",
            "python3[0x50b3a0]\n",
            "python3(_PyEval_EvalFrameDefault+0x1902)[0x56cc92]\n",
            "python3(_PyEval_EvalCodeWithName+0x26a)[0x569d8a]\n",
            "python3[0x50b3a0]\n",
            "/usr/local/lib/python3.8/dist-packages/gfootball_engine/_gameplayfootball.so(_Z16print_stacktracev+0x2f)[0x7f47930ffcff]\n",
            "/usr/local/lib/python3.8/dist-packages/gfootball_engine/_gameplayfootball.so(_Z7handleri+0xe)[0x7f47930ffd3e]\n",
            "/lib/x86_64-linux-gnu/libc.so.6(+0x43090)[0x7f4793cfa090]\n",
            "/usr/local/lib/python3.8/dist-packages/gfootball_engine/_gameplayfootball.so(_ZN7blunted3LogENS_9e_LogTypeENSt7__cxx1112basic_stringIcSt11char_traitsIcESaIcEEES6_S6_+0x33c)[0x7f47931f2e4c]\n",
            "/usr/local/lib/python3.8/dist-packages/gfootball_engine/_gameplayfootball.so(_ZN7blunted16OpenGLRenderer3D16CreateContextEglEv+0x13d0)[0x7f4793238180]\n",
            "/usr/local/lib/python3.8/dist-packages/gfootball_engine/_gameplayfootball.so(_ZN7blunted16OpenGLRenderer3D13CreateContextEiiib+0x6cc)[0x7f479323a48c]\n",
            "/usr/local/lib/python3.8/dist-packages/gfootball_engine/_gameplayfootball.so(_ZN7blunted14GraphicsSystem10InitializeEbii+0x182)[0x7f47932002f2]\n",
            "/usr/local/lib/python3.8/dist-packages/gfootball_engine/_gameplayfootball.so(_Z8run_gamePN7blunted10PropertiesEb+0x7c)[0x7f479310791c]\n",
            "/usr/local/lib/python3.8/dist-packages/gfootball_engine/_gameplayfootball.so(_ZN7GameEnv10start_gameEv+0x23e)[0x7f479315378e]\n",
            "/usr/local/lib/python3.8/dist-packages/gfootball_engine/_gameplayfootball.so(_ZN5boost6python7objects23caller_py_function_implINS0_6detail6callerIM7GameEnvFvvENS0_21default_call_policiesENS_3mpl7vector2IvR14GameEnv_PythonEEEEEclEP7_objectSH_+0x46)[0x7f479311ebd6]\n",
            "/lib/x86_64-linux-gnu/libboost_python38.so.1.71.0(_ZNK5boost6python7objects8function4callEP7_objectS4_+0x2cb)[0x7f4792911eab]\n",
            "/lib/x86_64-linux-gnu/libboost_python38.so.1.71.0(+0x2115c)[0x7f479291215c]\n",
            "/lib/x86_64-linux-gnu/libboost_python38.so.1.71.0(_ZN5boost6python21handle_exception_implENS_9function0IvEE+0x73)[0x7f4792917233]\n",
            "/lib/x86_64-linux-gnu/libboost_python38.so.1.71.0(+0x1e6c6)[0x7f479290f6c6]\n",
            "python3(_PyObject_MakeTpCall+0x296)[0x5f6706]\n",
            "python3[0x50ba83]\n",
            "python3(_PyEval_EvalFrameDefault+0x57f2)[0x570b82]\n",
            "python3(_PyEval_EvalCodeWithName+0x26a)[0x569d8a]\n",
            "python3[0x50b3a0]\n",
            "python3(_PyEval_EvalFrameDefault+0x1902)[0x56cc92]\n",
            "Error: signal 11:\n"
          ]
        }
      ],
      "source": [
        "!python3 -m gfootball.play_game --action_set=full"
      ]
    },
    {
      "cell_type": "code",
      "execution_count": 6,
      "metadata": {
        "colab": {
          "base_uri": "https://localhost:8080/"
        },
        "id": "ZuYTnP3UTGib",
        "outputId": "cf76f969-3576-4dab-9b06-d36ed585d5fd"
      },
      "outputs": [
        {
          "output_type": "stream",
          "name": "stdout",
          "text": [
            "Looking in indexes: https://pypi.org/simple, https://us-python.pkg.dev/colab-wheels/public/simple/\n",
            "Collecting git+https://github.com/openai/baselines.git@master\n",
            "  Cloning https://github.com/openai/baselines.git (to revision master) to /tmp/pip-req-build-bq30e99f\n",
            "  Running command git clone --filter=blob:none --quiet https://github.com/openai/baselines.git /tmp/pip-req-build-bq30e99f\n",
            "  Resolved https://github.com/openai/baselines.git to commit ea25b9e8b234e6ee1bca43083f8f3cf974143998\n",
            "  Preparing metadata (setup.py) ... \u001b[?25l\u001b[?25hdone\n",
            "Collecting dm-sonnet\n",
            "  Downloading dm_sonnet-2.0.1-py3-none-any.whl (268 kB)\n",
            "\u001b[2K     \u001b[90m━━━━━━━━━━━━━━━━━━━━━━━━━━━━━━━━━━━━━━━\u001b[0m \u001b[32m268.4/268.4 kB\u001b[0m \u001b[31m6.0 MB/s\u001b[0m eta \u001b[36m0:00:00\u001b[0m\n",
            "\u001b[?25hRequirement already satisfied: numpy>=1.16.3 in /usr/local/lib/python3.8/dist-packages (from dm-sonnet) (1.22.4)\n",
            "Requirement already satisfied: absl-py>=0.7.1 in /usr/local/lib/python3.8/dist-packages (from dm-sonnet) (1.4.0)\n",
            "Requirement already satisfied: dm-tree>=0.1.1 in /usr/local/lib/python3.8/dist-packages (from dm-sonnet) (0.1.8)\n",
            "Requirement already satisfied: tabulate>=0.7.5 in /usr/local/lib/python3.8/dist-packages (from dm-sonnet) (0.8.10)\n",
            "Requirement already satisfied: wrapt>=1.11.1 in /usr/local/lib/python3.8/dist-packages (from dm-sonnet) (1.15.0)\n",
            "Collecting gym<0.16.0,>=0.15.4\n",
            "  Downloading gym-0.15.7.tar.gz (1.6 MB)\n",
            "\u001b[2K     \u001b[90m━━━━━━━━━━━━━━━━━━━━━━━━━━━━━━━━━━━━━━━━\u001b[0m \u001b[32m1.6/1.6 MB\u001b[0m \u001b[31m15.5 MB/s\u001b[0m eta \u001b[36m0:00:00\u001b[0m\n",
            "\u001b[?25h  Preparing metadata (setup.py) ... \u001b[?25l\u001b[?25hdone\n",
            "Requirement already satisfied: scipy in /usr/local/lib/python3.8/dist-packages (from baselines==0.1.6) (1.7.3)\n",
            "Requirement already satisfied: tqdm in /usr/local/lib/python3.8/dist-packages (from baselines==0.1.6) (4.64.1)\n",
            "Requirement already satisfied: joblib in /usr/local/lib/python3.8/dist-packages (from baselines==0.1.6) (1.2.0)\n",
            "Requirement already satisfied: cloudpickle in /usr/local/lib/python3.8/dist-packages (from baselines==0.1.6) (2.2.1)\n",
            "Requirement already satisfied: click in /usr/local/lib/python3.8/dist-packages (from baselines==0.1.6) (8.1.3)\n",
            "Requirement already satisfied: opencv-python in /usr/local/lib/python3.8/dist-packages (from baselines==0.1.6) (4.6.0.66)\n",
            "Requirement already satisfied: six in /usr/local/lib/python3.8/dist-packages (from gym<0.16.0,>=0.15.4->baselines==0.1.6) (1.15.0)\n",
            "Collecting pyglet<=1.5.0,>=1.4.0\n",
            "  Downloading pyglet-1.5.0-py2.py3-none-any.whl (1.0 MB)\n",
            "\u001b[2K     \u001b[90m━━━━━━━━━━━━━━━━━━━━━━━━━━━━━━━━━━━━━━━━\u001b[0m \u001b[32m1.0/1.0 MB\u001b[0m \u001b[31m23.9 MB/s\u001b[0m eta \u001b[36m0:00:00\u001b[0m\n",
            "\u001b[?25hCollecting cloudpickle\n",
            "  Downloading cloudpickle-1.2.2-py2.py3-none-any.whl (25 kB)\n",
            "Requirement already satisfied: future in /usr/local/lib/python3.8/dist-packages (from pyglet<=1.5.0,>=1.4.0->gym<0.16.0,>=0.15.4->baselines==0.1.6) (0.16.0)\n",
            "Building wheels for collected packages: baselines, gym\n",
            "  Building wheel for baselines (setup.py) ... \u001b[?25l\u001b[?25hdone\n",
            "  Created wheel for baselines: filename=baselines-0.1.6-py3-none-any.whl size=220655 sha256=97b4efb13ff38c423184f99b195339368a179441422e89e72a861488d5148fc5\n",
            "  Stored in directory: /tmp/pip-ephem-wheel-cache-bzz1zbaa/wheels/73/04/c8/2f0ac81534e1aa2ca4e939bd3ff676c78c871a6751d369d2e5\n",
            "  Building wheel for gym (setup.py) ... \u001b[?25l\u001b[?25hdone\n",
            "  Created wheel for gym: filename=gym-0.15.7-py3-none-any.whl size=1648816 sha256=ce76426d9ca6f95386afe20e648e25653a5fa5ba3b3b506e603f9658a2c22d13\n",
            "  Stored in directory: /root/.cache/pip/wheels/c7/fc/c9/30abdb9ba1656a49f62658d3ec45d9bffdb4f0542802a6ad6e\n",
            "Successfully built baselines gym\n",
            "Installing collected packages: cloudpickle, pyglet, dm-sonnet, gym, baselines\n",
            "  Attempting uninstall: cloudpickle\n",
            "    Found existing installation: cloudpickle 2.2.1\n",
            "    Uninstalling cloudpickle-2.2.1:\n",
            "      Successfully uninstalled cloudpickle-2.2.1\n",
            "  Attempting uninstall: gym\n",
            "    Found existing installation: gym 0.25.2\n",
            "    Uninstalling gym-0.25.2:\n",
            "      Successfully uninstalled gym-0.25.2\n",
            "\u001b[31mERROR: pip's dependency resolver does not currently take into account all the packages that are installed. This behaviour is the source of the following dependency conflicts.\n",
            "tensorflow-probability 0.19.0 requires cloudpickle>=1.3, but you have cloudpickle 1.2.2 which is incompatible.\n",
            "distributed 2022.2.1 requires cloudpickle>=1.5.0, but you have cloudpickle 1.2.2 which is incompatible.\u001b[0m\u001b[31m\n",
            "\u001b[0mSuccessfully installed baselines-0.1.6 cloudpickle-1.2.2 dm-sonnet-2.0.1 gym-0.15.7 pyglet-1.5.0\n",
            "\u001b[33mWARNING: Running pip as the 'root' user can result in broken permissions and conflicting behaviour with the system package manager. It is recommended to use a virtual environment instead: https://pip.pypa.io/warnings/venv\u001b[0m\u001b[33m\n",
            "\u001b[0m"
          ]
        }
      ],
      "source": [
        "!pip3 install dm-sonnet git+https://github.com/openai/baselines.git@master"
      ]
    },
    {
      "cell_type": "code",
      "execution_count": null,
      "metadata": {
        "id": "rXYSa4LNS_RL"
      },
      "outputs": [],
      "source": [
        "#!/bin/bash"
      ]
    },
    {
      "cell_type": "code",
      "execution_count": 7,
      "metadata": {
        "colab": {
          "base_uri": "https://localhost:8080/"
        },
        "id": "s5ctg7OrS0yQ",
        "outputId": "2d90ef0e-6a86-429b-abb9-c896546bbce4"
      },
      "outputs": [
        {
          "output_type": "stream",
          "name": "stdout",
          "text": [
            "2023-02-28 20:17:36.947879: I tensorflow/core/platform/cpu_feature_guard.cc:193] This TensorFlow binary is optimized with oneAPI Deep Neural Network Library (oneDNN) to use the following CPU instructions in performance-critical operations:  AVX2 FMA\n",
            "To enable them in other operations, rebuild TensorFlow with the appropriate compiler flags.\n",
            "2023-02-28 20:17:38.499497: W tensorflow/compiler/xla/stream_executor/platform/default/dso_loader.cc:64] Could not load dynamic library 'libnvinfer.so.7'; dlerror: libnvinfer.so.7: cannot open shared object file: No such file or directory; LD_LIBRARY_PATH: /usr/local/lib/python3.8/dist-packages/cv2/../../lib64:/usr/local/nvidia/lib:/usr/local/nvidia/lib64\n",
            "2023-02-28 20:17:38.499746: W tensorflow/compiler/xla/stream_executor/platform/default/dso_loader.cc:64] Could not load dynamic library 'libnvinfer_plugin.so.7'; dlerror: libnvinfer_plugin.so.7: cannot open shared object file: No such file or directory; LD_LIBRARY_PATH: /usr/local/lib/python3.8/dist-packages/cv2/../../lib64:/usr/local/nvidia/lib:/usr/local/nvidia/lib64\n",
            "2023-02-28 20:17:38.499775: W tensorflow/compiler/tf2tensorrt/utils/py_utils.cc:38] TF-TRT Warning: Cannot dlopen some TensorRT libraries. If you would like to use Nvidia GPU with TensorRT, please make sure the missing libraries mentioned above are installed properly.\n",
            "2023-02-28 20:17:40.617104: E tensorflow/compiler/xla/stream_executor/cuda/cuda_driver.cc:267] failed call to cuInit: CUDA_ERROR_NO_DEVICE: no CUDA-capable device is detected\n",
            "Logging to /tmp/openai-2023-02-28-20-17-40-633570\n",
            "Logging to /tmp/openai-2023-02-28-20-17-40-656312\n",
            "Logging to /tmp/openai-2023-02-28-20-17-40-671135\n",
            "Logging to /tmp/openai-2023-02-28-20-17-40-726531\n",
            "Logging to /tmp/openai-2023-02-28-20-17-40-724439\n",
            "Logging to /tmp/openai-2023-02-28-20-17-40-773721\n",
            "Logging to /tmp/openai-2023-02-28-20-17-40-793425\n",
            "Logging to /tmp/openai-2023-02-28-20-17-40-821749\n",
            "Logging to /tmp/openai-2023-02-28-20-17-40-908958\n",
            "Logging to /tmp/openai-2023-02-28-20-17-41-017772\n",
            "Logging to /tmp/openai-2023-02-28-20-17-41-106393\n",
            "Logging to /tmp/openai-2023-02-28-20-17-41-201025\n",
            "Logging to /tmp/openai-2023-02-28-20-17-41-357971\n",
            "Logging to /tmp/openai-2023-02-28-20-17-41-473263\n",
            "Logging to /tmp/openai-2023-02-28-20-17-41-625082\n",
            "Logging to /tmp/openai-2023-02-28-20-17-41-759942\n",
            "Traceback (most recent call last):\n",
            "  File \"/usr/lib/python3.8/runpy.py\", line 194, in _run_module_as_main\n",
            "    return _run_code(code, main_globals, None,\n",
            "  File \"/usr/lib/python3.8/runpy.py\", line 87, in _run_code\n",
            "    exec(code, run_globals)\n",
            "  File \"/usr/local/lib/python3.8/dist-packages/gfootball/examples/run_ppo2.py\", line 121, in <module>\n",
            "    app.run(train)\n",
            "  File \"/usr/local/lib/python3.8/dist-packages/absl/app.py\", line 308, in run\n",
            "    _run_main(main, args)\n",
            "  File \"/usr/local/lib/python3.8/dist-packages/absl/app.py\", line 254, in _run_main\n",
            "    sys.exit(main(argv))\n",
            "  File \"/usr/local/lib/python3.8/dist-packages/gfootball/examples/run_ppo2.py\", line 103, in train\n",
            "    ppo2.learn(network=FLAGS.policy,\n",
            "  File \"/usr/local/lib/python3.8/dist-packages/baselines/ppo2/ppo2.py\", line 80, in learn\n",
            "    set_global_seeds(seed)\n",
            "  File \"/usr/local/lib/python3.8/dist-packages/baselines/common/misc_util.py\", line 58, in set_global_seeds\n",
            "    tf.set_random_seed(myseed)\n",
            "AttributeError: module 'tensorflow' has no attribute 'set_random_seed'\n",
            "Exception ignored in: <function SubprocVecEnv.__del__ at 0x7ffaa936f4c0>\n",
            "Traceback (most recent call last):\n",
            "  File \"/usr/local/lib/python3.8/dist-packages/baselines/common/vec_env/subproc_vec_env.py\", line 121, in __del__\n",
            "  File \"/usr/local/lib/python3.8/dist-packages/baselines/common/vec_env/vec_env.py\", line 98, in close\n",
            "  File \"/usr/local/lib/python3.8/dist-packages/baselines/common/vec_env/subproc_vec_env.py\", line 104, in close_extras\n",
            "  File \"/usr/lib/python3.8/multiprocessing/connection.py\", line 206, in send\n",
            "  File \"/usr/lib/python3.8/multiprocessing/connection.py\", line 411, in _send_bytes\n",
            "  File \"/usr/lib/python3.8/multiprocessing/connection.py\", line 368, in _send\n",
            "BrokenPipeError: [Errno 32] Broken pipe\n"
          ]
        }
      ],
      "source": [
        "!python3 -u -m gfootball.examples.run_ppo2 \\\n",
        "  --level 11_vs_11_easy_stochastic \\\n",
        "  --reward_experiment scoring \\\n",
        "  --policy impala_cnn \\\n",
        "  --cliprange 0.115 \\\n",
        "  --gamma 0.997 \\\n",
        "  --ent_coef 0.00155 \\\n",
        "  --num_timesteps 50000000 \\\n",
        "  --max_grad_norm 0.76 \\\n",
        "  --lr 0.00011879 \\\n",
        "  --num_envs 16 \\\n",
        "  --noptepochs 2 \\\n",
        "  --nminibatches 4 \\\n",
        "  --nsteps 512 \\\n",
        "  \"$@\""
      ]
    },
    {
      "cell_type": "code",
      "execution_count": 8,
      "metadata": {
        "colab": {
          "base_uri": "https://localhost:8080/"
        },
        "id": "vF-wqrZtTfON",
        "outputId": "cd3c9dfd-9267-40a3-9e0c-3932df96f4d6"
      },
      "outputs": [
        {
          "output_type": "stream",
          "name": "stdout",
          "text": [
            "/bin/bash: gfootball/examples/repro_checkpoint_easy.sh: No such file or directory\n"
          ]
        }
      ],
      "source": [
        "!gfootball/examples/repro_checkpoint_easy.sh --dump_scores 2>&1 | tee repro_checkpoint_easy.txt"
      ]
    },
    {
      "cell_type": "code",
      "execution_count": 9,
      "metadata": {
        "colab": {
          "base_uri": "https://localhost:8080/"
        },
        "id": "bM17JbECTn8O",
        "outputId": "7700c9cf-d864-4711-a8dd-9f30b8b2f8dc"
      },
      "outputs": [
        {
          "output_type": "stream",
          "name": "stdout",
          "text": [
            "grep: repro_scoring_easy.txt: No such file or directory\n",
            "-nan\n"
          ]
        }
      ],
      "source": [
        "!grep fps repro_scoring_easy.txt | awk '{ FS=\"|\"; total += $3; count++ } END { print total/count }'"
      ]
    },
    {
      "cell_type": "code",
      "execution_count": 10,
      "metadata": {
        "colab": {
          "base_uri": "https://localhost:8080/"
        },
        "id": "GxgXmxVNYcgA",
        "outputId": "419940a0-8cfc-46aa-97b9-a354733b0ffc"
      },
      "outputs": [
        {
          "output_type": "stream",
          "name": "stdout",
          "text": [
            "Looking in indexes: https://pypi.org/simple, https://us-python.pkg.dev/colab-wheels/public/simple/\n",
            "Collecting kaggle-environments\n",
            "  Downloading kaggle_environments-1.12.0-py2.py3-none-any.whl (1.3 MB)\n",
            "\u001b[2K     \u001b[90m━━━━━━━━━━━━━━━━━━━━━━━━━━━━━━━━━━━━━━━━\u001b[0m \u001b[32m1.3/1.3 MB\u001b[0m \u001b[31m20.8 MB/s\u001b[0m eta \u001b[36m0:00:00\u001b[0m\n",
            "\u001b[?25hRequirement already satisfied: Flask>=1.1.2 in /usr/local/lib/python3.8/dist-packages (from kaggle-environments) (2.2.3)\n",
            "Requirement already satisfied: numpy>=1.19.5 in /usr/local/lib/python3.8/dist-packages (from kaggle-environments) (1.22.4)\n",
            "Requirement already satisfied: jsonschema>=3.0.1 in /usr/local/lib/python3.8/dist-packages (from kaggle-environments) (4.3.3)\n",
            "Requirement already satisfied: requests>=2.25.1 in /usr/local/lib/python3.8/dist-packages (from kaggle-environments) (2.25.1)\n",
            "Requirement already satisfied: itsdangerous>=2.0 in /usr/local/lib/python3.8/dist-packages (from Flask>=1.1.2->kaggle-environments) (2.1.2)\n",
            "Requirement already satisfied: Werkzeug>=2.2.2 in /usr/local/lib/python3.8/dist-packages (from Flask>=1.1.2->kaggle-environments) (2.2.3)\n",
            "Requirement already satisfied: click>=8.0 in /usr/local/lib/python3.8/dist-packages (from Flask>=1.1.2->kaggle-environments) (8.1.3)\n",
            "Requirement already satisfied: Jinja2>=3.0 in /usr/local/lib/python3.8/dist-packages (from Flask>=1.1.2->kaggle-environments) (3.1.2)\n",
            "Requirement already satisfied: importlib-metadata>=3.6.0 in /usr/local/lib/python3.8/dist-packages (from Flask>=1.1.2->kaggle-environments) (6.0.0)\n",
            "Requirement already satisfied: pyrsistent!=0.17.0,!=0.17.1,!=0.17.2,>=0.14.0 in /usr/local/lib/python3.8/dist-packages (from jsonschema>=3.0.1->kaggle-environments) (0.19.3)\n",
            "Requirement already satisfied: attrs>=17.4.0 in /usr/local/lib/python3.8/dist-packages (from jsonschema>=3.0.1->kaggle-environments) (22.2.0)\n",
            "Requirement already satisfied: importlib-resources>=1.4.0 in /usr/local/lib/python3.8/dist-packages (from jsonschema>=3.0.1->kaggle-environments) (5.12.0)\n",
            "Requirement already satisfied: certifi>=2017.4.17 in /usr/local/lib/python3.8/dist-packages (from requests>=2.25.1->kaggle-environments) (2022.12.7)\n",
            "Requirement already satisfied: urllib3<1.27,>=1.21.1 in /usr/local/lib/python3.8/dist-packages (from requests>=2.25.1->kaggle-environments) (1.26.14)\n",
            "Requirement already satisfied: chardet<5,>=3.0.2 in /usr/local/lib/python3.8/dist-packages (from requests>=2.25.1->kaggle-environments) (4.0.0)\n",
            "Requirement already satisfied: idna<3,>=2.5 in /usr/local/lib/python3.8/dist-packages (from requests>=2.25.1->kaggle-environments) (2.10)\n",
            "Requirement already satisfied: zipp>=0.5 in /usr/local/lib/python3.8/dist-packages (from importlib-metadata>=3.6.0->Flask>=1.1.2->kaggle-environments) (3.15.0)\n",
            "Requirement already satisfied: MarkupSafe>=2.0 in /usr/local/lib/python3.8/dist-packages (from Jinja2>=3.0->Flask>=1.1.2->kaggle-environments) (2.1.2)\n",
            "Installing collected packages: kaggle-environments\n",
            "Successfully installed kaggle-environments-1.12.0\n",
            "\u001b[33mWARNING: Running pip as the 'root' user can result in broken permissions and conflicting behaviour with the system package manager. It is recommended to use a virtual environment instead: https://pip.pypa.io/warnings/venv\u001b[0m\u001b[33m\n",
            "\u001b[0m"
          ]
        }
      ],
      "source": [
        "!pip install kaggle-environments"
      ]
    },
    {
      "cell_type": "code",
      "execution_count": 11,
      "metadata": {
        "colab": {
          "base_uri": "https://localhost:8080/"
        },
        "id": "0ErXpvu3Yhxj",
        "outputId": "fa09053f-2868-43fa-bbfa-96d71882511b"
      },
      "outputs": [
        {
          "output_type": "stream",
          "name": "stdout",
          "text": [
            "Loading environment lux_ai_s2 failed: No module named 'vec_noise'\n"
          ]
        }
      ],
      "source": [
        "from kaggle_environments import make, register"
      ]
    },
    {
      "cell_type": "code",
      "execution_count": 12,
      "metadata": {
        "colab": {
          "base_uri": "https://localhost:8080/"
        },
        "id": "R4eiz2F3ZhvO",
        "outputId": "c76b433b-efe3-4d84-8cdc-de01b0e0ca71"
      },
      "outputs": [
        {
          "output_type": "stream",
          "name": "stdout",
          "text": [
            "\r0% [Working]\r            \rGet:1 https://cloud.r-project.org/bin/linux/ubuntu focal-cran40/ InRelease [3,622 B]\n",
            "\r0% [Connecting to archive.ubuntu.com] [Connecting to security.ubuntu.com (91.18\r                                                                               \rIgn:2 https://developer.download.nvidia.com/compute/machine-learning/repos/ubuntu2004/x86_64  InRelease\n",
            "\r0% [Connecting to archive.ubuntu.com] [Waiting for headers] [Waiting for header\r                                                                               \rGet:3 http://security.ubuntu.com/ubuntu focal-security InRelease [114 kB]\n",
            "\r0% [Connecting to archive.ubuntu.com] [3 InRelease 5,481 B/114 kB 5%] [Waiting \r                                                                               \rHit:4 https://developer.download.nvidia.com/compute/cuda/repos/ubuntu2004/x86_64  InRelease\n",
            "Hit:5 https://developer.download.nvidia.com/compute/machine-learning/repos/ubuntu2004/x86_64  Release\n",
            "Get:6 http://ppa.launchpad.net/c2d4u.team/c2d4u4.0+/ubuntu focal InRelease [18.1 kB]\n",
            "Hit:7 http://archive.ubuntu.com/ubuntu focal InRelease\n",
            "Get:8 http://archive.ubuntu.com/ubuntu focal-updates InRelease [114 kB]\n",
            "Get:9 http://archive.ubuntu.com/ubuntu focal-backports InRelease [108 kB]\n",
            "Hit:10 http://ppa.launchpad.net/cran/libgit2/ubuntu focal InRelease\n",
            "Hit:12 http://ppa.launchpad.net/deadsnakes/ppa/ubuntu focal InRelease\n",
            "Get:13 http://security.ubuntu.com/ubuntu focal-security/universe amd64 Packages [1,008 kB]\n",
            "Get:14 http://ppa.launchpad.net/graphics-drivers/ppa/ubuntu focal InRelease [24.3 kB]\n",
            "Get:15 http://security.ubuntu.com/ubuntu focal-security/main amd64 Packages [2,496 kB]\n",
            "Get:16 http://archive.ubuntu.com/ubuntu focal-updates/main amd64 Packages [2,972 kB]\n",
            "Hit:17 http://ppa.launchpad.net/ubuntugis/ppa/ubuntu focal InRelease\n",
            "Get:18 http://ppa.launchpad.net/c2d4u.team/c2d4u4.0+/ubuntu focal/main Sources [2,394 kB]\n",
            "Get:19 http://archive.ubuntu.com/ubuntu focal-updates/universe amd64 Packages [1,303 kB]\n",
            "Get:20 http://ppa.launchpad.net/c2d4u.team/c2d4u4.0+/ubuntu focal/main amd64 Packages [1,134 kB]\n",
            "Get:21 http://ppa.launchpad.net/graphics-drivers/ppa/ubuntu focal/main amd64 Packages [42.9 kB]\n",
            "Fetched 11.7 MB in 4s (2,644 kB/s)\n",
            "Reading package lists... Done\n",
            "Reading package lists... Done\n",
            "Building dependency tree       \n",
            "Reading state information... Done\n",
            "libsdl2-gfx-dev is already the newest version (1.0.4+dfsg-3).\n",
            "libsdl2-ttf-dev is already the newest version (2.0.15+dfsg1-1).\n",
            "0 upgraded, 0 newly installed, 0 to remove and 47 not upgraded.\n",
            "Cloning into 'Google_research_football'...\n",
            "remote: Enumerating objects: 2946, done.\u001b[K\n",
            "remote: Counting objects: 100% (2946/2946), done.\u001b[K\n",
            "remote: Compressing objects: 100% (1062/1062), done.\u001b[K\n",
            "remote: Total 2946 (delta 1823), reused 2939 (delta 1819), pack-reused 0\u001b[K\n",
            "Receiving objects: 100% (2946/2946), 26.62 MiB | 12.22 MiB/s, done.\n",
            "Resolving deltas: 100% (1823/1823), done.\n",
            "--2023-02-28 20:18:17--  https://storage.googleapis.com/gfootball/prebuilt_gameplayfootball_v2.3.so\n",
            "Resolving storage.googleapis.com (storage.googleapis.com)... 173.194.203.128, 74.125.20.128, 108.177.98.128, ...\n",
            "Connecting to storage.googleapis.com (storage.googleapis.com)|173.194.203.128|:443... connected.\n",
            "HTTP request sent, awaiting response... 200 OK\n",
            "Length: 45163384 (43M) [application/octet-stream]\n",
            "Saving to: ‘football/third_party/gfootball_engine/lib/prebuilt_gameplayfootball.so’\n",
            "\n",
            "football/third_part 100%[===================>]  43.07M  44.3MB/s    in 1.0s    \n",
            "\n",
            "2023-02-28 20:18:18 (44.3 MB/s) - ‘football/third_party/gfootball_engine/lib/prebuilt_gameplayfootball.so’ saved [45163384/45163384]\n",
            "\n",
            "\u001b[31mERROR: Directory '.' is not installable. Neither 'setup.py' nor 'pyproject.toml' found.\u001b[0m\u001b[31m\n",
            "\u001b[0m"
          ]
        }
      ],
      "source": [
        "!apt-get update\n",
        "!apt-get install -y libsdl2-gfx-dev libsdl2-ttf-dev\n",
        "\n",
        "# Make sure that the Branch in git clone and in wget call matches !!\n",
        "!git clone -b v2.3 https://github.com/hachanhvu2205/Google_research_football.git\n",
        "!mkdir -p football/third_party/gfootball_engine/lib\n",
        "\n",
        "!wget https://storage.googleapis.com/gfootball/prebuilt_gameplayfootball_v2.3.so -O football/third_party/gfootball_engine/lib/prebuilt_gameplayfootball.so\n",
        "!cd football && GFOOTBALL_USE_PREBUILT_SO=1 pip3 install ."
      ]
    },
    {
      "cell_type": "code",
      "source": [
        "%%writefile human.py\n",
        "from kaggle_environments.envs.football.helpers import *\n",
        "\n",
        "# @human_readable_agent wrapper modifies raw observations \n",
        "# provided by the environment:\n",
        "# https://github.com/google-research/football/blob/master/gfootball/doc/observation.md#raw-observations\n",
        "# into a form easier to work with by humans.\n",
        "# Following modifications are applied:\n",
        "# - Action, PlayerRole and GameMode enums are introduced.\n",
        "# - 'sticky_actions' are turned into a set of active actions (Action enum)\n",
        "#    see usage example below.\n",
        "# - 'game_mode' is turned into GameMode enum.\n",
        "# - 'designated' field is removed, as it always equals to 'active'\n",
        "#    when a single player is controlled on the team.\n",
        "# - 'left_team_roles'/'right_team_roles' are turned into PlayerRole enums.\n",
        "# - Action enum is to be returned by the agent function.\n",
        "@human_readable_agent\n",
        "def agent(obs):\n",
        "    # Make sure player is running.\n",
        "    if Action.Sprint not in obs['sticky_actions']:\n",
        "        return Action.Sprint\n",
        "    # We always control left team (observations and actions\n",
        "    # are mirrored appropriately by the environment).\n",
        "    controlled_player_pos = obs['left_team'][obs['active']]\n",
        "    # Does the player we control have the ball?\n",
        "    if obs['ball_owned_player'] == obs['active'] and obs['ball_owned_team'] == 0:\n",
        "        # Shot if we are 'close' to the goal (based on 'x' coordinate).\n",
        "#         if controlled_player_pos[0] < 0.05:\n",
        "            return Action.Shot\n",
        "        # Run towards the goal otherwise.\n",
        "#         return Action.Right\n",
        "    else:\n",
        "        # Run towards the ball.\n",
        "#         if obs['ball'][0] > controlled_player_pos[0] + 0.05:\n",
        "#             return Action.Right\n",
        "#         if obs['ball'][0] < controlled_player_pos[0] - 0.05:\n",
        "#             return Action.Left\n",
        "#         if obs['ball'][1] > controlled_player_pos[1] + 0.05:\n",
        "#             return Action.Bottom\n",
        "#         if obs['ball'][1] < controlled_player_pos[1] - 0.05:\n",
        "#             return Action.Top\n",
        "#         Try to take over the ball if close to the ball.\n",
        "        return Action.Shot"
      ],
      "metadata": {
        "colab": {
          "base_uri": "https://localhost:8080/"
        },
        "id": "EyPgMbRpj08R",
        "outputId": "0d051623-2419-4f81-d612-0003c92d2648"
      },
      "execution_count": 13,
      "outputs": [
        {
          "output_type": "stream",
          "name": "stdout",
          "text": [
            "Writing human.py\n"
          ]
        }
      ]
    },
    {
      "cell_type": "code",
      "source": [
        "%%writefile goalkeeper.py\n",
        "from kaggle_environments.envs.football.helpers import *\n",
        "\n",
        "# @human_readable_agent wrapper modifies raw observations \n",
        "# provided by the environment:\n",
        "# https://github.com/google-research/football/blob/master/gfootball/doc/observation.md#raw-observations\n",
        "# into a form easier to work with by humans.\n",
        "# Following modifications are applied:\n",
        "# - Action, PlayerRole and GameMode enums are introduced.\n",
        "# - 'sticky_actions' are turned into a set of active actions (Action enum)\n",
        "#    see usage example below.\n",
        "# - 'game_mode' is turned into GameMode enum.\n",
        "# - 'designated' field is removed, as it always equals to 'active'\n",
        "#    when a single player is controlled on the team.\n",
        "# - 'left_team_roles'/'right_team_roles' are turned into PlayerRole enums.\n",
        "# - Action enum is to be returned by the agent function.\n",
        "@human_readable_agent\n",
        "def agent(obs):\n",
        "    # Make sure player is running.\n",
        "#     if Action.Sprint not in obs['sticky_actions']:\n",
        "#         return Action.Sprint\n",
        "#     # We always control left team (observations and actions\n",
        "#     # are mirrored appropriately by the environment).\n",
        "#     controlled_player_pos = obs['left_team'][obs['active']]\n",
        "#     # Does the player we control have the ball?\n",
        "#     if obs['ball_owned_player'] == obs['active'] and obs['ball_owned_team'] == 0:\n",
        "#         # Shot if we are 'close' to the goal (based on 'x' coordinate).\n",
        "# #         if controlled_player_pos[0] > 0.05:\n",
        "#             return Action.Shot\n",
        "#         # Run towards the goal otherwise.\n",
        "# #         return Action.Right\n",
        "#     else:\n",
        "#         # Run towards the ball.\n",
        "# #         if obs['ball'][0] > controlled_player_pos[0] + 0.05:\n",
        "# #             return Action.Right\n",
        "# #         if obs['ball'][0] < controlled_player_pos[0] - 0.05:\n",
        "# #             return Action.Left\n",
        "#         if obs['ball'][1] > controlled_player_pos[1] + 0.05:\n",
        "#             return Action.Bottom\n",
        "#         if obs['ball'][1] < controlled_player_pos[1] - 0.05:\n",
        "#             return Action.Top\n",
        "#         Try to take over the ball if close to the ball.\n",
        "        return Action.Top"
      ],
      "metadata": {
        "colab": {
          "base_uri": "https://localhost:8080/"
        },
        "id": "AYZ7Gg-zbqst",
        "outputId": "62e9643e-7c28-4d46-d704-97adffdefc24"
      },
      "execution_count": null,
      "outputs": [
        {
          "output_type": "stream",
          "name": "stdout",
          "text": [
            "Overwriting goalkeeper.py\n"
          ]
        }
      ]
    },
    {
      "cell_type": "code",
      "execution_count": null,
      "metadata": {
        "colab": {
          "base_uri": "https://localhost:8080/",
          "height": 887
        },
        "id": "Vbga0h98ZrcQ",
        "outputId": "cc293d53-70a6-442b-bece-00beadff38b6"
      },
      "outputs": [
        {
          "output_type": "stream",
          "name": "stdout",
          "text": [
            "Staring a new environment c7b891fc-5509-4ac3-91a2-2eb5c33176d0: with scenario: tests.penalty\n",
            "football \n",
            "Default Agents:  run_right run_left do_nothing builtin_ai\n",
            "Resetting environment c7b891fc-5509-4ac3-91a2-2eb5c33176d0: with scenario: tests.penalty\n",
            "Received video link.\n"
          ]
        },
        {
          "output_type": "display_data",
          "data": {
            "text/plain": [
              "<IPython.core.display.HTML object>"
            ],
            "text/html": [
              "\n",
              "<video width=800 controls>\n",
              "  <source src=\"data:video/webm;base64,GkXfo59ChoEBQveBAULygQRC84EIQoKEd2VibUKHgQJChYECGFOAZwEAAAAAAPgAEU2bdLpNu4tTq4QVSalmU6yBoU27i1OrhBZUrmtTrIHYTbuMU6uEElTDZ1OsggEhTbuMU6uEHFO7a1OsgvfG7AEAAAAAAABZAAAAAAAAAAAAAAAAAAAAAAAAAAAAAAAAAAAAAAAAAAAAAAAAAAAAAAAAAAAAAAAAAAAAAAAAAAAAAAAAAAAAAAAAAAAAAAAAAAAAAAAAAAAAAAAAAAAAAAAVSalmsirXsYMPQkBNgI1MYXZmNTguNzYuMTAwV0GNTGF2ZjU4Ljc2LjEwMESJiECoOAAAAAAAFlSua8SuAQAAAAAAADvXgQFzxYgTYRB2GE4RNpyBACK1nIN1bmSGhVZfVlA4g4EBI+ODhAX14QDgAQAAAAAAAAiwggMguoIBwhJUw2fuc3MBAAAAAAAAJ2PAgGfIAQAAAAAAABpFo4dFTkNPREVSRIeNTGF2ZjU4Ljc2LjEwMHNzAQAAAAAAADNjwItjxYgTYRB2GE4RNmfIokWjiERVUkFUSU9ORIeUMDA6MDA6MDMuMTAwMDAwMDAwAAAfQ7Z1IEtP54EAo3HogQAAgNDeAJ0BKiADwgEARwiFhYiFhIgBohDgNf+2gwwb4DG/+F9Rn9u/GDcTeV/lD+T3KId3ckH5Mvon5O/0z///ED+OfkB8q/MB/UX/AflX2oPMD/Bv5L/jv7N7GX9I/t3uB/SX+q+4D+oHWl/tX7AP8R/jfpO/5f/PfBL+zv/U/2PwN/xz+hf7nWQvAf8D/An9X/2S9K/49/If6F/EP14/rPtv3w+tHop/Nf8J/Vvew/DPwY/Yf/Td2F+K/gv7l/x36R/Gvwx/rH9v/t/wN/EvwG/Wv/J+Lp+W/gD+0X+A+wX8b/g/8e/Db+mf4X+4+0P+EfgD+APrU1d/pP4NfAL6+/A/5V/Df4d/Hf5L/wP9P/3fv39B/lP4Le4P0L/w38V/gP9G+gH+W/wL+Sfxz+GfyH+N/7/95vvP+Rfx3+T/op9+3uI/5L+A/gD9AP8O/g38y/qv6x/2f/sfu5+sP4p/Ef6X+jP9+/2376fb/8f/i38m/oH6u/43/u/gL/Gf4X/Kv6F/U/67/O//H+/n4I/wn2A/o17B/6D/yP8WP33jU1cHburhfY42/CGEFV0IU92MK9qjNBxrTOsJwzaifnr5H/YN15ueJzOHjpgX1x1BKe2d3HUEp7Z3cdQSntndx0hkFTVJbmT8nkT1xHhtuNRm42/kUr3/2X2TS/XIioScrOIh4gHwPRW/Gn3WBsoQ9emIg75bdjNaai0ArSwuSYCe7SfjKlha50WSZ/Bq42j1AAWFrqhh5Gy/2zu46glPPimkt8l37nX0EqF8MLREWTobwZHKNMpOg3yPpOA4Q6XhS3hS3hUlBpbocuDLPUfATeE3HdwfCVRKvBYpKu2+aqOrG6laEvKvc2Ybj7WAHHgkiHSsX5utCghPpR5C397yKRSv5P6tU3UoedxS3hlyLfEQ8RE40PW7iZvxGW9ziIV8L6uWiwlVPKB1BV3NXwPscATi++UD4TqMgwQgm5rQ/82lGCwFXY3i/x9vRtudZKewlOpBDOm3+UBCpcV86zZLhabPo3rlL8ukgSEChWr1rbzXxaGImYI5+JMLSN3KEoTfDLBjWeV+DPaTwRKVcvzv7IGq+5bBO4HTHcQayfw2E5YWfo+wKFVf+xBA9PYFrA2xrRLfPbKkOXueKYL1tbBs2GUyHur/WrYkutaATmSRiV3+5agz6N21hiTsos3iEsKZs+eTLHLkSL/AfBvIKutSk7RzSAQ1m4u/7bspxbCA+M7ThV8knzqqGZd3uO9o8V4N31NHVG66HBzr2eILekLhrfwZd9uLgEN1DOGw5/SOV5UTFgt6LrS2H+2CpLeKQbJrwjtRyQZmYoNLeFLeFLeFLeFL/sDpPBj0EpHaSptnOUEoGbotSSrq7mW7QyfUfS5GwGOYHLBb0XO+/9uL51WlP6jL1hLc91BZVxsHZsHZsHZsHaaOi9kqHPolRfbjN9ntJMC+FaPHb4yLF1o2wrVQMUE7d3miSYcw4uywhqDyOinvaJ9mwdmwdmwdmwdppBEzzJ3Ft7vwOd1KKKm1INl6R0GyfLd58eEn8kW7/NV0e/DTNqZJDFziC45MlJYyT+m4XJ8mynBJGBT78z78z78z79dUt+FLeFLeFLeFLeVCUnLjYOzYOzYOzY3MwEKffmffmffmffsHg3jFeFLeFLeFLeTyApwpbwpbwpbwpbyoSk5cbB2bB2bB2bG5mAhT78z78z78z79g8G8YrwpbwpbwpbyeQFOFLeFLeFLeFLeVCUnLjYOzYOzYOzY3MwEKffmffmffmffsHg3jFeFLeFLeFLeTyApwpbwpbwpbwpbyoSk5cbB2bB2bB2bG3Tt3pyeb0zZVtePPkNhLF3ML2FvClvClvDPFZS3hS3hS3hS3hLhcWvya3GaW863Q/Wk6mDs2Ds2DtPSzfmffmffmffmfbJ1owcbB2bB2bB2bB2npZvzPvzPvzPvzPt0Ejl4Ut4Ut4Ut4UuEY/k8uNg7Ng7Ng7OCSMCn35n35n35n37B4N4xXhS3hS3hS3lQlJy42Ds2Ds2Ds2Ordmffmffmffmffm85jPvzPvzPvzPvzQ9An35n35n35n35n7HtepT78z78z78z8FTZm8YrwpbwpbwpcIx/J5cbB2bB2bB2cEkYFPvzPvzPvzPv2DwbxivClvClvClvKhKTlxsHZsHZsHZsdW7M+/M+/M+/M+/N5zGffmffmffmffmh6BPvzPvzPvzPvzP2Pa9Sn35n35n35n4KmzN4xXhS3hS3hS4Rj+Ty42Ds2Ds2Ds4JIwKffmffmffmffsHg3jFeFLeFLeFLeTt6URygD7gqs+ECgkJwVWfCA5a9Ke+qJenPyamCmlpIqOHiQX+x4kcpmy5nrYXV8pZ71aNJFNLSRUcPEgv9jxI5TAbD3QD0Whx62E839Nq87HyHsRDDZsMBFDlG0MrKHvFjVnlQD3t7TRorIkm9Jgp/xG0AFyRaA8+IsWgrBPVB4idx6eRw6S7guuIRgYNqHnz8Hmzp+9eZo0QVXNm5tfgc8qUeYWRJwORidvJdc8Fs7QBM4iGV/tXa9sWCX/oEw1CIyGS9I/E8Y2KypEqcBj9TTjgve+AwIVIn7sGCMGLtz3oy3AkR7xkmd5xGD7oqpWy2T2mfU4tdoLDWUcN5ACnaXWlOwZ7waPCZvEh6tsc8i+KyGa3A/XETWdJAzjnUppqq8JXzJxETA51B3pLzweZjU7fbSzSOnXNidzsiCuxREPbAGkVVoRzMex3DhDPmBlgy7AHJXLLzy6lTsixkxSBOwStJdnK4I5Dv46wH2TgexEJ+C/fxnk0u/c+lbYpEusYnqjdCqGlE7yLXN3lODCMsu1+3z4PgNPaQroIG7Kcpxvoz/PDMiXx2b6ceZipxxsOxKvFXhSMfiAf0UvpLC+HIHnUd2nU9s+G2DNPPWVrd23RvcvacZT+zCyJKcbzjVTwzIl8dm+nI3kuXHNs1nMnfxiad56G1JT714p8Tz+l8JOE+1tvlJQyKxw/u+SDEfqt7kavxQcNJL/cZDn8+JZRWTWQKxIKSC1+SKj/DY1abuZuuDHnWY+jPzD7LqdXQaFBDWWzxrG6cNZ3oz26kKZQhD1gSYf7Iwv7+j096L/lwLZvCDFLnNmJg2gm9wySfuYChPtLNJcklHLyG3nVexLYFYYESbxG1cr6fR4t+Pxyrpcu5EE+pfM9r7Hwk5vn0bCfiGNNOPjzlrqFVFvZnt1uM2g6hhkGnkFO0c4XyxK8uOQ3/3mRQa9DhORwQcdct/TUPIivoJjcmx5cQZgg+zF46UJK/qFdvyxa2BNtpvalpQeMhLFlEIdMHgi6Cc92bVdyuWIFFwQewvR9qQfUULG+5qQCar5Z2XVH1tgJakNVkHnqIw7LPLdgN53p1AIc/cNR6Dh0E+qhuV9juOiN5BcoBMJCJTMRTMPdOBACt4f7e2CkXFRdd/kOoVg8T4HD/uhFDbMtq2366ue0Z7swbKMco8UMvq42bfI5QHm5zaeaweWka9Ub1bTNrsapLVrOpLyS+5SxyZ0xwDpwIG8QMJ8GQWPOe9aC3unZeamyC8py4fjcrMGpyNif1RWgw/FpxtGEdrfoR0NYVUSt2sSMi7qYRg6b0rBFBO2UFl+cBcpZZN6FeCZP5msfvZ7ZwT2PhsSl++tpFUJ+kXhBBpOHwDud4p/iRSdJWEG/AlBDsvMN/4LpY58dbQUSE+Sq3BxsfGYoR12bWQfnHlV5UES1i7DuxNs88hDkPYilYILoeC9eY+5ckgDyC1FJZWvjZ+IQXYTsGQzrdnum2DnyveP+bMXNJcO0eUHsdPeJ4txQo9uurdJTqZzdgPzUbXa5L/MH53A8d/ieFyfujkL+j02y0IOMOeP3AcVsmdPOY6J5VjIPDp4aJjXeaHWRfnNrqqLBpDGuzWZj+1PSgsbq7Chz1uoWMZ/cJLIhYg1zUbhN0E4kSR/QRw6DWIvXYiW0h11/2xTOQRmjODyMD+PmvBt5Q2Wjw6uOdQrfkPWZvKgRnuwisIC4PT8sRt8manUuk6ifbKP2aCrhyoObmmZ6xPRmcK9v8TrHzi/X9CC52OABnk6T1wCw74fFhBxGCBnZ3xKKjryes/6GtUE9PTUkSH8GrNjHkjGeuCcjmncXduFVM433jQh9WdLs7n0VpXFuarGSoBEY8RAwV3vUH8sywCWN7eVkLF+OwjwHd2tOJd0iq0theZMDl8siePXach2KtxmyED7RxhCU3XowdOKnhY2Aek5twqzAqK7Z59qwMIlacLbqTWKdLgra+Rntbke1Yz45oDcqNvcBWsEHKkBOCG9SbNkGKOVwD7bd9Wea3e27AfF0bBGEjbQRKjY/A/Xc+lQnrOSywEL6z0pk+BKp1DFBkhA2/xQc2RPgL1pLs5XBHITH038wU15YOg7uZXVP3lfj6P/jG8gj43Qwn7kd3N/ZYbeYlov/hA+fwacWhl8O36OYSG8V9gZbGmtKtiZPOXv+fO8tnXrSstJZX+xbUA1J1ihaRE4ptN+qzZ2DAlJ+BlxgFnhv9YC42N8Y9D+qTAjCuHHjvG4g7OlQtuVLBsf9X4gvAmXXxm5r4W+LkWcWCXzcW7xKkGuu1c37Q5a52aXo/ArO8y+sQ2S7j/18BWpf1NwCv7x5TKx62LU/XzpmxAP8+T3WCOCCVA4hoCLnXEdR9MhivYf0vqiBu+OPSIe0AzaB3d47pV8IPBpmkhGShNtEg0HskcVw4MuKqzef2NlgSk/4gXTX1Tn1Nl5Ybsmm3NtxP+zmSX3k8fjw+GiX6KTVSk7Wi7Qbrez0Z22HRtAq2MVeyvgGYl2toe7lKS6xi4eG/+91oKqzNXjT2a57c8yn1HyXFiHkjr3ZfG0Ac/e3FHFsMUpw/8HjlI7Fmiwq4ynJ+B6zREutD+vDvf2PP2CnoJz3ZtV3K+0jRsqBBkS1qB/gdn5ZU6+VAQUbg6yaAngDcTHjhoAMyPsz0j6zOyUiox0a0XDmqdk9TgIgA5/0JS4NfBGs7f8A5NNJqZm+Da2MlEBbw1Kfw26W6LKqxerAhDVc7yfSKa1Pyc0XOEazJ+mhjGgi5odasN3B4FHCwYV/oEsas87PkQQXCS4aGQsgC8rYz9JXTgoWzwpaINq9XI6ADl+bzTi1uykKdnyfokmC1r+PW2qDtTpfFvsLlROkTYyTfOVzskoianMQwbWsm1B+U4Kf3TZB1wHXbQ5yT9ktvNJBygMkhmfQjVUIndj0uWirMi+Y1J5P7eoXJYEKowa3h21H4dbS6J04/wY87GS3MyLj75LLVNIYj6wgsEplEF3KvtfVq+QpvhYGt6cki4vvB5PdFDXXg8ZLvArC8phHH8KgQ+5s5vqMywG+ehmrOaZPWVPpGthE02AMZnmDQ64L8BCz+onI+iQ96xPo8qjIQlcep+LnqGdrI02U2BufHZRREMD3KlkHj3e/XoXoWkjMx0pRuzIRw4YbuvdFIXs5tyubNUcadlMRoAInZGK0svlW8VRM5oJp7cRyssWuYcBUIC1ugAdDFlM6/cor1/NOx4SNsfIrrlFY6zog1u3cWCRTZzMcThwDV13bQIleQ9fLyrnXnGr0z1l/kPWC+0Fs5didoonsW/2zU6dQ7Jl8cHniFLUtWRT7TZ0EluHK3RSfz18o0OB7Yy/BW2HSI054GzdyhyJbrXEGRLAJDrTKFomBGfmlXx25nKfaLt/mCkQ2Z8pPAVBFaMH58VoyPb/8SIZgm0xjQjIR7bwOETfjPvFuZYmoh58BPAJnhFUNSCmqDXJVKQiR9n4ndQenpUOJvaZAoiuB8i/jQ2raRl2zCnYp9ur24VB3j3Uu9+E0KUQv+L2PAj66HXY7QYceITLbtKNlOxuqsYdIoZuPeZyH+bCUPn5ta5iO/TRk6WVbTtTtgLZIZK0iRrOpfj1ww5RucL0I0LN7hkk7A9M130vGZOiDS+S8WGONXeWnc3XDUDevfYMYpM3Eq+LJI1Mrq8TCZLRWfDC0dKWNtaiIlzgSiZnbFoN33SzaICnMSU1SXKxY4YMm277WZ2WtzaiQp2fJ+iSqbG2FEXyNTBSGJHxHpqTFwqjykjgvQdysHpJteW+trRCASi3Th3JuOsOGXJovRP9K0/tX64GNafpIEfpis5rzTBJRL3deZ1I3GHnBllGd6OTtsyIpMT6K90WzVCB85Oo2b1+jaVkyPPYZNNCw0XmbeWMmEE9U3jZOi4S0j0umrtT5p9L5cGSX4zDpoHvnjaBWsU7smx0gLlZvstZp+FtorzD8/j0SshAswI5eJYALOh7i1ZFulR8RVOMj7baSuK1GvbX8CIPriQgKL9aSWRFaiE8XxRw4nmdN+DjYXnjtMsqaEyLxzGSFPQYLI2boIppZQeSi9mhsv1pjb4ROTjaEIwE4nigGpXZZKz1acLB27bMjuliUTHqe/R72xh0ihm5St6LAicf9Cech9Nuwz1GpgzUrgexH94MBipjkbkrLcez4pWV2SKn1vrGfFu6rdQk9/mrkVefM8dxlKj990XHnHDVAumHUsKM1OHyqcXppxwe7tQXfqj1hpALnqXuNuhCJYypw0IWp7n8Apuc7G68xzWDQvJNmORjMXzlFci2Pbk0fjeJtDzdL6oad3KD/6PIPHIt9lpkQ6wEeuEh/AQMt4nb+j0+g69sQI38oMm277W14C6BmMIJK2zHJMxQ+LNv8uhCOozMNQxsuZJM3dJSrbI7kqzy2NHGSwobUGQWbDZiNzSMTznfTWiMnCG8MGSPdJMr0vSujgRBuNrMn2I/uB50l/5P2vdK84Y9CggGKPNwIBhEe8bT1hw29D+gDp4KnyXOYXRFSBamwax9YgFYYOgpcMVUkbKcB82catcRW5edbhrc/7/0tEx8kSbL9RvajfkrDCumAYsdNDxzQ0lDDkt2pXdtkdyVZ5bGjgfbuERpWOlnyxA88/c8wnyqp2yS/+Jc982Hk7OeKhQdYneY86wCH1UAx48Z/vK7YHtGdmmRMOhSMvSi+e2Wwdl5gmjD1EfboIa9D8XvKcgTVUZu2IAqsWLouhLxyWmxf6Z3j/YdG/aZr7p1Edxju4+/rZa+kdmev8MuSQqpYQoS2YI8nyKHx43oe2reapwnSN7WLiT5W7K+1olFC9OhKmJCCZFzOmz28V8gUP5NIEJWJMgd+9seGX++wFZgYYl8vu3ulKopxMPgl0/dspN1bx2brJcgpC/YZuL7ekC4RzxuDG4vfNg6ekuRl0HJwDJe+PfRLSY+ZdYBDHNQ6J9bS7jzbRDCgpruiMlVoHx7mnpLJBmaLHnbfMJE3iVfqEHrbWJgjBERpFNbSMvVe9nXOmhPKYr8NxikqazP7m3zStkeOcRPK9itz6yxwrKDs0x474cFpGiOuYP3643meOauqdfCcSSoB6NbkENvhFS0sqMJ7JHlIQPWIfjnsaprcRNq1Oi2Q2eqDJ+TWwhFjz05y0g78OGcybVDVgdSdo4xKT4p7lvg227POkJuRy1WlADrOacg1b4y4B388dv6GGZ70xWUfHSSYTCWLGN5nA5o5eddL/VWHmtkhz1HL5Ykj5wSfF4/bABjG8ruv3ZTYuTbhk17GO7HdihnVFiKSg7uE+fyrVwQkWKSNjwY/l582ycDSPJK4j+0qzF9DeiroljefMyIB/fv5HFMWAqGKHaUO9KxIWs7TaZtn0bYHWto3IXhCd7TxnRA++gQT03BsXbg9KhoHLQlWiIH/COwrUO32JH4GrjuN4uAoMY0xwcjosj2zSUnITOgCCVW0nRD/+ZnlxiltXaNuLnLvk+nAc2NY3kw0CAU+PRg4OuHY5Q1xOUPBocZqEFGQpkLf9itcinfv6PT3ov+XAseNpmlGm12jzaedKzGmlNTbXCRXbXCrPG59a1g+VuEvRKnBXGpWh0MS5f0XpYTK5ZvlfS5RmG8FTE96vifZrdqzGR1TXU+9XAOn/x6IjmaFlh7eI3z1iUGzHWo6Y7kBLzLP9Jje6TsNn/JL7clkaakqgytJN2XmUf7/ZUdcVsSOHmtK6veD9aV0cMI4+FVMvP6I55vrCcLc6uIk5lPHLAhvpBqyyt99J+DB0z469SIFteOFOoqBZ8P55s8R18FUJ6cwrOQaQebQ+Hfxl+7L3DV5n20sef4ILBaeHVu1M80srTJprg01cCgCWjUXC/EBJ9qIBslwgiYAXu3oChEpEXVQ9DHW4+fAx/YEkKX/iJ+WpSs1aQ5cv1nqwyr2G9Wqry6+xlmd2zlORGZ8NfhtQL++Pz6N9imk0FbTFHJHoSFvaHTYLMUz9BsmIiT3rOxUf8lpJejdllGoP0xtP4q5Ds04E6gT6EYLoOPtDRBNry3GaDnqm5AuPwOFXolBI9fVTBI0rLueHA9aPZLo5mykop3RUd4M8easylSLkv4nzykZSktAI+TmRpw4Z+5TZ8wIMHnWZ+syiicY6N/WA5H3Gd1aEE/IjGUqI73Z7tfGyt+0BcdCevf4KR4TqMdqToZV6vBslubPu7mrVVeZ0Lq5LmcLV8cR2UhAyAh2CJQN+xBGiLGH79o6A/BcYYLPSk48omNzrSjthOZJWuydhEL/qi2QksKSaMqpVC/wjGrggzSyrAw8w91IZ/GsI9YpoPYc5OPlmIPqshOWtN6R9KZvhafWWv2LBsGF3j4qcZHkIgGJX+7ybrP6b/3RwkJzOTqDY+jDtYY38+n33BmJ53RsZRd3pUNA5aEq0P6ICSqVZjsCHbsYw/udQkHRlO9nkzPskeUhA9Yh93CA9RF+LEUi6+ldUQlhfUiT3bUTAPqBoZTNRpjFRjsQoNKODJeD2DM27l2aPCjKCEws5zaZ14bf84VsJLvm+w29FyDGompzdeKHMWxplQaCffupfbdQVskuc9GXCHy587SpbzGKnFW1LlGYbwvO9indQczA1wAr/Kv7Z7RZ3xyoNwGJwDOPitZvTlTe1ONgJuRJTZQw3w1VHtm4FiX2mB+Z4xN/KPXbmBqHoZIuJ0y7WQRb2BRWaNDZy7t2Znu8gs9c0tkZ0YWOhOtxaju0vJtQoq3SJ/em6PwFmr1uFp2DHFt40Jr07pYZby6UYr6BOrT4G2oq3p9Yqqw35qrZivFuLlDClONZ8LGJRKMjmM2rRcUYv5cLgdLmwkD9bvvPn0oxjnROlbdPngT9I9CawGPW6CHDhDRnHsi/X67du24za8J7LZVwvCbcXNS8HdGpYrAfvX9LeTlnrrku4tohCNJ8ucBCn0QCSF+EefmGHaB20swvASVJNHXVjqogbvjj2MxJLLqXD5YqrirUZa1YItIsBd8ka7WFj9zCn/236EJq6UhME9y8MbzjVTwzIl8dm+nICJrgwtSdCBBvACy6EPQK0xMzLNInSA1ROP8BjfjAi/OXURQRzWVVk92qe5lIiR4pxPhFwYJKpcT9UieeEbdcCnM5x+MZ/RUDNDHtgnsy/w/M8spdepAOfLB5qEkiV+3JLM451LVihC52KpEMmv2m0yFrlucik/n1SvM527/pqcwU3ujoBjJHjnshZNnoFilatyeOgL3w0USymluQQ8WwJ+ORrutLE2bRdALlFW7J3i0DvsTlkqiAFRxOxHmcRoJFgzlieOL8UGz3VRcsDfXXdr83zMjJ6QFwfLj2oFAwpikbUtWdjxaqooyvih8TSzgc0qHWp6AImVcFQ9CWQ7UkHOfvtqmroxX+OnFthvd1OwdCvkrSHwJKnSGCubt4CTgCa2JHP+USwGjwmbGOdE6Vt0+eBP0jZXGw5wwTvebI5rywoV8RqJelQjtxBCx3AZOZ8PEwpzqDmZjO4FclpHSXMWxXui2aoQPnJxftKVyk/GB0V05m2v1MDababylalzhrT2Mn9vXGvWWYTszbYmkl4Kacuuq2FXVGX3IYiC+n6D54baOc5vKG7zXjDEyjd+pEWJeKpJuCU02ci+n1OqQgz2XHyfeqtByDLaOfnJuHDlD3WNOsEn4s843alEfIbznuI0vNN1y4eqYtuMUg91gagrTrxShlzkMSvpRnn8nQEqQ3FReFpAZAOGNvS/0byQlO6+kpOnAKZubY1a/ERgug4+0ND+VjSygM8y1UC+pub1rLSMRpBaHN6ZtrpFzmgDzWZti9yS67RKP9VzQxr2Sgqx5zq1bcVSO0TmDTU4n+/SdERB2N8AcsC4IE4HqgTsEgNVi4BH/uXJNmwwm/p21iUAiKuCRIsz8wWZErhf1pe8xTT1pA2LzLgWVR6faoEsWn8ETLiHqKPeGRsyHqAHbF2MaEne5yKxLsfp8Oj0JC2Lki2utzxD6b2MUi+HLlIthSzLMYN8sSz1TTj01kOuIO+0wjjQuDryCApR0ZMPEvkUtxwuhNS8mGiSetebLxrg6TORP3bLcJw0kGeI9+EkOgcb72iSmVdSZsMTO4VCGfM1opKTXvVip8kjtGJa4lrLybDIEKj7vVsrthilgUzfSVylsY7YHnxfSIE7Vm0Kn9CEal8fpuIPnWveOoRN847gU5JKlhNCK/34LORI6q7gzLomu5I5VCsUcFHtg1hQpl2BEWMrOSfeiArNvum+hNg3BMkX07SgPfBQpICdNiAJUEbkJYKzokAeZd/ePEahKr7xyDtTwx5l0pLK/2Lb2sfjQHxcnOC2MCb7KCID0+kRXvO+pIa19CmIi3d6oR7Whpy5UlXhr2KBpbIzWtTmw8Vb0+s1kYjZ5bbverIm4i1f/4qdkPDRofee1KK+DvwluqZzgMAr7b8bfMgSZn8+tVcpsEZX1KEup+uJhPEE0G5+LJcckr8ipqolfVWSuy4htnEIEtzLUBXaZq5Mv0eLwR3cLu/4nyMQTN9apeDMqV6tnPDUZRrQsZbl+CgUoFRVolAWeBsgILsUyjYHkWGN6nhClAHgLI6TMZhW0nlX9DovrUfJ51qP5rT7k6Jsjj3XcDuaknljoH5kzYVq22VK5l9nuNaicWwtYb885iLqNMEKaqHJ84DRspgRIIyqfL+5kMwBiVYY1tRBdTLhL/tbfXePuV1Q/8hAbUifu2W4ThpIM7+hNS8mGiT64lSaPSl8nblKdb881zJrq5WEBH84bHE0BU5Z24uo/xxfqMcs3/bRjSa5nB2ocvs63zZhpbjGZnBFoYQ+KNolZjTgE3l8DEvgxTTTKFdxFXR1Rq7WxWQ0zX/g7Yx5tj7rJZih/4ph58X0iBO1ZtCpqwmvumf5xMtNtjTGtZ/e00VDY+N8xtwycaDO+Zjit44nKY+hnm+prLDp0U6SQnfCR51g9vGgNiLLIQFlJMx9NR1Jm0FdX74RT6ts7Zl38zilwFQ3CiDPp8DpgZNeO9//2i7fPnkQ2Z8pPAU9znqXPJYCFUYNbw7suZQ9sfz5mh228QRbgzRABBQ3DQ88XmT4oCqJOhdJ3ePPhnpzSGc0mXJXs0ZdiQ8R5P00BKvEjg44bLbsA4fT1AH1Ho2x4YjeklsH/JBcMvTDEJ6Uz5fCyNVgi03TmkjOReUtA8COxPjTVZzxhmvr3AnrlNayGzyX8sGQOYKzRNlilU25Ujng+ulFuhfSLNB03+MR6TWRai1f0OHgUEwPfg+hxWbqHdukDFJZsEq5QwPFlbhTLQBEtlJhZVlGN69GVlXYh6OkYrwL2AUwAI/67EX10FsSqO0OXa+pLj4d0HkXVsduKers0MQmNSvQH2HiOYjQAROyLtyanJH+i8phv36KR491hDaPX1uaZZgP2LNWKsavplYatRF3Ahalz1BrHrlw9VGY36sVK3DC4wtTxSHVWxh+HpPrE0CTU/UD2cBWIzOAcXKD1KzH2wyyqVIZ43LT1AllDrgwKfVHp/Rc9KP/4G8wzdN42ph0VNwMY9bTBx+XJy5gcCESBFQbxjkGv299O8/keeqVvjzrG7K3VCqaVPFaq/0dTZmdwM14iL9gDZd+IsC+OVblv89xigXZEdSK5AJsikNUYiavhWa8Bz6B2rxd1/dr2JvEYZ0dIsXrkIBXcumH08IriwvWDqNkvzUohFPNLwwIEyRWlilhRqNWIEfvVcfTh4IzHvNfcH6Y/7MvWehgRHTSxzVw/a9Vhka0mHk1iJWlJ26x9rWhZ+XeGv8ia5/5479ZE2G9sFdEeDnlJljn3Rr9yRZ0LyRYSdDC5FV6KyHCJp+391BycisuQgCb0J10RuKlRezR9kl92j8B6k6R+TDTgQHy0BFbDEqyggl/oC7NJ3NYNWsHPkJskKdC04YG+9eAm5JQQRiiHSLzfzCRN4lX6hB621M8RgiI0imtpGXqveAqNj7TLrrA2i1yfCSQSJFqQBh3LJkEDd8cefwRAqpL3frKBwyziT8bBSeyNdt8ypRzbKsD5IX8KPeO7pAaKLRkh/6WTiKf7t6/2ozxAXSvOTnGDMcyCbBoFNOwCf/Dc8mnwhFoFsMEl7Jpxa+0bLj+6GzQ9OEiPuZSFOFf6fQDFx1Ao7bgCSxBbc0tbneRgVeE4D2N8bWOlUcgm098Q7SzUiELWcAZWJRLxlrke1yD0iEDnKhubFmpqOL1pJAySgaIhAluYgp8gwRR7qTKDtDwpvt1Exdayb0xBbnDAbb8I21eOXdAUxJ6jEO4K5lIBciyGg69KBTZTKTtAqww85dZG9DrscSwprtpN87pXVvbaZE7FoKUBH1hUUClLO3xTzTg/Sv+MfT+WyohwndwbGhFBypZd8EQKTBC/iSSPeAmRDOD+qub7tCeXRnjnrW7bsxC/PToO/DXZCm2bFdDRlEXm1Q1awa5L2sA+Qgsre51HRWdrqR9mPiOMLejccZOIIVY5Cb9m4bV/wJ7LYhIM099Go4VZvlJrnLOeyyXhnlGgXaZ1yTm54vSq4YBCf6svRk2LU2bGCNhW60miP7uH4lDJmOn4Eq7L4lZ5mWtjxO6vir0YlKAucZpzeaj6tSPvr3Rjf96MRmMqd49DH8IEFwAnB8dJTXjw7QiK6xssCzi7q1aU4xqBrtl8EnHZdg5Y1JNlF+T7hhghXF2VFlQ3intz6AQ2G0PgWZWAjvYjTUmun5dFB7HKpREx5KhCubA2l6moQTGUCzu8Uy0W9ySQ8CNcx78Gr41CJpreZmAzJpuyQ7ETLSYp6CA3W91Fh3WFhlX49fYJHyyUS81wtB87pI3Rw2qdnkfqEw1JX92Nk40x07MDTYIsER352hhuHvtYh1DrmJe43rVR2zGqOdaYujoePVWzFeLcXKGFKcb7mq4lPo6EZ1n7EZ4JIYZELvH9K8D6p2yaQfZ82u82c0F/jCfgx7XXvst06+xLdO+6JHR0xTinWl487+91XvGIUmM+GoYFwnJ/PD/TclWNcnMe/r7nDpUmYaniJXJnrnn86pa6BF6m0FehxgRYrTE+8KP2kKfQQvxyoeaSycCjfvTiTcXaKaKixkLeLVFpImfKOJlD+mdtn2H8hAGSXidYk1GqQfcv/23TfSvSmnzErMKOew2PGf7yu2ArjbBPglFuCds+lvvhoA2AxuxFGqcyG2SmU8J3071tT8NvahAr25F3tdxN7hC7+qUTbQoRN7JTDWPq1L9jKHJzRAjPSzUg4VB7iIXEtHsxEB4dXZZPPekxaDO+qg4Zh9wdIhOFNrxPEAuZlJsZFEK1kQmVANeUEDsKdtYlOYkI3rgupG16IXe2CzZeO0MCaHkTGBaOMlutGIDZOtY792QMFNAOn3H39XAnjZgy3UyBqJn3g7G+XKBjL03oi3ndIvEZpFwQEzB7aKitqEmd+jS0PiRP9LHk4SNFDJHDG8v0WcCCZVvLotrsrQz1bfz00JYy0u+Ho1vZrwbDIJQI+ys51WgzPzKySFAr0m8ARl5vH9FmJjci6T0qkj/Lr/3vOr9NVZR7poedl6ADCgdK+c/gQ2b8DfDmAtXQm8cbBg2pmOgL/XruTYBg7+rW/53xTV+n4Ba5meV8Bzhk/WLnAH6B44jV2dBCL/uEorWoZHLx7fR6vORqo2oHV2SUT1gmHp/Zr98c9l2rUtgCxp/rBDe4Fv18NmRFJmWsFnSKJlezea9xdODY8cphM5wbfUK5P6CiZ1Ve8ZqJda1zEMS4pTltaCCmmzdqUtenJMybTBxAo59/H/Tx1va9oXGTPWG4SjxG7WPr6JRc9+ayU7PlmPjbIiB+u5qZutsKVMhvC2X3WrPg99v7fOHDSPjqCHtde+y3Tr7Et077okdHTFOKdaXjzv73Ve8YhSYz4agFhk+TbF/WCsXKZjfrj2vdtRZBeJXR7CgwEoQV5qhXocYEWK0xPvCj9pCn0EL8cqHmksnAo3704k3F2imiosZC3i1RaUrWAXZjLexhHLzdip/tQKBhTFI2pkfmVlBDzd8fbXyF/C1kuPoYRFInnh0JiPr0hUi5TkicVUHY3wBr92DYSzOOidSdqWoaqdgr/TzgiIJOLXbFN2KqPYvqw/nSmBiBLFveHL+JbBQ65xAXYFV2rCPaR7Tg48G35cjJxylV/YMq8nmxLAFt/WkK4D6dLNSDhUHuIhcS0eo4IMrP0dUX+7vrAjOtJg0ZI1dx9WHqHa4hWdcbE4GysmHtZXi9943zEa5xUsSHk5VflOt3+tuxcpAPok3JmmZ8sYn0asia9wqj5tihVWZPhrT2n5AG2UZmqeMQ+N36FaecMyubSvedPd9LF3U44k7/C5YNoiH2V9Tb4yWw2mQZn5lZJCgV6QpzD1zyQJ+vQih/pNEB9xt/o5RnqEkn4Lnv8yBbwyMPAjXMe/Bmu4hc+A8znub2f0eRjO15x3MpAPTX6hBTuCGy0JC/J/E2x3YuUfZT59OWRMyZcg6uFLf3bhoC4ttFwj++KCHNo/laC7/3lZ+L3lOQJqbrsqqvQp3NSXBZMXAPg2Rn75TVprDsfsHCV7rCdK8V5LzNcPNfk8Lb2SkIoHUvNXtALx0oXEYZrnu0Tvu8rwcHggt2lPiyHCJp8o2Cg5Uvg0Q3YnWXCOywQpqocyRfo9tbxDZvwN+skF4Y2YoFQenOTPWG4SjxG7WPr6JRc9+ayU7PlmPjbIiB+u5mqVzt1HFDKX1LE66zh8AoOS+NlYSLJ2R5IQMh1o7C1hvy2k2wnYlN/pneDDelsPtngsGSI8HjwSkuP3XnHppjT91akQs+1AoGFMUjamR+ZWUMGgM2iagtSc3ne8+D5B25zm7RAYddHasG8PAjXMe/BqBSsDvvmxLAFt/WkK4HFoRss0DZm4zNJLwSjohJYNDlEjoapFNcPh+zPX0XnaX1GXHuxqIXw3vTTG2rkWghuhUKEIE++sr/ynatQGdKTjbmcidWtkRKonQbdikOLsUx8qo3Vz4+cZoeq6Aue0M5QsLfcd1/gj+gsYR18gufvmdQK8/5fAHy0Oo7wR9+147ti86OfLqnEhgp7o+JQCVUggC4ZDiSpa/ZdL6+sICvHFH8irI9PMo9Ts8tCSwUtyaTRrmlmurCsLQfO6SN0cNqnZ5H6hMNSV/djZONMdOzA02CLBEd+doYbh77WIdQ65iXuN61UdsxqjhWxhR++U1aaw7H7Bwle6wnSp9RRUAUrsqVz8Wy+61Z8Hvt/b5w4aR8dQQ9rr32W6dfYlunfdEjo6YpxTrS8ed/e6r3jEKTGfDUMC4Tk/nh/puSrGuTmPf18n4OOrssnnvSYtBnmaevLYtvUjIy2062tBBTTZu1KWvTkmZNpg4gUdx6cxC2Nng7VW5JJLGAfOVvJA6xsv9t0q+Ph6txSHGhAeiSeQyI6frgpgeLFgPd7CyogDLAamE9/PnoduwVwt6yho4NkWayBOicN8dPQRcpDLz1Ovl3h1EpKJPvi9lxMkZOSIPJU5OkoPvBXgsOwoSZ4Qegzvi1mPzL2Q+RgW++3OWbBWLEMZ4xiHaztm8NWwrkwaLpSHxdVsghfTKrK4w5DWMVc2LGOKaVh5B+tu3G2ETk3oMCDwMEpc5WKkId5HlPCOBMxh31EZlGrCiPi7WbTuTiG3FifwPSnQepwv4c3NPrC4RtWnOTjaFXOUwXxcTI3DTKXrUdGBSs2JggU8okDo0E5Oj12jQbkCie943TFjNve8DsV9J+3uBBse4FrDHEIkxNowFHIyuC2gMPvX4z2uiLXwq1yWLfsphnJ/OUVjCJzL03iOub6zoeE/HDPd0kIcv/jJ0Pn4aVmKFwAXURFOSEp3X0lJ04BU6jtGguWz/A4TLb0DJWs2jfLTpiaPDBjiHN2dWbPRd2Ke+JKTFfCfNEqIfdE41VqcGIC3KBtFQIWOQX5XBRGq8t539/aI04Q5ZLF+14+Xp9JGk7L4NVKUmsDT06/jUdOd+3R2v2NDWZMp+EcnymurhGnn/CDZX1xk9wMRN0/5SuoGCZzEZIj4p2/ySsj+YMGtGnA2cv+UbyUaUmMoU0mibKj8a42y0zftF0QFj7EZyoDHYm0EdqZwqTGaWlUcPGRoEMY82x8v2y0caGKcUuo1wcKMZSEtrgqH+SzEEGyj0k2Jsm5B0liGDzHcjVjPo9AkDWUYHcph49ghqKZOpdFSyywWc0V6b4ASCqocDNhudVXNIUNu2VkelforesvwjekeF5ncfRCOGpaaG/NO2O9SjWduU7zSAqqunhCDgjpN5h7K8UkMwt5nv1cVxyTBWe52WI/WAJ2q/bxjkox9stmvCFR5l5GpLGjmKiwF2ABIyRBuLRRk4asO28poiNQcYMg46HLxp65BUnjaVENMBSz//w8LQ+W4SRMM+FqPoNjDji5//g1KUg20VTBYqzhCh7MDKrVeJDQrRkvGzzooMLDr+MH///NWu5nyeWpfFNHfZFkh6kgqaBPovCZ4Q8InRVl0PLfGcI3qyaUI6BH1gDe4NwiO1lJdsmHXv89vzuW66fEV7W8qRjQq7/2q4dGYm9wN+EoJEmnHoAb2Mo7UUOCJMqcs+MkMsTqf2qtorBn4p/plTf9xIIawCI4ComgBCEJS4tPMcYR1BMplMnYAR50UkkFEUc4fcNVq6L2J4SF9NmkT8KlYVMV6PO1WEPFqsIqW8UGu45o340Q21tWIXySyi3m10QvDrEYrJR83V2BGoWocdApo+5t6gLt5P2fjf07UR/g1gXoByug5Ofn0j9l/X+aICx+zaH5kNdslkmBegHkSAACjQ9CBAGQAcR0ABRANEAD2rdm0uq0xP/dd/UpvnGYWn+BtkWbWsQQNH/kPWRfxp/5DsijX5wYAQARcDdLJfhcMWcEICIREIiIREQiI46LKUWiFXNvBEQiIRES8XIMiAKjO+pnIkSKyckdKZKEmnL+GJgkAgVqJ0OBEMAJOX2dOduFZlYlpEXBZwX3Fvym0lL28sh+mMssHN5wB55JAyYYKQ2uU5xyCMUCtdbWynsDi3hoG4UkiKM0htTw2p4bU8NqeG1PDanhOQreeD46lfdr/u1/9b/0X/J/8H/uf+t/6L/k/+D/3P/W/9ERIkSJEiRIkSJEimK/WCxgg1ZcDT9Geylc/j8y1WAHkxEiGJkWzHqZeIIG0aTNw656gxesCYn6/1PbU1doD2H1VKcwDcAegC0cMb6bg6N1dikzl9NwdG6uxSZy+m4OjdXYhB3DID/M3bI39upfXffxxllHBlgQl9EK4v2Vv36PgJNWdb/dT9bhjwa/xlSqwfZfFXmy7FJnL6bbFVz+eUC1wqRbIkjHspFScT2SXBJl3TkzCeKw84r5E+ZazVwBbhQXmrR/pzRTi5cqjkyGGfedf7wVrgE5iskKYkIIJyjqP+H/2kGzogO4kgCdjJsFibzKazQR3tUjFwR+v78MKf9B8dB1TZgUTU7Rmr58eFragBVd9lGOFYoJEsSf7UKB6PU4SK07iL36PWoLT/tezcxc8T/N1tGp4er1+Y6pSPDA1lfDztkaS/YFdCiuKBFI/E0k7SeO/BVoHqEK/os4daexqMADRxycwJNRAyOQQyyzs4Hhl/GZzU9wfO/8lJer4bDt8BM08BUle/74g7Jh5uvF9l4gVhkwhFmNXCzVtuK5O5lM0VpEhZECto6Ae4X7kJcJk2U4Vrqw6nyt4DljdiLONHOPiv25s1Ip/nhIgfOkfViiNHV+OLJnNNQQFvF26kgw5rKpoLv54NowvvYuo8VeWOqUzTraFutuQ3WqXXfIDyUHuloelfRIoBtbpQ0IA2IGfaMita0OrFM306TR9VxLVd7VxbnYQIUAShiGLdI6fXNpp3EDI2HZYwnlWhOdPfA1y5UWdmiZhyqVtXesB6qlcFC1dflFR2CmKaKfTH7c1t9h13hcemO+ScNxreyZf+MCCuXaVkRvTep2VK3yJvFnPC6VvOMa5NaGUX+nABCtAnyC0bopTYxUZkn9v/fPZTPnVsxAMG+H9FZsY1X1qp+BtudxzDOrLcf/0JQ47Z2mZUQEadWcIhqvFpgBKdU4h5Ej3y3PsXcQ8iR75bn2LuIeRI98tz7F3EPFgo0ImgQDIABETABEQDRAA9zpXdwEHKeUjDaAYKW/QMGNAQCAQhCIQhEIQiEIcKRCQvgQhEIQiEIW0g+X1eCCsBQseRLMIhFCQWE0zhm2KRcps6CsubX8n0DWDIwub9xFNr5aC+BQH9tNMliZmrNQN0SxMzVnPV42oflc8ZlpqtKOWsb7t96WamSi1q/qRFJvlE3umrN2AiIiIiIiIiIiIiIjgjpoCo/d8rAZFIlikf8cPU4KyEDkUWQFEnQQi+s4JQp6d7xFGrKX+Hn1DJzqVHu7ATtwAgJgoCGWFYjlB/bujAPya4aWXKt1lvhZ+P1/fn5m3EhSDdibM8hmUepd5H5mbSx6l7jZS4u1cnRfupyCwCd+ViwJ4ZfyAbw3hqawD+cB1yoe+l7MHDavDCdFgeQoWprbG4bV4YTosDiTKacGSHoM6evPlW5CDoBX25tXhhOiwRTTpkUoyV+OPnlVIpfoLcU+isVzCtEFeeTBiAiqudQpLoD3y15mWF9afNP1029CtQSli/6BMHv4EK0euKIBWGAqrDW4EkTdHaqz0z3xq0uID95zhKlmjXK1STWCHf8txfzQfaGd7uAKXGc+pttDt5xr8jbeFB75bu4D/0HZQGoxjhSfR2IkkYq0B8O4WWROLpxuKy+pAaxm3bI+ZPD0PGgo9O15jWSWbTYyF0agjaWlQL0yZvlGKN3MGbrP0dtTW2Nw2rwwnRYHkKFqa2xuG1eGE6LAMAKNCToEBLADxFAAJEA0QAMSQrDzVNTB3ztyykQqLpXdR9LWCVFOLb/W97XEcXsACAQiEIRCEIhCEWnom1DFE8CEIRCEIny//uk0On0yBppsgVz1aNXCB1D/i+MXU2Hxza9n2a0fnPbXx8mhr/cvliZmrNQN0SxMzVmoG6JYmXTJIuHOKomhWxnnLP2W1dPc1WYrTVq0e4usnpKXVaUcthq3gc3t3gCIiIiIiIiIiIiIiPkCR8kW+uaHHsKelLznX1LKdT2sKIshEfvQ3KBJxSG/OMNyAunF+gu2IWZ6zmtm3L9xERYy+Us3Jvn0EPYV7YOne/4t0lHKLEJ/tk4MpGMer7F19TejHNi90Af/mZcD2kjIpIvRnPMkuiaGXvZtrgXD2yHWe5LN3iuNoNuo9V+vaZzTP8jGvO9HqMWgfBSfLbG4bV4YTosDyFC1NbY3DcToj3hhvdvbC/jMzLnRs9q30+YM0sS+fooSwsUf4qxrPAuvHYP5AYOvKjXK49PIWhD0M1gLKDZ2xBhroZww1S+RRPNZctzjhSi6ZLisgkRhAozblFxkf3+/gApk7WI5WSWbTY2Z0xjxQPTtehUCVRqWG5L4DfLNR8EPklAtf57KEy3i1X50uYw2vQoEfRTBDRHr9tadMZqn1t7O0xiX6P/XDEYIfqMqBGU/mJJQ+Hm0PQujHF11ztnSx6JjMLw3sw02rJeWjNAOgysGR+xPHEuN3f5WAH+tyPaca7SAEBtF5C1VFSz9HbU1tjcNq8MJ0WB5ChamtsbhtXhhOiwPIUH4Ao0HPgQGQANERAAkQDRAAw33wG1wzTGaRd0m9Loa9gs+OdoHxpQ0WEAhCEIQiEIQhCEVqwRCFUEIQhEIQhR4fniqKAALh7XUhuf0EOY8gMx3UqYcnZt4qMMWVWEQhNxYAiELSgaWqQZpFKrCISHxka6VFv4qi1okaGWg4H7cSNDLQcD9uJGhloOB+bCIRERERCIiIiIRERsBWFbq0sQmQMSGryQcjZ8ijsGUx8JJKW4sJARlLA3m2R+CmNr46MJsQXfqsYeujPp+rf/ItS0y3sMFfdygHloSIGxqK7PnZzFfxQmwLGzG4ufo1FBH/AS3lR2fPRMBwLPPi2er+QyFI5J/J9CkTrnjsbxI/lTd6hTFxoVxayZCfd21UAuLXZLbRB4q+0N1bX2J6fdkttEHv9BNL7rjoTv2OEweztzbsrFG5hP+PGU3N05P1d8PpIagVeWQbHZZQcrYABXwKo2fHdru9q3W2NW8iI73/hxrQX0U0UhzueoQ9DN0IvxIOGPMr+yKByxSQ9bGHF8+zfBVafvWfb666FYjebSkvzNpSX5m0pL8zSKWXl+xzAsrd8+hk5MScPcleZk0lftor2dubdlYo3ZmTSV+2ivZ25t2VijdlAKNBaoEB9ADREQAJEA0QAMAAzUF+f0JqWkgvhG11y/mnV9twUdu2PW5vUBCEIQhCEIQhCEMJwQhCuCEIQhCEIT8X+TOh4Jj+NdbRIIs6CGymLgcuBHx49lDiF4rQNFpqbotuz8L7VIKe7PwvtUgp7s/ds/4SDHv6bYp/LbB/4Bn3+1s5/1DRX+W0uMCIiIhEREIiIhEREI2AVhKmBKdRK+XmYurfKFhPxy2J2Jvi2e6HcQFwLSjpsnJFOAd3fCoBPd8veY+53bmnkQSQuNsCG4YtFQ0BtnyFwDDSa4qSSR7m39+3VLKWAuhqyaSv20V7O3NuysUbszJpK/l9BNL7rjoTv2OEweztzbsrFG5id0vRucCq5mkSQoK98MPCKkU0UhzueoQ9DN0Ivwyqa5AucWGrtucOL59m+CrR0KJzhdiN5tKS/M2lJfmbSkvzNQ2ZsjVk0lftor2dubdlYo3ZmTSV+2ivZ25t2VijdlAAo0GpgQJYAJEPAAkQDRAAwGxiSymNcbnUDpKnCPQCAQhCEIQhCEIQhSkhCEK4IQhCEIQhPxf7Av3uUeD+aNmBI4adnHZK+YzxC9y2tclunf6vtUgp7s/C+1SCnuz8L7XjF/XfT02Pf02xT+W2D/wDPv9rZz/qGiv8pgREIiIhEREIiIhERFxWGNgW/+aFYUCxxpZJXPX3INMI5+vw3GLaiDArrDgdo/p+fATKZ/f0aXrPlWWz0oPpiBYEfCUR0rB5O+kFRhPZKtuMC/Hz3IqyUIpl6jIwc1Lix2cGEVaT1RzolWv111LFpE3wIj697phwVU0nkGrUne1seuzDg9HKKiy0sWaEls23RnCipyO5PkX5djE4Wa3N33qm58uxicLNbnMadgVi6eihDwskdbm771Tc+WygP48fotnJ3SjGuSaThsB8hybDvlgDQH4kc0ElWiZ3aIqjA+n6XLJygtFDmKfYNJVao0Iehm+IwYl/DIhgXQ+54eXlj4THjbmEukxKiM733CyfRnx6oPF3pAHdQK2fhdRFyUPbHUaT7Pwuoi5KHtjqNJ9n4XUQ/ACjQi6BArwA0RMACRANEKMEGWAM4Bfn9CixpN6bTi+ktUGQ7u5x5N1GtWV9DUp147ACEIQiEIQhCEQhatCEIWAQhEIQhCFXCKFZj+aLZx2jwuHtdRrxjn6eGwiTz464+ezbxUSCIQtKBhCCFpQNLVIM0ilVhEIWlA0tzc+XZBSUsdum/9zckdIsSC0dxGrRa0SNDLQcD9uJGhloMjEREREIiIiIhERERGBWGmo8taogN77efhhIH03DNDoD3qZZr6gjq3xcxH0b3oG4D99u61L5t/bKDn+AwUJBJ0KPqUA2NGvwX5kFOSwBTJffxaV3jEvj+F3ZogFV7Vdph7LErG2lRbgciY8tDtjHv0elbLcgr850tyhh34qZwNrmm97fDdM4G1zTe9xjTsCsXcz5FI15SaO0a5Dq73cE4qCfYODkbdu9+XC0IehnEVLUMatWnN03t/ZWHAvbs8yk+wnk7OB0mCm6G44sjJhZGCgFmhjpqRWl9qLzQTCyMKtYVME/z7q50jdNPLJt6WzyDsw2AiY8IwTi+Hjhz6emPpvkyDW/7XdN2lnmJvbzqD7joHYHiNS3KA6W/pPRIiP7e9dd/tdWYzx0d7610P7XYuQHXoS5xV/nK/82ljW5HH7zFqI8G1d7I24rS9G72ud5niOPS4QUP3h1f78iJKh0fBZ5w3pgfOspkwlAywSvC1oilqP6cWBEr3VSqa9vVY/WMYd+KmcDa5pve3w3TOBtc03vb4bpGACjQp2BAyAA8RMADRANEADAB8gaQ5wpuh7gsPXS0/X1N/5S8p6NDE6MraSs5jeKWXObBCEIRCEIRCEIRZgiEIXIhCEIRCEKpL/aTQ8LNmG8DouAA/UQ6IkYWOeRES8cuv9ol9lbcc1/tEvsrncOfazk4Qbrdfbg//li3PQX489uL+6wLDZ63S2O7j+3HNxzcc3HNxzcc3HNxzcc3CARERERERERERERER8AVhf5bcjnl/BS7WOh9eZVbT7QbwVHxOmYfp3on38gVCtcvh39p6rnBoTjWy+CTeezNzVQaDLpLcTFyYmge1xwa9WLyuFPuW3mIWXBvJSZ+OSzmKWLUIlEl7jZcPuvxhi2fhBZfR65Eoa1W5LqWbxDYOwuwUKDDvxUzgbXNN72+G6ZwNrmm97fDy6dgVi7mfIpGvKTR2jXIdXe7i3ghsbAAoy1mX0hRoJJf2E8HgTfFPqNSBJrb7ZNWjE+wcHCct0nQh6GcRUtQx5Yo60L1WGY+sqzOtqXZn5KBCwTUgPoMNuOLIyYWRgoBZoY6akVpfai80EwsjMVWukqhVwt61v5b3+z5EJDOrcBqGcqxgaZXq6MJUzJ5Tr93T9xO/ztzYnxrDxmrlTjaptZIIYju+qNJiq8LJ6hzJlKFzRp4cnF0rsybwrwaiYVX1CnhmfJAWJi/S/KFXlxUQ8/ulOfsYAE/H3GqzMkhgNcy2Y8wdagiJxNKod350UUuyXs1oyjUuKiV/EBYoBCLQ20CQBoVkMR/NZyBik9b0mVkk5DCRN5pR6E9f/+XqI35rdIAByVYXZLlBwpV+JLoZ46vBHie85pTDbJDg5YruQFSNnz+GzoRlwLgKMWN0C0hokN2Qw78VM4G1zTe9vhumcDa5pve3w3TOBtc03vawCjQp+BA4QAURYAEBANEAD3bpKBv1+gPjuaomXLozdHeLcs/iynk3THsHVlJn1NrejDjjkElFFFFFFFFFHfvBCIVAQhCIQhCJ2L5YaFmY+KwilVmwPwz8b7/HxvQPdaHVd0z06zwbB77e08d9u0BG30Dwa+I0JiTDatYSmkWqvtLEK8x9K92hCjsEBauxQOz29PWQQU3nzfBFjsTUS2zrRqbUOnttc6hS2RaLDaHs4ehERERERERERERERHAFqzl07RlnRw2GC/SmAHSXxgJzSgDIsXPENSJWDBA0fwFOH4xbunNexgVKCdU6pSXC57xGIDuPoGYdOwL0huf2G0VFD973JE5UJVUYp9NGIm4tMh26+kRuz5Qz6jaRURSsr1eBkxF5CPe4MWtyNHtHtlwI1ZvRHY18YgnWG4CeJFL2j2y4EagMqaOOUEFgZ7xTm9j+8jMs0XH2C6ENa7xdc5aThkjU4TUE//j7rIz6fX/Mg1V/8FAOj0aEYpGmFmYylk9O++XhjFNmfb7QtH2g+Ql2Mj2HHZ+/fayiVgr6FfQr6FfQr6FfQq9YrUyaoBrL2PiZudtcaQdVUhJxpnrtm4MjU8tbcq9iSpgVT5x2bdrxXwzbZ/hZJMQ7wWdncAyd3M951coLD88BdfY7bIi6Dlsyoa1HuLd0bBTN2hf1vB6i5CWYCf+6PpPp9pfT+8NsAF5GgHO+JgveN0NDxq2ygitDW4Cp7lsw3mTGqmyqSqJc33ElLEWe+tth34w13+jJPcjYXINEiIP9V+F/+YZBM4Cgv1O0d2/5okWjhi75gbq053qLfVsOfwF++7XQwmp1lT9NSRj2NM7Jk3ROjvsNK/I/GS+J7PoGpqEpDYbkaPaPbLgRqzeeVF5CPe4MWtyNHtHtlvMKNC5IED6ADxFwAKEA0QAMBsGKk1DQd1/chQuHa5JWC/wYJP9bTDiKOw6yb10GP/X/qB32UYcccgkooooooooo794IRCoCEIRCEIROw/9+8ParwsYwdOMTkT/Jub9AAnogFS0M0qD7NUVKffqLyIauVlUB5CDU6jQmJMNq1hKaP+jdvoI/HAoMCIdmSXCvfJqoFMk8BcLMFA13xe6ZUDLjBfRibSunbtZ2gi2JqJbZ1o1NqHT23VYq7x+zhABERERERERERERERIAMfXucbVeDnT4WkJEp7EZhDW5NiQcg5+O+GoV9rbwEt7cIa8+UDFpGME3voKcxQQoU/q9iW1DoDvKLkgPRgQZ9wC+DnipCYQkV8wh6qqiRER4CRQVl4+W9qPpNvvrmC8GhwHtzSdBC+eEBRKFee60nrfTATJbyxVgSgFXo42x/EX7gBM1exdXrZCLUCB9XUI37iOv/ALv2P4i/cAJmiKLeDxT4Q16CXqdFh32qVUMJsPFcrMcUYv0chmKzSyAOZnVD1sDUqn+8HTu6ooBS96yrM62rBHN4PQ+/osssLccUQvt3vl4IPt3vyzRXeeVlb03oKEV0ZQ/h/oBQorNim8vhgAk6kRtN3C+CXQqNHJZQLyWpwa8tkaHcxCoUuR3Pp//0mKPDiix1Enon7STUorlklESSlLcdwlhrYz2CuYShNaYvGdRu/72FnyCLKVtryuyDwuTj3VMXjpU8FKS1+SiGruH1krtMxobT1ISpty0VBfU6PXmkRMplHl4ZEYOFIOMhDt/kTVUPqStxp8rgg93Ue1GOePAHHRW9WeUwn7pKN3PDUFz9lz6hl2PrQC/DjTF8dOdAxWmrDWdM/3Czs61fHgsuFCfBTZI/FOtX58TDR3Jc7HDOwPa2r36/kshMHnwqyfnWm/0RI3fuG7/OJ9hE8y3LMnq18cKNpyRrmmTY6Zuh0pRuY1/Zb07w/GKvRxtj+Iv3ACZq9i6vWyEWhgo0HMgQRMAHERAAoQDRAAwA7dEfLm5DeqOGzt4niezoABCEQhCEQhCEQuRhCEMcQhCEQhCFwnMot+Yv2qogESm7lwp31frmVzuR5dZ7BZif7BfZXO4c+1nJwg3W6+zBQbwIWFsw56ghd++vA9c6FTzhWOYu73u97ve73u97ve73u97ve73u97vWYiIiIiIiIiIiIiIjpaKvbgGPCr12BQNpY/UQmKvRxtj+Iv3ACZq9i6vW3OrqEb9xHX/gF37H8RfuAEzRAtBoWaWQBzMRHqEGkdy+4xgUp3dA/ZgaEAwyGE27ccj+t5nC3HFJfTegjYLC9GxvV6ytbvflmiu8+mZzZ0PoIjdtPDVATMDcTfFrrZAYlU0cFLNpbE1RvDyC64p+emjAsULEC+thMC/k2o6c6QbkZbX7q8TYDGAzVUgWssyNxncC+bntrfVVovityXTxNnMbShMB2qNbPiSL26cfnufG6wyRRvBCy6C+m4cpnlwrLc024Jv1Pb8BHI5WD/R4KhnXm6H+qMHwFvNuwtVKiS/Rf3aH/VIDly7ISzEbu31eK+u6/r8mR/e3YggmLoRO2rEP1EJir0cbY/iL9wAmavYur1shFqA8sfqITCYB9DtnUgYxznggSwo3JJgQAAgNDfAJ0BKiADwgECRwiFhYiFhIgBohDfPf+yf8WB/gM2BZ59A/FXcY+U/j7+U3KXdxskH5ZfoH5Nf1X///Dv+Nfkd8oPuA9wH9QP7f+S/ai8wP8G/kX99/tnsnfzj0Af7B7gP6d9aH+zXsA/xH+N+k5/nv898Ev7Pf9f/afA1/Hf6DqoXgH+Dfgd+rv7Mel38d/kX8x/iH67/1n2574fWj0W/oH+G/q/vW/hn4QfsX/r+7O/F/wa9y/459IPjX4Yf2D+4/2v4F/iP4E/rr/kfF9/JfwB/av/AfYL+N/wf+P/hr/Tv8J/dPaL/CfwB/AH1qau/0n8GvgF9evgX8p/iH8I/jv8f/4H+n/7f3vec/yr8GfcH6Ff4v+KfwH+jfQD/Lf4F/Jv43/D/5D/H/+D+8v3t/Hv4//N/0U/b799fcQ/xP8l/AH6Af4Z/CP5l/Wv1i/s//X/d/9YfxT+I/0X9Hf8B/tv31+3/47/Ef5N/Sf1f/xf/f/AX+M/wv+Vf0D+r/17+e/+P9/PwR/hvsB/Rr2Dv0J/kn4s/vvGZ5IO3dXC+xxt+EMIKroQp7sYV7VGaDjPQ7qUw+ypHi+0YpZst4Mo0TSxwM38VwVv0p5iU7ZUZbMcCgA3Mvt47sTnxTSW+X0TQBPHdic/DbcajNxt/ELmxAjQ82x+uPq3KR4j7tdAKx6it+NPur0gNjSR8RB2vBY+eWjHM+nnGgF6x3K4/GVLC0wBUu89DkG1WUipvFjaDtU1J87uMxM8Mktlp8JDe34u9tXWJcAPJnKd08EkPi8RQGgvodUWk8WTwyryMV4Uo85ccEkWXdx/rOXRXLjg3OAUz5r83YXxspeYqmCM1hD6Hg5vYIzHoZB9rADjwSRDd8eH66drGm+D0xJL/y71x8WVSgVCZRJ6Xslu6ctspgQ1gI15BHDri+HodtZ3hoIq2yzsOHElxFqx3Ib4H2OAJxWHcK46j6opaN12CLTMw1PPU59MxD8nfl4Vb5ajEWxPzk2p2TiaSatEbL9XYL2QcpWUGlph8uQEF5Qarn3Vs751kQ8vnX3QhEreLStXheAP9Lrs4Tw8YAb1Sim953poNVXJfLoWKQpBC1SVPOpYc7f6PsChVX/p6LWWBU0SVQa0RYGR1GPtyvimC9bWwbNhlMh7q/PjxfMdYgD87bcvt/uD+3gB6xYK1oLAjm9d7GRCXJ+iIM80wvPhuixLdpYiSTuCOL6c7K0t689J8axtYAtLIioswGl45ReMXrm0LkoXWciRBO8SuVUcwP52aoSiPEggSniEtlwi+FMb0jleVEqEL2Rq0thccQnqMGz20hfo7UbjSekTr5LdjYOzYOzYOzf2n7+xiIXSgeL+i32zkrn150MFY50dP5ABsOf0uRcBjmBywW9Fzt5Hbi+dU0kWM/LTlRxj3ra2Ds2Ds2Ds2Ds2Nu9iW9ePNndJP3U+x6G7GMVrOWS2z/yMETV2SiBv02Xq+jxGD3Sa1zylULm7tEX78z78z78z78z9a/JMSvqgNUPFmbDBB7ar/OQ+kdBsny3WfHhJ/JFu/zVdHvw0QN7GAHBBtdXUjsftqSTr5LdjYOzYOzYOzf5NhzPvzPvzPvzPv2DwbxivClHnLjYOzf5N5k5cbB2bB2bB2cEkWXjFeFKPOXGwdpqAW+S3Y2Ds2Ds2DtPSN0vGK8KUecuNg8UAIYMluxsHZsHZsHjRF+/M+/M+/M+/M/W4C3yW7Gwdmwdmwdp6Rul4xXhSjzlxsHigBDBkt2Ng7Ng7Ng8aIv35n35n35n35n63AW+S3Y2Ds2Ds2DtPSN0vGK8KUecuNg8TxyPdujaEsT1CR7hUx9o0spDsUd/591m+rZ9CcuNg7Ng8aIv35n35n35n35nqCsOgpZQgzeBhv93+PeesexsHZsHZsdW7M+/M+/M+/M+/JIRef+wdmwdmwdmwdmx1bsz78z78z78z78mEiXzL28YrwpR5y42Ordmffmffmffmffm6iXzL28YrwpR5y42Ordmffmffmffmffm6iXzL28YrwpR5y42Ordmffmffmffmffm6iXzL28YrwpR5y42Ordmffmffmffmffm6iXzL28YrwpR5y42Ordmffmffmffmffm6iXzL28YrwpR5y42Ordmffmffmffmffm6iXzL28YrwpR5y42Ordmffmffmffmffm6iXzL28YrwpR5y42Ordmffmffmffmffm6iXzL28YrwpR5y42Ordmffmffmffmffm6iXzL28YrwpR5y42Ordmffmffmffmffm6iXzL28YrwpR5y42Ordmffmffmffmffm6a5advbumE196bd24QKCQnBUuxf1WITiy2dw8SC/uPEjlM2RtIjJkv5LiCucpgpoOTKjR4kF/ceJHKZsjaRGTJfyAtBhkAPSfZLaLGQA/dU1w/m8SCyWFzCW8GoTopL5YPBjxc7UuiIwt+gCSxL3YJFGP9CAdz7W5voikA+twHhas4lhcGBpz4MK90Vrnzm4NOMGPXct3Z28JJGO7XnvBEjf8GN9dLsFr7Jnnb+KwUvmZ7o4O0X+kQ4SV1ijUJlxxb54gHDjNXtp+an0/qI5sUrfGh/NX2MbptAaEUhjI3W8NMbzh1YBNLUpP8Ro/TwJab7MmLA2/mUto4xVe7tuYdcJhhEklekaAOP4p0ARIxrbtuAOtycGKiMsrIelWNqsipwqJ0PjIL411QuKJGWXYefhK83/NSqhYX2VRhoqbLqIka9HGBEnYXXZb1l3e+Dn4jZ0F2Z6/dgFV6cTUV4h5L3opQqaOfsLZTBi499KfnudSUsElhJqYvnApggXwhUuljE9aboW4GXGP+VZTyQbGJ7FPQP//EzJT5EwoyrxJLBqH6nviT+CwEt/U9uiw6hBOV7G4AxLclxtwXWdlPiL/7TMRykjIetLe8NvOkIUV8zfoMpoMBxMejeGnDz0vMo0pCRwjAS39T27NHPs4X5rxtJTIEGQLcH/c80eICGOCaBWszM/bNLco6suyxFbPXkjr7I9bf11hOw1iFh1BokplRReTVlcnx1BLn7kqwYNO88cWQncI8+PmcwbazfOuFfIxs/2PPl4XS9h5pu7snlQKJRhEf4yYf7Ir/NHO6tKaRg6qkZPeiVo9FKOnUXLvQ0+MU1Q6Uvx8TRWW5NQFTkUAkySc2aQHvYjwgGdpKD8HUdI/BpLsua9Zux4U3B+8hT1xJiRysmlxEnvXVSQ9Zz8VhAxI+OkgVJHt1OfrNOB5tK7Vdyt1mLeDDKYNkobyIXoAyLhszCSAv4C+IfBOJVYLVrHdVvdK/CVIQN/3lWu83mOJ1u9/ktMRk0wKuotgTDystyxzHiP5qfbATgh3PoBWo5mdFumfD0ewEQt4+p/0NrQydNKlq5lj25Z9sxGzF1+LbE5+7Fx4uNXMXcaqZrzAGqxRsNzNogF4IcG0ITsbRCrdIoVd+JiZDsJMZRCwhMTxtTfqtV0b9gDL8NDhC+2y0k0Gf/DZEB81avjhx/Fiwe9RWr1xY/FoMNEq93JVjarIoegQdFS84hdbTiuB6mEMrm5MRrnih1/CQyaVDkY4TkQbACRtQsthqm8cATC4OPCjNbtvBGP5IX+dqCS2GlYe/CMLtarzEdcX1ZzddUPHDGkNoOddodppz1GwvN1YgjALjlWO66S6gwgzuxLBlPqD/d6HtbPHtlSdbQAJBRsIUlbjARDaTd7qGULk1R8bvnayja3iRySElQ+rrufvq0cYoZB4KUfWzq1SNQ3vycgbrRKLPjCIC6aCJ8uilECpSXdNTX77WfJF92jMnHWblNBm9TLb9rkzH4wzsIli5QI1MCc8gcI9LmHxA8rfy7HnWv9q/1Jc2gyJPpFpo62OX/lYnU8YLl4VE5JEsbfzKW0cYqvfxatRvMvBzPA9/Ue46xV+LEJ9ltD8DsjwfsPNcFH8Njlx9XXc/fVo4xQyUHU/9j7p4Cs2EtCyziYHpZzsYnX+Z0wzSzAomx390IdU4XtC9hGDDD6mFa5EBs2OE8X1MtguYo40TqZrK8xHAcNdcKGy/zI7GKYRyFpwo2eLmmAbXvRkETY4oWDwJ28QHl9mirWg1GbuUzQGnqm5PlekONcr6Z9OyqrVDIHmeP4aLGAKYOHmy78MFa4uTPjS3BbnT6CfpjLZxaVVAO2Ye8nfgiIWEIjM2gIJw/q6aqnD9AJ0V4ShhQeujFDVQjrAjoGUn4V9R2h0CULgFtHuvPZEy4x2anmseMxauZHoDEOtcAsviM+r3N7tecLqVQ0qXKYPPRWzBulN2ydCLhjY0x8tCD4BgOfTNkl8tI9nXip9bdbQA60mO/kXtGGl/ArshCIDyzMskPssjTGRPd6phk6dyUeBEy6AS7vYuGZHDNgDdEum0v91WBlh+PVEiKEEpiNsKMGB9ki83pjplCa6mvcyksj6NE0J/TfXPZlX+y1caTKzUpTWjmNxINXy1ewoa83YqL7cyeCMwmIWjXJZrzchx/ewAhMoOrR0xh8NsZe6mpZ5/tbOK658A4e5pyg/9muZXx/XJHvbV+eEVCFi4/lxQEcAQ8Vh6JvTe2PIB1C1uFEjC4dNVpi+lL+LfO93aMSEuDXqs90j4GHPmPrzf4GEA8PCaq/J+5sn1yS2/19y/H5904ESdj/lxF6hrrgmrY8JAstnoaKPKfwE3atx9uXyV6/JbvIDF3CsnJWLq4MEV0T+qm7PS+lCSJLxDyTVDNsFu2EwxAgLLr5znlgep1zed4vNO4CdIsP57LYKDwe7QAg/GbQPo0+AT1gkFwKhrmTkxHzqGk5PVD5CKmGu4J07ctA2UXu81cWI2Jz04zcvXNSxF1nDeEw7z2fBYS0LKdA1DnmEfVK0yLTjsNwB5AsN+TvRm219yinb0qI9eNJGBCOhJ/R5XHK3Dwwk+pn9iNJvVbZTXXbplk+o+RPEQYj10VcK/JrolRqYvc3FWAehcDAQgCZdYPm1Wcv9oTrq8K0L6zocPn1WOxFEI8PEPhkOKX1SWlcZbKp1cIYjH/jqRppT2vlP69kpLNF4mCyN+1FxpVksnoXiPspTuE05RkJax5Fc+RVx3O4AmBB6XjMsASG9I4IVkuF0qmd06LGN6ITlzVKzf+gZ5yJY34O5mCVTdeHtxJ2k5y3xCjlg78o9T88tijkhZGISut8pBNf0CXwbn1vdN/1v8/tDaHgBhaiBpHZfpHaIMOnb34qHyRtXEbnPY5w8Q6IPwrdlFXFn9cfIp+e2KyQ883GNDKZNdd6pXG0/hQAF1aAzYAL1ADiiAFrTaLrYQEWbaYUHmGMRNaCocRYC/1+xXPP6D5DYBpccjiOnh59HWUoksCFY54YJtbr2MTckY1zW3eeljOi1MwMU4PBPfbiVNoPGIpEQqUsiD/nqI32L/dzW9egYADq5ccfJo8naIMOnb3hjTeqK10D+23A76aXCXCSlEMjekXTEUG4nsRQt1rb5nkuymicKpkYPBJnUadS6+iokhWooLg/Cn1t9n0LkgVLHkQEGOkywq1JbeuKu46g8zblcPsunF/sVDHiqELxp2xFmXsLmjNX2uV8gwN3/pmqgvb3Wh0PTHQscMfj2+a6IUhU8bfgl05l1ImHwZ4WaGQlSHMVmeJeNHH0s+wjvXzVimGj1F0nBZu8Uej3tHQBJTiQYyqYyCYgGoo3qSJY34O6H35sj0aeWkZQfzuBdnPfXiqp0bG+4K2y4z5r483o2sCNloN19S6UNA4sda89/rui3um/63+nEAiC9Prjx5TP8IzCgMWR6tvRNIXSDUi4TSiqvsFXTd2PubdNoc30VNPmkxaS5juy5YVHbWYf6Go7xSjeGj7lVy/5eZNv6v+45mcV6jcYd47RQNQ5zAg5uUQPH24/9vbCWM4gpRRn9MCtzJ+aPRJTZboVsSHN0iwtmGPgD26+4EDcIChEVkIPWWt2+I+iObxgOeVNKWbUnnFMq54yv+hsZFXAbjsXcbMGxbLwu2MgGl8xCFf+Mss3Hur6Mr+pHhGZj8ZE1iLwYXDPZl4sNOYwa3ITvp6Zrzq+M0ky68A+4Z6vIvWjabK6Hz3KorVkhxT6+54G2KXfo3soGumxsfPjWuwTsPMkLoATHEz949maJ1D5bIbLKWKNWkELfb6ScgEvO512v7SnRB+FbsorOfpjy/M0rKju9mccG3Ue+uNLfUOrsRlQT+giywtJ6Vmseq1b/VAnaAUReLqg5VeXPu/wDukmCNyj94v0NpeoVMW0X+eQw9erlKY6a0xrw5WcT/Rfg53WuEYijPctoMqmB8HBeQ/8Gq0qD32YTtyRjP6V2YFHjWckDFj1zz854Fgd57RBsQpO3+GTAQ27xaiB5w+CiYq92vOF1KTGHc2a115AWm3fy8rsMqdzU9RSC7ORdLoa4E1H6NPUAtJX6W+s/bZQiW53Hdgwc46rP6mYt5pIBwI1ASkJhmzDrsB18WBt5sha8dxTXO43siEpuwETciAT6LMg0LqUmMO5rFevNJCbryjReLzZsDMZBpdvXI6+cUpjbMwHUlCC25h0hGmMrN5bgdwpUiOch44Etz1uRVwGVcg6wb6svzJ1MCKnF0bEbcIRmVe6B+3B0shQw0NSj0cXvxKzua0hyMWxQak+qL3UyIRULoQn//d6HsxPHtlf17P/mZztPnfxBv91YdEBMuJbl2DUpDzaGkYT9M9CitCU+auZEPgye8l7it+kp16LWFH7VTRtGeDHwMS8udCJg4uhbXxNAyYCedoRdd2oe0ipDAFH+vsot0/pILfd91dUPAwP+LoFMb/DhO9htZhfnjYwjteIjUUhjqKXczILcEysrS5mAYvzWsc1CYSvi+kx6kfBHj3ZnHefOR3vBHgHTg/PBEuxTNeJvvdUsrUwg5eNO1TLZAYyYExp6QHfHG8KiR/A3/NkCRe6k+Ecw3ZnGK7MCjxrOSBix5vUuhBUBY7sYzObLorONDuJaSPB5WaSruRQxAryDNdris+YtUcgYVe5g4eN2GaxPREeDG26AtONw6SmHo0saeYBOy4/jmkhJ56CEmROLznXjZoLmc3xcZNvOtrV3BnIYOuOsT0wjS1j1GQaqBQHx1OmLeRodF3Zuww1J+pvTTz6EG0wUTRpCD9xK8leP1By+r4swCC565ZMHPwSNNFi3Lm5Sjr5I/200/6ud8Ad5XkY8rB6B+w0Yo81slWuHQMP5ncixqtLRIjBseN6HubNHKcYSne9qXAgvgbZxDq1c2n+FTSGx1NYUaduqGQ8yZteq73zZ8dvlwKRh1u+yMoMEdoGYLXcFPWh1TD9BZp8Jizlgv+F567dZkT5GBuqJsVwPktQ3MjvNkicK5W03dpWcAy9tiz6tnv4dqfAWn53qOonTGi+i8KWtkGnPvAo9j3uW/o1iq17rrDl0xoi/vx81s3WtoYFal1XT0MTT8cOsnyfvLUv4WYb1fSeE/KlfgSOTcTgBVwkMldDS5WYBOrpNc+Cwn90FAeRvML/eUjmgaOMgS0tXM12yCcpYHttzl1aBwEICt1xwSuvEQ5JUeSkrfeLgpctkOYkh6HSBroLFQAZ9IDb9f9i5kwifDiAoIHMIX2tHWWdwSeZv+sDH5fWQO0+wgX6CMfQz9jkz7piBBmiOCCXhz4/ZL5x603j7NW+WV0VPtVViixKh4K2z2AfQwZC3iev7SqgT6JBKwvi9QQZ7RN4vV+Q/1XtOoKVgUZCKYjVvod3ZZ++iIqK3D1/ZeB26RW2gZuKWENmXVMuDHoZNQq3xOg79HuHTssANrIXr72lgJ9iJ9Uuod4HGxGGIbjCQ1zVF86YD31CF0xZ0uCb0eA3BAAQK3Rax5X5h3vXD9YuhPW1mHgODR/fxLMAcdFTbSE+MXzNvVcDGvWnSvD72VMQR/p9iTsyftxbnhYdfdJQLeTpBUJuODrr4OUNkO8aR4KahiPwIgzv2xYcrIlEDSxlAqaRg6qUCJ7nhLRINVXY7OvwKyc2zlvBWO1wzhfY1JrXmJ7olBLGyFHWbgqtQadMi6WIOUzNCqHBzpUz96lGldsjJPMmRxCla+Qvzm+tFkKOrZ1gfiU5/lP85alCmzn0o9INWCQy1hY4nLOfoho1a9k8JCm7+/kX+1G0GyDEgfySctacV7TlQ/b2P13o3JJtVE/I9rgy541zJqNT0nEtMo8nrTgt/03NmITv+oNryYZLpBLtMb8duWmCz0LrUm6kOUG5DE2lQD74ihmt9IpWjvUiYKy+ebk9Wse3RsEi6JhMYmLAYt837+Z2h3AaAnptHwcLiK8KiREQc8PbeHX9e830jtEfTojS1C3f/WANFNXP/xU+byEpA2wv4r7EK6xPzcDhvRV0QIIKnt1V9q5OZiw0oRqgPl9jsYsHhCcelFxH388Rw/Xv/5DwSP7YNFrYyVXqwI5FA8C8si/j1eGnkOlUUm2tckAjiM/5qH6ifNOo8NQcfISyCAQVzRn28xDR7G3oa1mMo2oJO8+zkGWF9/MycN5brLsZhS5dHeEVGiquPLRfjzJmOHux2DOuSjc+0rQaE4TwxpPApd9fmGvNaoGA7eXz5+zbspHnHmBhBdB1ZhO6QBLJpwBjpNK6yIBKqSBkRY/T7nyA73Ph8zyNtZpfdFZxeAnHnoy/mUyEB4HpOVGYpy19eAihgQb0CzZaXDuKwLTTNDnKLhnYTZtieL2MDK5b3+O3dKGWdlkoheSkwiGngR2STl2K7vwrKdMwCotL6RvmVTIBvYOf9Cq0+848EwzuoHVoK30WLTZDW9EIpdu1HU3Ay30029Y9VogC140DqeC84BE5q6+ra6zWKNJ90EuMOCRwXOkpzOJox5X5gStLJ3MZgbKAUAwCV2Mo/ox3nShcErrxEOHFrSSB+RpQuM+m41vU20s3NPXbrUXqBoNq2PgAHquK/LsPSDLrqlTWufLnMKaXE02WweIhMUfKlsrgs68iLqpEiNVIOQCT8RWq41UxLEUGgnnZuX3aMzbmrpYalwiVOsQpv/ufobroD5lO8oK6WmGRl7KWdB/gJ/ypEIG8Utf8p7tRjUmHhTzdAq36fEG9zvylbn3qtjcTokBXOqO2xpgfn6Ypnah15F/tRtBsgwjlakGME7cKGg9fUk2S/zqT+9VTMllyh/C3lBe0szVhSnCa0yUxdob7AxXFfVfgbgruhTEO4iE1Bo/ayV4tiaSc2cFPL5eV5+eA4boMpY9qMlmZhRAR6LggM4qDcACYNxjbppY0o87U2Vky1RP1SRiGoB/PUPcyR9+OeggqhPa5wwZvk2Si+yOO3dKGWdlNvLCn3eqn84TqKKJQlqcD8J8H6HkICqog2+VgFWOmbage3sxAaBlFCnvrCGAjBcvwARZNLVZMKCcpQyK07ZL41lX/N2mSRvq4BxbFKilgElyAorwI3EMqKApp6YOj6bmAQiFAPz1fLzEJlKdDhnWeEl3SnRIvSb5hopun1CQA52zmGG0QLH4EnxixFClfNyU3S94bAI1TDQxk590+rfQ5uhrG/rdg4IjMNBjB1f9EL/CpKTrjQnuuESp1iFN/9z9DdnnnBQq1TfjzieyDXQWFbO19WBZWmH5s+CYzGS+t/xOSg+bG3oa1mMo2oJO97s3tYIuoqo7t5f+kQY4JpF9hino7w9rhVJGjaf0w6jZtjeZIfKOXbZK7b2G9RBVfcfBYT+zdsKZCB12+VyVRhipabq8fEWdcfAfaxSOKcl/a7qqTAf/DHrZc4IbA1s64CxDd7pdfyCzEAbngR3Hprl/Pt1N2qV5n9z3g1sv/yJDbfNeUMXhDeUDJ5otaJF2tNkX8MUY3DWm03kMe6NA79cJDJXQ1/VS7KG8XutcKzZjkAqWhbsa3DRWhb+qE9P9xtGO/c3su4I2w+pPSnnj+b9ccGMxJbS+OWqyBog7iDJwHmKEtG7W/1gqUsfRS4DnfJOq56J/4eJrDT8UbBIQ4PR2C/8kVpf5GT07dEaUOnu21qx5F26gV6M+S7MVN43XGO1saR7kW2hSjLPpuJN0rm7xhqMBFJFJimrIEbzNo1VBDcm6mJKtJ1beBoMRSl1L1jkrWI7I6wiXsk13Fq6Ifs85Xl3LCnlljZ8vrByLMK2gJYP525tSJsvnov8yiHSVn6Xq5kHm/o5g0kt2zyHyIoHEFJTGUh0OZoZrLU6XJ6J/DzKOb1HG0sARpgOxix31tbRk4GiMdq026YPb7R9bHO8gDeD/e/wDzWcEKFKr5JnVHUxVi7dHQ2QwChLuJCteMjSmgNYuHJFP1XTCGvPPGNEMJkMFjiYXzrNrtKw/t2E+KNJ9sP4x3JbtoZ0tfM7LYDS08nhj7Wwkl8Jcm7h+ekyhC/VP9v1S4KwemqJY9yv+816lf1KHlDjbUmUMN9O4wHDiEaPMCZDBANTsNBLh9qODeWEu7Rb1qBk3f/WS2lrVIys1TGHYL9/d4f+m+SOnc27uU7b1uRqndiHGfHb5cCkYdbvrCEqvv+9ywBL7Cecg2A1H6j0F4gf2Ke93dbFxCMcUK4WuLOFtqJJ3NGS+H4+DEdWyPyhSmdZBwfL+F+ehm81fqKyC95qr+ShSbEyKiCZSvnFrl+xnmpsSBkwoh7I8FMn3rNXOHifWqQvHSmaa/6f/m/4Yw08wCdnNnfw7Kaq5TojxZoShEjY+vWGJwAq4SGSuhq/jvTyu5nZvU3s0WNhZSHEZRAJc7HiTsbLFCBexUYk8Z0kPrljlMJ/WMqLMLdz1ufBjdEgGOvRse/XGfErOovsxivtmLCFDIxGmC5MAbnD9xGndBXcO3Zet5OCiI1dBKXMSbpXSHpk7zsC0fbQCXu7pLGaBoOQa2fR76yAl3LegLPx+d07H3+Ze1wDmLeQ2U9gjcZ9WFB1FhPwPx1Z8blzfQdR1+BVhrbohyNHLcfA/Ml47YUvd5AV4EQO4U9HtJ0deq5KiOrPmtHTLRbw3V63Wqmnv6wsWNPNxt/m1eSbOhbuiBMNQxAi1VK46EfLoi/wHxZQR1ksB0oXKcLrOfdlZkz7vcmj8PMo5vUrLM3pu+0EmE8e2Vnag+P42dhJZbZNSYT0HV96NIUWE7pDuEpneZon2gcmqEfU1PE9f6FClV8kzqjqYqybBYqcKkzJCqsxyvWtlotzg64O7OK2bWtSV4Rbq/M8qf0yg8qCNhzN9ByLJSRiXfD2qj/xNLJBkwrFFMPHDnIgwWP2iD4OfHr0hwePxS/1Ki+/mC4mOWWmtqbWU73oYRypvvZjG/q0zG9A/zSx+Ja0WtjJVerAjkUGi+J7Ex9iXYZKsCGjm7O5Xj8hgTQjlgpXLtXKuAHxgsHg6BwOZejTW4z3fwqEwugCSnEgxlUxkLdZOes4mYT/al1leGXJH1EsL27HfhWU4Fqlvv82eSdcwKFC0yeSL8J9YlZHzCY+jdbvboDIbrCYLLyS9wFpBikrBEsy0wxBycLZqdT5Ril0EAin/2JqClb6TSK6idnR8DoXAeeqt11RBLM4VZpVBBV9hd9Zru9qxktWSHFK/fTHiIyeHEZ70QrBI5QeVx8LMvnoCQfH08RDdekEKvQuDrKpSGRBco/FtbEcgLwQgYYslZGs3RQDmGxKHwKOHnYyJNvHeynUZzvdf65HM/+BQ/gQlYRTpIU0mxfhHdm26enYSytDhb4k8WAPCXdaGTcw4G+69RvgrgD+OojdZcw/gm5XeH7pZr+obWKPC6LRTDXPNkFz/7b8+hwU65LizfpSdAfadwb6+IGNUkjW2mKXkt3Ft0tbdQ2vhLNQiiLSn1Y6G2KW9wLjfXrHYAMyOvn53oyK8A05m4+vyduATmLwDlsTpkIRXhz4N8wKLfTrnKaufaPijUE7quG3+RKIi8I8TtmTP1F7P3Q97w+LXfYhuHpmgYr1phHY0hSeZErOAPFQgG59Zf3a0RrxSB7qk/7TjgbgmHkRQazT2TYM9n7wolsQhLRE4CEpKtY4N2NIubOj5Gcoe76WQfilkNRBHL0vMlK/K2vijeifqoArsXAZFaduy1VTQrs5dyLiwBsu/GD9nAagErCWE1OWuRqHOyh6pNywEP5C55nl+F3McKSJRHW4/f0Owh1tTR6MMdfPIrTe2qh4MwIKftQI3ENRx99R7DzZNcL8mOx7HbsPKktPkYlgX61mIIbIQ9grJzL69SdAbhuACq82AyeYaR2/f74W3nc+Xb9tx2Vz1FVzv/2S1p5CY5f1N/73cWcyAEMes3GrmdU6t7JDWe2rk7N+O5IRWHPzIRaGGQk1u0I1t8nPeNBgqaOvykcjfkmqTdT6b95FbDIJrF68owIE/6G0P4iMJZ6gjXb4CkqCOPXkJjmCii2Epqqk/UMXImfh9RuHyp1ypKNt58ZsEwYrReG1+c9r/ysTqeMFa9IRN59apHnVQRmYkIhz8fMimnTNUS+P5uu47gDN48gUWB5Ju5XhrJnY56aUq6SWJNVZbUAMlDWJxZ2RK1rE9vr7fMCuA8nwjuULU0Cd9OvpRRws/75WL9Si2AHCEeVV+UC/yi7FY4pxa1Jq6Fp81DtJJ6QvQR9zCQCBi63ey+drEAmzKqwe0lE9E0rd6UbeCxTrdp3zI/0a3G4d4r5/TqlqUIxJ2uCfYaL18uPx5Jjv8CuxPY6xMvp5saVfWJ0Ekb2fs9PAxW09oNtvBeXfDon0vfoSedjLy2AwiYM60j3P6/b8QRsPBZtKntuTBrLlWZ4GuGwcDK//Gc0LLY6E84S31B/Y9KA1v2gysR9l08UrMhPv+GJg34sAR4E0WpeCQqw7tcPwH/Gm7yNR6uevsPn+ELwgjiAdsXqc0Oey2S5ooKqAtX+Xx1f5Atul4zSTbl1uAxLJvZbZEbNHCtFii/IR7cPjgSJyvtW3Jy8uq90AstahEoagZ7KcI9NokqMarJRO8lVrUUqx5Ic7oXpOP6d+vx/3jjScuuZwOU1LylgNyhn8wE0PUVcMEMcAO4H+6s+DKUP44RBGhIhGUlDmGNEqtFHicPZpi3rZQ81qNjO2ao+En/kZOu1gQBdWEqDOosf+6Wxla1qmZnSXECMaNq3YwqoPX1vlu5s4/LrPJn85javG9jwkozcAM+hJwdIDM+Bj6+hQ9YDmq93pS06A0xbwF6Kdkp/i68inQfS4oYk1BCUNygy1VOrx+y3+ZZoRr9XozqTwol4IWzfFUGilXLP7KFkqNV8NWRQn21ru38sW+vDANnIpgLNZK1Cq5Gq2GB2MZ0RAz/myV3QKJmb52h5DjzIoVdKT82wP115Mr6SDBV0DEseiUu5r0vCsLKhd7+asZVp6gKFyudcBx3V/jzcZDz1rggsqIpuOb19lICBKhCRuebSMu9d/a1pyXOWzNvsfrQlIQ7jTN5tTFbdLZPGGClPKu1ieoyzQSWiFyarjDvmNz7zZSTwQ1SL9fZf8h2AqWHiFvnhYgmRA8CNRDrPNbbWC0MOeUCnOcTa7/RWvmAVHCiLUZ+XpigQFQNP7Pqk24oM7Knat/EgR5ZmHE3SICIFkgWnQaQFG3Z1M9WNzO64C5QJ0xYd2cVs2takrwkgUpArOmBCqOed5UyhsGrXFcY26ZkU+Mogems9AIhcxOAngYAQvpH0Z0zwGnsrlYL2FZhs48jj+y4OXBuOZIyc9NUjg5Q8KIRTmQtKCGWz6KnS7wb8oHIJRoM/vtRuTYd+Bzj5s9k0u0QHl9mirWpI5/0DhbqOAvWSRIgN4ONeDMkWlvp9u+GmjBawLTu/ZfpTmpz66GWNcI+KyTLrDXrvIJHOlUQXm1oZA3IxWbRJKHJGvpAZuzsSvoX0jbYH6HsTwY6HVDbXedw/FvXAQ1pFsoUIT3IjpqtYu7iTDPGhTcDvTpZWgzda9OtFSyjnHom2nVSr/uvvPfNGrBxMd2wL3KwLoYDxzYAI1ExLrwX0lBw5MVZC4tZc5nOFSwZMhx+4gXWrIwsYj+/F4n9UNZvqT7ZfhhUg5KMeSERqfQaa6cwsGYhS71/H+xfQeNZyJWQJMkJKuK5Q3TsWCiBBkOyJgZptSs39S4gf335toyxulw97SiZasGiBIbUQSzGZWaVdQ7dM5IJvEy00V7JkbmqL5+PgnzU0YfHR0T2IC9fwTlDDTGvDlZxP9F+DpYTX6TM5RR8HQ8hx5kUKulJ+bYH668mV9JBgq4IAKdh28CPhIKNQFi10Uxsplcw+05hYMcWW4kKdl+hpI0NuyiQU9SLi5nJ8IU8pcnq8n4/9zT8DSfhSM6z9iU6rCeRUo6hGNj4XTtjKGrJMXKDDmLmqe9rO/rP+238lOkZLhWg9Ddo3FP2FGDza82qSyEhIyZyirsunRvMgsIsgp/GzsJLLbJqTCGJ6swRpCiwnb8q/elJMejRmUM/BePIwjV+dOGXCExrTZb4cjDctiwcjRT5O9xNdC4eaT7xLMa9rWHagXkaFFXul1/ILMQBupZK/hn6Ato1t/Vq3c3GfliHyoLTuEcMDxlw16elL2ROnB6NdnZSV1/4H5s+KUuLEj4M07QCYNxjbpmRT4yiB6az0AiFzE4CeBgBC+kfRnTPAaeyuVgvYVmGzjyOP7Lg5cG45kjJz01HldsTt+YT3fbBlifHMi0G1HoLxA/sVCGqIYpCze+Xrya5XqPlWgmFD3UEKVCAPjJqhIHlSz4kQxHezH3XqMnWg+Wkl+abnDUKoOFiEXCmrNQgB4wa6RCGKl+XEPfUw21KMqs0qsbqbffyeuU7qxPVdpXMOvGhI+Vl0WtnHqiUmmHJ9srKZ5zc0at0uMMmK89Wb9BVB4HjIYiPXCDhv0GMfSosJtIcGHpEojNJQkNkQ2c8xARJCvLSPnudLxbSvKy9VFKuWf2ULEVEan0GmunMLBmIUu9fx/sX0HjWciVkCTUT5zmEvudTAmAlbZ7AEti3lVxZSPlwL+Gbg37jBBuRbt0Y2GVAgxahyxy18Mu5r0vCsLKhd7+asZVp6gKFyudb/x7JkbmqL5+PgnzU0YfHR0T2IC9fwTlDDTGvDlZxP9F+D2Sv7qi4GSd3nPZwO5PuN8MWt2nShpKzua0hyMWNL76cBe17bm/gBxinCZ3maJ958fkhvEdR3sX5K3EHpddn9+mCPkebjIeetcEFlRFNxzevspAQJUISNzzaRl3rwbDzv1qSnxf2yW9KjGJ78pQxm1S8GQRdKsG/T6kMBlzmc4VLBktrRirrklDDog9DP3guGSJBuSpcQTaebPnbbjUC832Q3e6XX8gsxAG6lkr+GpJfzeRc/Qo/T5FIl2tsHnQb1jEoFjuEdSthuBvpV1CXre3fJvgPz1pwGs9vL41quFqGFULHLfxLhRgvrRQZ40bU7Fyr0jAglrIIPyPZZfyg0KNVZUzkHNr0sqxGl4pyRdswYqzzqERHHWhlwbrHHI9Z8GPmVG881BRwTGs/kaMrvT6OxyABl+Mwtd0rgNzq1SoypNOI7OF9+3s6kCYo/MQ9QMe2X4behqrskBmUoYRnViUImcZQhpqGr5TraPQ75meFmuZXy1a1rouUnmJLdU8fUe9HdkRYc9+BW/Vp6fGtR2tRebowNazSo7inLwJ8SAHrkL5At8+wWrGSzaYwUp0jS2f4R3hOu+e2jqdA4IbKci+fj4J81NGHx0dE9ap0UiFuoRjY+F07YyhqyTFygw5i5qnvazv6z/tt/JTpGS4VoPQ3aNxT9hRg82vNqkshISMmcoq7e7qDu7J3e9cqSuSnSHJgnVQ0TUlbUmsRqq+OlJme6g+W+KYaUDhBIrzjLs+E9wMn3MEFLvX8f8dTAbbeDTBqnlZ3N2Ug967NOa8A1hZplkyq0h5VzxpZziBUIu6t0YXzULQ4u52rys9WTmkolOtTpL3y6e9P7SqFMp9vZ1mqAD274nH/m9c30iE+2oe5s0cg4eNOHWYKgm4iEPy8ijc+XkUpsrQGhNP4HZt+2024fMJIznmPSiXrU1c9IdcKmljcVl/5hu0K8i0HOfVRrrxZJqg+pIDvavmGuHoxDhxxwi48YFO/fXR1hE+SFDtliHq/nsmmJpqfUP0aY4p5FKnmP3m8d9vvVGAAzP1nui4LlHz/HLzfWY+8c1D5eH/noI9mCGcwQdf7ov5MR0FYkBKSPGpdy6tL3iWMYEHhvLcB58EkIhetoSTXn7fqzAsAxlzmc6uyRJxHIxLDXKjAQd50QeKsynwicjdYTjG6k4LgGMME8AaFeG2Pc56lg12yBEhpH/OjEqsHtnCXw6nSiPrAGsLWmXMpziEcjR8BvyXPMPbkSIYhNhRq0fhF/TowFbC2x7Yu47k+wWI7qpX1SidpW3HplSe1Lyr8UykDQZA73zQiDyf4p+95RFKpX/8polfRbRJQlnmDQ7jyBIvnRfsEwYZBrIArntWg+zX/n1qrl6klXSbPwoHN1VFSxGFaBqNRLN6cjeRQbzb12RTFnbuQzqwPyMVVocXB6JiNdTI3jCxJL8vWtVgjty6u4YdOfMT/lnW9n3RADRKe7h1KsKO+sia5VZcvxN/FN8QJBTyqDoEiBcEFzIrc8JJIOQgM6rJCe3BcvcHazf2rtv8aXzT4g9Dg2wWwL9+Zb+ajfdmysUD4nKKuKZb1IgopTlvlLtKZVEKhQdKODmI1bSyIFtMzfh3sSVjmA7sm12KbswAdhhXcQ8ivszqJWnbOEgtxKHKbL4oPTf9lqbyUnhEy2JC2uvZHJ+BJ2cZi5O1ahfdAQEvK95Ai45fPkr87wTTR+/hh/i/+7Lw1VmeSYEEXVJm/7pS05o5d3FfD7SXto+fMRSpnRomPVCULas5s64kzFkGUhmstVRcRxrmaFo+zdnj7j57YmVfwCOzalpFe9QUicBUtbTvcKUSftwtk5QbNuXo03EiWP4WS56FfLXyeBqKbJe42zce9w71CgdJyH3bew55UeKQYr7myOHrAqhcMPqEE6Zx6yU75tt3dxaW0PCFFh0yNCgalMzlzkaZpg8u8EeXQI+y0qc5tzJanWvBx6t595lfiNRO5hudghy38hxsb7UyIZwFW9//5ZtWm01or7k8Zf2nuQBjL+v6eYzqVzHEbqhHim5OFIB3Q2NKDnZEs3aHIeI2+5MjZvnmTvq1Ho3c3mjdjEYJvl8JPRDT9SaXWL6EnybXzoKNQ06eyAm53WxUK8Nse5zzK0rGgV94C2aZS27slq0kCD9+ckAxOQqAwl1KVaGZvKLiCBX13HxwJm9G8aTrIAbllAsoDGtPzXOsBrDq7p82Iq3lhx5NPOBZAAo0RJgQBkANEZAAkQDRAA9pxXdFqvMTw323jrDj5DaQuDJYQqLQG21N5UATWKL3QAKAI3fNx0knyhuo84nMGeDpnSx4Ja1pt6giIdiIiERERCIiKqLp4sS4bglg7IiSJIsOCJEkQiRIkiSbJygSJIOs0DGvzzuAutJRi4p8l8ilxDWDhh26L7gYnPRfcDE56L6HSe4PCCLyh8hLZ7Ka4Ne1huX6lQByo5FKX8RBlxZcHDDt0X3AxOei+4GJz0X3AxOei+4GJz0X2/bYtwMSJIkiSJEkSRJFSAxXkS+n+5qDGFBe5ppPSksQsl+XfqeohxS6551uHXz3FPqBQ4UOYzSxMCNi5jmVj1g2tQEvZE6cHo12dkX3hYyiG9+k3XYhCojbXkQD39nXHKR0CLPWGGrg74il8NXrOc2+0KxEKDmvbpxcVTpgOBOQ5H5RxAvIUx6hvsCaCEoRKDtqFz4MH5yQ3wcxHV1e9OD28z+cPipIitGpE95Y9iBg9HaqKM2rRGhQl9+OpuEOFGsmqGvsJP00rXjGC9VDxwxpDaDnXd83YfUxTNJoXUxx/a8/7x4FVWbnmCm9BpwUCN7v+GAKZRYyjjTJvDcupkXQZp/AvV+wV5ZlZiljr/QYZIJ6I5iwdRmvjUSmgUbAMOANWQA4Tn4UxCi+iBjV6rZONtOiIf3JLwkZ6ItlT0l186eU86BzfR7lIQlnMODjTq9tRCOKJBi9TeNDlGC9otNwrC1ZDkPmZQdy3OUQRqkv+mcFQO0zWwpzFsoPtO0xPORzo2b6u4Q899ajUbqhmomDhjA+tgRgvndLIDT6uDA2muxvuTOsYp5bBuZFhVnKGkbUHWww1reHM/r5p+rEpg9b7wyR8do++AKM7onULvp+weiHCyb1ldbEA1PFfAU6pRM7X2giC2EwDmZeErUUvRDb8BUj1sQcEL4QzwsM9Ueuocyd8DAakAdVrEoTX8UGnUCOMQLLM9C/EuXfHHX7/EU1az11fMmuAp2FVUN+Kod/KsoHrLywnpYVUuKzUks0YhN56geeS8apenla7bebr6xdVkXA6T2JV8Bptb7t1Kd7tB+n7bOGv2cGXG3hwX8XNO5C0uRqUStM1MLq/9Oj3n2WpH2UKbRf7qi3XqsePLmSA6kjstg58eeYyNAqZ1OMEEmIb/5fYukpG57tV/er7g50wc8RixzkDkSCkI5gASxKaqnq5zP0kSBP6zlunpZFdmNeTqajflCB5z3NwPv8uK5DRV6d2/YP5JErxmspX/ZebJCXsT992pRlGkVuwUVskM02G67b0msAG7uNexfpooxHFWmYDxs8jPEazVmwEFHtPqIRAt6hYlGogypNnPJC0rf0jWRXTyQlbDG/auSaKxKE111x60izDQRl7Mnz3BB1dp+NssZr8wL9i0W83VjlPYVvngXPNo/ynsK3zwLnm0f5T2Fb54FzzaP8p7Ct88C55tFwCjTaaBAMgAsS4ABxANEAD3KL3+YsHqy4t6uZidyIsBwIPOfEDmd96n//+Ev+P/wMc6Bvp/9Y9gr9Yf897g/5Q/mr+//4A/wH0AfQB7DCQ8p8F/JrUAvx+/f/zheIm8YL9/f+l1I/6Nf6r9+v+d9ZvQ+fmXEX/kFy8PCBNqG5thVwQDDfB7zc4XKVsRAUDPyfJnKhhIZDIZDId2OetAFhJlGahONFT/tf9R04xK6GkN1dnab7ggxjzUrwV5C3qMExo+K/icAY2PG0M0ZuNZi6OdWYh8EV9rxz8wSo0CohMfClJEj5rQEGSznVCwK3UplK4FFMQAAENSksNJcDf+0PRXeA3RaQNHDB1iX99GLeoLrHs8Eg7nVeQ4ITEx7gtXkeWIGvlbkv18yGn7WHe5jK63Ru6CX8sIApP2awhosHwqCOcVQOc8F7XbU3eg4KIF8bF3bA23YIe8E2LUCjoJfywgCk/ZrCGiwfCoIvEn3dBL+WEqNBojRGaM0ZozRmjTwP5XGfXfGwx/6UBGLnvynfWRCNsC/MfQUQb3uO2HPZaGJTImZasNqi+uQNI6fsyqTe5jwR+rzS53UyMjAF+t+VZwEQ/6Me0i8S2E0ZZ7wgyrUSitNwUvPoj8eGg+ovBTOv081P0H8Aetsrnfvm6bt27nacZd01TyeMLTejIGJIhhvY0AWh2M1Lr++rxYX8X2KxPNRTQFJ+KD52NiFTqaTwcrtirOMBJtjH/k1zdGtEIlevyNQa+e1bbIp23MTu7I54KXRticc4KqVxZWjwlIyO9smYvrX+LrItJBTDIV1eVU1poqY9smh2skhRkUWUUpwqd/LZb+A1YscFgc6kbJVhFjWneYgmJuMPnXurRGd0s8kAZxSCjWqhcrsPWYLn/AAGuyMUPUqsUKuobp5cuVOs7j00p/fv+VGExpw6YYkAfHsbBHAK9ts119rvdhS8A7nxTmXOxnSeeHSksLx5v0KJOkTuOu5isH9RS/tnVoxe1HOn5AtYkKAYfv/zzCXXsXqM0/t2B4LWX1K3tGuaJpV8xbOcAA5cGRa6F4AnxBvVDiJnadv5Kx14f1XkXrKesmLUg8nKzyY07FpluAEakzLeQCrwEwv0Fdeb4wztd/M6REeVqpSVxc6+VsyK10YRcagkMS+MvP6GN/JCk7AzezPCbmLnzvlRN8c55F5w4Br83Tso9Nt+Hs3E0sDEzX6B0SyX36GyXz+eukr5JhTHSUHAPuNTcJHwIYfj2bWIC+alsbAM6fRIXXnDKw6dw96UrgiLjUEhiXxl5/QtrbfFm7ZOBidPCDAKnUzK4wcBqanVamIQxDdR1YQkFcYOA1NTqtTEIYhuok6dtJc8Pn53V4tmas+PVVU6zBVU698vn3p/X6Jx/49pIRMcb3Yo40efPvTGhMwhaP1JGMW+PRGn0HUvCCtJo9Wy9wkBAyXj7Mg+146lHxXhkRRl1oP9yh9BpyDE8x3PO/L3AUuiXpk9sCtcTnTt66PbXl9HXKutbRoKaBZYNgYcvGcQHMQvuUWHAM9KBHqoVSsfQVpMkKXAqXb7akjBwurM6KX7+AtzaZLDgmOj31TbIp23MQ6y63KpI6ZE4GWEXB56rbVAJVueOMRAzYIw/N8INDtXWqLg7xps0xXHOPMZPZiug2hwP0KkL/PdPefnkOCrYFgcSqCPOVqw/Pg/tBuhM7oILMhYYww5aftXEDXjJrBLjYw3hKvuQ1IZmGkNifE1vH8qmwBS0Hq6Q1QacHRMuTscKlq7LEXsXEIsJM6uZDCVyK+OX6CcH0IE+ebk81IU1V4B20VMM9UhS/M4OmSlp6UKNM/hmcgI5uMs1XCSM9P1Bs1HZuBkSMS95IjqrRuqynbL7bHgDPab3ITUR27XH3MZe6JzdHHmhA2zdvSAB+d/9yxGOQcm3kZsWmlnpbRlM0Tdr4u5GhKOyLOOaw6X0wiRlFMgJermv4NjZTne94yTfVckng1hF2MlOb4CQmrTmEKn+J1b2I60AynNMTXUr8KMv5Iw1euTzUMPD6FqP7potFr/eOx/UhtIgzaxKyqw2yRW7P7JmRC/bSXs0rTmN2TqD/lP88+N8h6awx1CBvR/R8CX+jymAZBgEjBmeY8UcvSFYmaICkNgTn1wViDCFqpE9SCXNcTz45Iwa4vBMC0x9hEFKh9Q2UCOYntbdiN7auWBjayQKx2nk5bd1CHxY3xqGSRthbb/1Bcv/NnAxIi5If4X2AYGHmNOhXlZbYhiOQ75Zfczuqm/bIwaRVsG/UcSeevBkWwEHfdqR4DpaWf5sDv81WpoWW4l02lgNGKvIb2wLkkImbSzm5k98MPHesYVFhHSKadwMLYxGa31Pgk+5XymAW0hTmzNlm6XTeaAo7RiG6PbWEDYV225RjQJiTxlecznEjqu/1NJW90N+XgCmyAf1oeaDkdQQMtv1S6VoDhP8xOutc29VcDpWiigRY/7ZEIx0h+ufQ4/my0JQ4A9DPHobaYLTCcCBQrlrv9d4BEjHh7eh2ATWr+vTE5nMaiMWOZYZ+n+smR8qcdNuI0QmzIee7UjAiEq8F9QDoBLSbLa0xQlEvuv/BWjnyJ+/lXzOnkGUQaleU5mzORgFZhXqT+/WdZ9G0DxWb8aDgnchLead/kfiLIl4uUmKKvZM/29W542T0/FvK6Bnt3kdmGuTH1xY8BEh+XadYilz3Q9tO4qQgKGzGe9KDZ1MjMsX7IGqqtZq4CCWATFRbP+vPqFU7WYN0/SFRsjQQU4Jgj4eV6CeA6HGvMw2t02036SBuLh360eF8o/XVa/CQ8Dr8frAoRDJ5PbAxeppWweFXaog1r/u2T+26Zq/+sxTsk5Cwp6/K2wJzCkYetjN+lMAdWJ6TjvSSvXPpJVsAlbg3slJg+QsCrjL/zcR+z8R/gkJpIPDNuClZXJ2QUMqawzg6MTVJadl1DPuWcJFVXn8PqVcARQzSRIesjMDAWsROaUz6yLBtCfgMV66J0dh2TcHSgh7HtTrhHxV2LAw3qIsA7U6wVwt14C9bRnA2FzG3oy38ZohPUcEnGC62xMrPAEc1RWTJ0KTo8rgQneId3uV5CE15sdbQZm0qt8tYPADe9dqSGQiZPHkxgl+0GQo9FZjGdA9PIjFFKFZ+2hg72dTA/vXzyVNqlDHvEVngMe/LshNa31wT+4jhnTlUWybUV6rOcaw69dkNYF3unkILEJPZpNA2iXIIJnahS5BVa7IodJ6P7UW8hI2a5sVIU8bwc5VPQGbHTiPgR1iuEaPP4t1mDvar8gIhaKLlyw0B3tWAQkemoKjd9e8WIirxqVeZgZSDh/Preg38EfQ4j0lExErLdUrFOSJOZgfY04fhE0yi0bKKDjRoBiWQb/yhNI9bwgLgerkRoVMp8ezNrjkmKaL/VK5XPWsXpes1PPaZlLtDo70wXRIjnalkHcBcquPOmwfCliridEyLcVlWNudli38xtbqBY0IpY7Sz+yt3DMWLSVnXW0fStzWouX/9YtTsbya7lVNLPTt+eOTPvqrU4w9227/vOrSiziXcKL2jv3sCtgtdYkqS/rS4dmEXds3bE9nLc7ygPGa6yyjxUPRMYKTHel4L5Bb7zsbb7xIdj1jQht+Xi3BaoF/nUVjgwlb5b0GC2Gz1uUiMh8DR5Q8OO8DR5Q8Ru2a8m1Razw/JR7jlxSnqk8k6NsYZTXT0GEN9WKa01kvGl+DNUl/QY7XvTmPDxurLXdn9cza5B/N9ImhcQFZtcAFYoRPXYP2vbPLJcDWJFVB8UoOA62iwS5agb3qKfbGOagTTHaiGqqvRooDehhuzqSFTK+ZNebHJvltAmI1YSPKli1IaOi4SQoLfUDOHpIkIHbAOey7yn8EpuBInAdEmdgRlpjFSAXA2KgPaHuWhdqwbESNfS9TxAqajVZShMM3mB4Vuc9EP5E3vjxhS8mPYq3YMSh1MQJklXPQYRWdUz3oYWcG1WykbJGqcNelOsgynfABnBJB1/+Znap57HOt9+K7DI0U3OTDB3S8UBSvnecgch14CthbZLSSWiqRsz7Xdo0bqzqPjOZXpRsBsWhoDyWlane4mzJT4X1fg7XUWuISaMuTg5Ef3HbfzgCOEIXGUngZEnStYD7tGe3Nt1hJbPBk9hW27wX0YRHPpZWhX1pNN9LG5TdN5rllCRat/S+v2LdvL6ILZlrrXxYlJ+IBJvOpTlpixjwbZhc4Z50BbQjEQZVpXvgkOl2ko472O65lGqoiZLc4Rro0g5w6YbZVx6KU3QkkTbmYreh5XDzsa0L2m0aem5d0J9IFk5H9leKKPIxOQTjbmwI8OQRuL/0aooht53gkIwqt3lFwSAHOiqs+fE4quyibehzHZHL70zt0xws6ejjMH3I4UZt7BgNXMUX1rgXqjB73bB3ujQ/Edk4costOQcc8o6CZTT9eJtSMF9hG4ACHy5lLOu/f9MS97sKAf+oyIpUkK8GT4A2mOIX88f0ZQ8Ouk1mX6StljfqoLzwwQYFlcQ5mJU+jTKVVN/xYypJL/v+6W14BDBuO3ACmOlGOxfCZBfm6qpkkQQAABA2e+O+OtfwCCrZL4YVp+K4miOGg4APwomg3hDxd80d1zKNVRD3vMWl48wyOOOijCOrUJT4PEMsdFuP1DzSeDldsVZxgJRhHVqEp8HiGWOi2sAKNCY4EBLACRFQALEA0QAMSKdm+zv+PY5/IV2KtlrnUFCXAcMCoTs45I7AIAFpAasQhEIRCEUfYchNjVemUw2ELEul0ul0ul0ul0u8rPU1IMukAsw0R8RLv5Wr2o+dKrVarVarV8J2tw/eQtyupdbpC4HbJVhtkRKOqFsQ4RudkXDpEBaQVmR/sf0lHVC2IcI3OyLh0iAtILhbEOEbnZFw6RAWkFwtiHCQpoERESIiIiIiRERESETSxVKWMOp7qjZauEMDjwpF3/ZnC6Di0jU3dpwhI5PrsZcGImv/bL70fkcvi7UfrFGExCslLEtQsc35lnY/fWfllXvtvsa34sqcKg8T2aXWyw6RDpCOisyZrjajhUqmsKm47xMuvxsEwZIAUNMxxupffyFZdGgSH8qGKr1bEKnU0ng5XbFWcYCT3uzXmC8v1YQ47VCImwRmAgAvnZjEdwHyMaIjGU2rGM8Ymohn+9Bf2utflCDllpCZcgKvDrd4e+XFpuL2kB+CywdaMAW9HG5h4QDUprevOxYWZeUh6C2L4MV2RkaTCANQovcBaQBHs6KEIWqa/0nMCHEmkXU7qF0XntseAMPT0HvA8VB0nCvksJ7juZsxueaxLIydL8r9fhCEUvGsUYZA6eK5AS2/ohYQVBGrZzPndfdxigT24N9iv8NzD3CrtvVSeZMxhCClZ4740/xHHex3XMo1VD2XZKrIhwpzRL4tDhmdJMYjwzsgFT9g2SKpAXJrBeo6LHob472O65lGqoh73lCMxmJomI5pPByu2Ks4wEowjq1CU+DxDLHRbj9Q80ng5XbFWcYCLAo0IUgQGQAFERAAsQDRAAw4JN+xh5gL/q74DDJvyCx+Efpj+w/DjJFVaFGyRMIQhCEQhCqiy9UuN7xhejXh+gDmmiOCJCAQoRRE7sHul9nca6RRPcaVBOMO7B/2iX2VzuHPtZycGmh5LFGuDG63X2VzuHPtZycIN1uvsrncOfazk4QbrdfcP+IiIiIiIiIiIiIiI1AE5GEVKeHMhO0O0hf54CBQJvoQU56gb8oyrrlV45IlGs3X3+10J0VdOsQ7Xu+rbnwONosiug9txHkHe5Gk3N3Yj9sbckpk55ZPJYuMbE9hmmGNHJofoUuT9W8M4HHa4oB8do45EWI9NEpn6DuIEbxm/qkpuFWrG8P6wHQ9fsp60/4sQoLWEkYugxMk1MDimxI2oK0qgZ/SsQg9lNWfwiS4lWsp8K4hfCEkGPRQKpgejn0a56CSb5xqp7gY8M1aTzWqG9jeV3cVNXT+EhqQnQ/uSpW4GD6YWYXh3sqV1uoCgHlXLvOiORckkBuLi3Mv2wm7RBZw0cbWrfmAtpxUHScKNXrUm/RzlZwvdWyMnT9NiCy76mC2EaToYEk6+dVrs1zISk6woZYKZHjuzP2obFarVarVaLErY7AGueA/b8C0JlXYH5iDDh9P2b8HY0LrdF5/BCpGL5fL5fL5fL5eyknN2vIclP4RJcSrWU1Z/CJLiVaymrP4RJcSrWU1Z/CJLiVaydAKNC0oEB9AAxFAALEA0QAMA+fcYqPNinV38Ef3A9Nvxht2ahk35BY/LdLAbJUKJ+P+aqB/ddMqoxPlzxCEIRCEIW0w0hmWAPfYGsoHml6TMdHiMxEr0EUhFETuwe6X4k8lhxUtldf7RL7K53Dn2s5OEG61DcevZROt7PX3eQp/QiTdR53Dn2s5OEG63X2VzuHPtZycIN1uvsrncOfcxhEREREREREREREREeAEwWFVW2dUrW8IFco2Ep/QentI2TIgMOR3x21yIz2oA0tA88cRlRIrWDSnUto1n39lEh402PUofONMoR+FDrGvl4c6kMaump7WTO23qfykBzN3wpjK1iQFWyUrKRWPcLDl2kYw+EohgC2PKf74Y2TtSv/e23Gn+ucqiUCSi2VpVAz+lYhB7Kas/hElxKtZT4Wn3FwgC7NmWGGezC2Ej3uNRi9fwl0OzWgN0pU+WCKpy4A5k+TEWz655bBGzjljFBtxbZ1DTyypcyrk8HIxJdmPbXbYGHlx2DhjI4UavWpN+jnKzhe6tkZOqr+4HD2FlQp0cVnYknXzqtdpjV4yR5qDrW148DOx2Nss2a1At75LWyBP3JGZXGlDp2u2MvaDJSHBBqjIJIt4uLczoxVXNR2ct1vZhY4o33t8NNCRvGqwPKZaqrm3YKfZ4Kk2Pjb9RBTB8eXHf0qerQYqKYHabODsz9pJtMsAFApIu3kAZMJxx4LZhoYoUAb2wjY8QN0H2vhnCpvVQh4gMekF/Qa92T7sHFPpWwiwEnf88s9c/gTqEEn5k/MSNrtcWeemxaDURmKVn3FlsyDEbxof7/p2IAH7dioWr4+pZLsFRFXwC7xNrkZkn12GfVvv0/oYe3yGdglt5/4Y5O72b0ENUx3jzrB0BlckNG/VO+7HY7HY7HY7HY7HY7GnmyCXJxrNJKTBzdryHJT+ESXEq1lNWfwiS4lWspqz+ESXEq1k6Ao0K3gQJYALETAAkQDRAA926h0tPAIVN+QWPy3TGOus/mArDCuRNc6F5zs7xSwfADKBlASPg0FRQiEIQiEIVSgZRj9kAJ9a04HksBn0vSZjpESARKbuWiK8SeT96YFfZdoDHPjSoJxh3YP+0S+yudw59rOTiZSXUFVHoeSjuwf9ol9lc7hz7WcnCDdbr7K53Dn2s5OEG63X3D/iIiIiIiIiIiIiIiNQBSsiFleGZm86ud046qaTIn0Bjgpq6th7iO3K/U5i96gwJ42frIYaarE7816nvOy+iOOTRMyDmCK7Q4KtoeaAnCm6HwmWHSHLKu28AHeHw7N40t5tD6DfBe67Ij5RYpjKe75x5TqI79XLqxiIH7hDY8R7/DsJjaL0MUWHIvU7IDyUnG2IrqadcaTT06lJ+JsBFcX7GrW2kLzL80dWu6sYoBJvKWklo+YlCdG8Ioh813lFpxGbcXQCgM3FVJz0pGMnny5qfpwgnrX3Rb32zeWqY1FO30Tip87uK9JzizXQaJEq73DsJQ5720PxwkBKEpqkP9C1z4kVrzNuZ1CDsUHThST/yukApHqyshVyMrN4J+nJ8XeElwSvNp3YEsNUBCNUOjoBGLX0Akg9xHHeGmxQejHCIScEIQ8XrR6X2tJdYM7nYFZAV2jZ5GuLimjYo07tp5202DH8JYP5egnjCAqg4q/Qgu5wEff1wONKN/L9iT0qMPeIcCX6cGleEeV4slrgxKwPodIQoDIuAAq8kNCKf1gHTtEZfV3IgfWHekTcI/1qMyMOeADz4wQMgXInHCxCWNrobr8nn8y/kn0TJroIsXsJpbyH83lzJFyuL2yVCzs4gvJ51D3KPRfD8kEJGrXXjj66Ch1eGm1nPwq7ZXYVDzFJ1AP0f9s1NX2Y8XTSaenUpPxDK2YpOoB+j/tmpq+zHi6GCjQvqBArwA0RYADRANEKMADpedFgw9vljnLA1yeml3E+H+DBmO31ahF8Uf4gEYNt4V5QMLFtq++7oBs48boGbWalBNkjI5pgIhCEIQqDfis/x+6dgAW88A/jvStAGeCAjARIX9zzwBWkykdy72mUjuXe0ykfgwBEIWlA0tUgzcxf2kl6TH0jSpN2c2u71+s5wjlGD6zQy24LSgaWqQZpFKrCIQtKBpapBmkUqsIhC0oGlvzYRCIiIiIRERERCIiNhSsXon6itxTh+ClA1ESqWCjfJnOKvgBLhLar0ejB0ox5vvf0ISXhmKOFLbivAJlqfUYQ2z5WtGX3Sd/F0HOSDGfcMMC8Jy1FzK4aMuJTKm5/T7LeHnAdYSspfsRXU0640mnp1KT8TYKCHd+hJlvi6dqU55nfMkryxNglIn0mAS6lKlo97wrGaxYlfETeuLGy6MbkO18BEthhLhmCvO9wPl8f+mEmx1JbRuyyaqvjmF3an3rGDm/3UYof59kOkUbnxIrXmbc2GhZHgeLBQdOFJP/K6QCkerKyFXIys3goNbChhrdUTu8JLglebTt23BHPbF7UNyKxa7ZXYarmpaBXR9SBA+Z2acor/zofwjJZucRLUKLigizijllLBAuOWRSOUZeKo6llGkVnkBuNKt1PdxmzqtyOSrNvLyhHVnF5Vv3AEGnJkQWdCeHUoMRkJTeM3zcpoAvCQS1YQWv541oWDUtSn4dCqzBSMk4YfhurkXIbjR8HSRR5gsFRzwkrJOdc3ZvD7XbyuZwRQWuS67e2RheW4zWvG/TrMnbeXB5pdD3iu6Qizsgu369AL6KCi0IRsdpDhdDtRV0OZaqmEw9W+idj22hadU8+XEyUzU9fsxDYmXuiyew5pfxPlADgeVkb5niTVQtGXn6DadCQcEoo4ib0p9l5wf44UO0nAUraUZR54boKZCmHt699VXCvg21exCrtldhq5egiCi8dRh1AP0f9s1NX2Y8XTSaenUpPxDK2YpOoB+j/tmpq+zHLCjTTSBAyAAkSgABxANEADAL3BvdIYB/wGEGdfboNE0Bxv/MC/yj1AXTafIV/Iv9/Ocj/1v7+/9d2K7a2f8e13iTxoIeKORIOH7yxBxZ/lnvkQILAiL8lIrFxxlXSKq/e8bhWy3RYDOU7EIZCGQhwT7hQcS2WCHQufg6pTQkMJP8gULCWiOlKrBhp3BwV5DH1DAIMY3KxZUSnwq/E8GChw2aKZqySSUJ0ItrW4FZqdhICGwSpJQlZLb6BSkiR81oBXmToxgsCc/GyKECGfN2RAhqLD7adAb/29MBsmDdFpEgEngsCQOvcjvwXWPxHGCDufGgiawsLJUp1lLdyAHz68uXaNkWPUQb8Q7GFt3X9t4Cv4gLMdzOAE27pvUofapoi4b/4wtu6/tvAV/D+ZwC4r8HiHYwtu6/tvAV/D+ZwC4sBWSZmZoiIzMzRERmZpAUrDj9rxMPhsfHZw28iY1kqiNC+b7MR9z86Qi8QJTjTjiUKE3RIUITUhFagEKb8AXT9Lnnu/mMrfIZbFSwZwXCQRpbiDHAamTV9May8wBoG7rY0e5LFRMBzJvj/XQz6x1geTG2IrqadcaTT06lJ+Jr6rVVgVCr/+FX+s1mJT5J9/swCLyv+bGBqFERESWQfPOp6AmTwi+xTLnzrLMIACiGO//bqbbvcUhkV7GCXDuJbtZ3dke5knGCXbec9HBXg5pz6Dikj9MXpbAv2I6mrCiFV+c6eXKcC6Mh4F+BB5HAeQvQV1lAuoX+Xn4DVixwWB0rILFN7uzSvGkXYCFNyq1kJB80s+UWB09YofzSgnq0H4s4Hd1iXkcUPUwnTzgd3WJeEM6ddHppT+/gBcAc5bjnjocxeuxbhSnr4eAJrpwe8ggqPxaKTF4/forhELG6N6jpWpbzlVUizXZbhXRMRRZfNsSQ/0CEwtMfnEetclHgktfSCB8bKxG0pOyWh8ScugqMBxdVZ91Ep7nfB6oYT4j18Au8IjS2rUqOtesYrRIOSaB56WF2rFgt8e2A4YUktNMeGUH6DZoiJiZBn6audK79VFowc7AlPlAOri3NTQ4ydkyhhsams0J1PQsW/TezTneIFkmlOcLfbL80Utg1sSaYb5WE7mJBC4YiBTFGfq/kd+ogpTY+68sK8lEphG+6GBJz5IJCDBsEICcezaxAXzcy1WRxCHuGBvBX/ZCy8hvlvjrPlq2C53xHecYMkGGP35PXNjmr5ivlaB5HEI67qTZfpfawAeRMXoySUIw6BVuX+yWHVTzAFePuzMIwxbG348z+5ZGux/lKDPUcnm4wiQPMbmaL5rLvWQGkqdTILq5j+1asLnXN1ghrSqc1bRvTZYPkGkShk/ZNrVoVPU2ZOqEJKzCsTyA4ud1oP92ivND/mydIeVFz2uD4l0ODpxnpGuGUlr2gVykY5ZFm5w1IMyYv1f/MCMNgRdKWhCO33/0rIZNvmHsaRpugfoK0mSFSEYVLlrml1O3kjU0TxsMT4oP4wxQBtT/n61/WuiIOsuuFAcP78Cj9pBq/5T6u2Y8URpmY7G4N360iYSM7BrCoSe/L3jKZ0dlanpVyChB5wN2SJvvcrR7VG6Id0o/F54cAK8m61aLwNLShvPlIEjrKMfxpXnthUi8m+TKQe99zS2DL/cHZ4dJ/MgE3RZ6Si0Hq81IvWV/pnA4il6Nui6nxF3MaaAFtve0MwtMzv3F3IiLBjZTJriEy0ohfLboZ7kIsuvrhiw02yB2I7wNItewTC0n5QOM3n0FJRbd/zG+w5SMWvItyEHEEdF65z4kVrzNuZ1CDsUHThST/yukApHqyshVyMrLfmJzzhenPc7okuAp5H/pwe5AxZJjt5wUxsdl5sDLz2EEu/2aBUMptjn6v9pJtDa7N7FhNWnO5ep1cRRZYkLYjpSNfsgy/1FWRzR2RF7NUBcMW9QLMFoT0hNC6kVPRXC1JEt2jXOcwgL4m3MJ6uy0HT1ncpSwQf5T/PtnA/hqTcKmJS0ITd6AmcJXtoXcR1D1FsZb9it5v5pVdfCMxW9cweWL/wQ4z5YDYQD1qKzTI/W0QnmnoWYc3UKBhu9j8YJfSvL3BVa+tJ8zAkCCdxiqBxut/t4rQBrNpliqk2l5Gc/VIeGWueGi+Bs5Imi/QrystsQxHId8svuZ3VTf/ssNIq2DimJA4PpwpgYRd+sN3AuJcAXd/LlbpSVqMPSeBvb+/XtS0+packhEzaWc3MnvhwLNyId40i7AQpuOhmxWjqfuBxNGV+ouEjvGxjCVtf48YfUEJhM/LvmBE+zhYTqp+b6W4bp0mtFqxY5ItSkV2SiON2mlKAxjPeWdkx+1fVLpiVSTxRZKFZGPpjg2p93eGiTsImz2mlH659Dj+bLQlbp8FQl0Rdw6nDsE67f/NqyzKdcao6jvLHkCQ5d4UaBHAWVGkTmkoWpV1t6G371DecO2uBK+8NY75z2MhAsydBbHdffY4H7QKpIB1U5YxkA7ZRrJyZttZnq/KvlOtXuCa7G4ePnXtrS2rkIclBjjewAdmoLead/kfiLI0EuUmKKwJhksOL+WSLQuPDkukUkiUnAjoUBZafcYqyvoYfCI9+DlTXZyHiMVKSoggoQsgJpJRwh9fWzcpkuiSq/mgkAiwJ/F62pZhFLA3l1Eltn295RDOhZ3DO7aVHbYxaCahPAegt7GLZDTjFkD5AaDrNn8k0frAoZDwcHO15HhujWksZWAGCHLjN39t0zV/9xkrSt2SMemFWS4akNOadniaF3+q3lFJY70kr1z6SVdAJW5PugxboFsQAOxGRP0YhxXJ/QB982c0cTaLGLEqF2NhUeNvnOSWnZdQ1mHVKHiMVKVBiU3ympYb1oYTbsVYVGgXPX0jnMNs0xXaB2895ARg7v8RSUMq8lMWr+5s/ZPoFla8H4n3l4jzzDDg18Ybg60vIzn6lrZ42+ldebEaZ/7lxwtc0fGfJ7BU7wSxW5/e6oeh3GEUEfAyU2ERl82QinOQX+EXi/sWzibORX4NnEB+xZ9sKQVr3kUeU9o7AVY9+uurP9UoY94is8Bj35dkJrW+uCf3EcM6cqi2TaivVZzjWHXwcsNpRXgpy1GEytVIZx1Y9O1vX+gaPLMHJwvZahXXvC0hRnnXyOEr20Q06vjdfAPcyQcwD9Q0yMjxLZoJX4hEQXT7BurpmglfiHGdxwfVPrmI/vxxqny5C18k9EtbUntjnV9Ya4fgdEKRFJY56w222JonMJ/CJplFpzpZ6yWF5j2wp69ULkDTmcYq8Dl6+mJURW73GR/HXh+zo0ZswOVC6ckw6zTka042+bsvaUtpHMq7FzCJkPZEzJ6tnHRQhWl2vuOeIxPRHF/LJ/c+3snS0T1c/5villPU5k8Nl8iecsVr/6xanY3k2XKqaWenb88dGffVWpxh7tt3/ecAKdvc3nVQ+c0xj9j4UjOQffUdIzjlebCDcpqJ8FQl0c0AfsJOxHBUmta1pKE30MzoF+YnaKMPWnqEms8zutZtVy1A17Mrz3M61ANpccZoK9W1ZC3L9uUiehzDyiScZSAgCDQOGkLZS/JsC7LVM5J0fOznCQ2bzgb6sVW28J/+tKechGNipZ1BwY8PG6std2hvEFUcglPlvH2a5hZ960bXeM264KzTfTjKQ1yISECno+TQ0bLfHNZtPi8oY9x0SGHhK75y0ZfwR6y+UKv4aSXrp/KnHNLRbQFKqvEQQTgpX7PJRAVtLmDIYoNtoCNJBdyYfSBcmCfHdjXjRstEafVwTLnVk82rI1Q7lz6prWEl/zF3HKHmnqE4qnlMRj3APC2JKeA/KHWUm4VWwYqIbafz6Gtv0qvXne5AsbTevQ7lswR9sqWfoMKshvRDpRfAAZwSvkD/zM7VPPY51wTzWNq9uskq9wpKspc49zlYiBM4sPwXz/cS0ulcwtlL9lRzTwnEr24IfnjaOSwioEAPTtACfgTyaSYL1Z6Cd/Rw+DzClEKZXnzWi8OnUH36SjPtIQDNnYmgCpuyMdQbLfnz1cIpiQifZRhOrWKhwunEuq1DltUWRrWPOdBfZOz882lG3EEkcb+PCE5GxFgrlgI3WDunMW63QfCrtldhqugwzbqJ2Ht1pU3a0HmJrA8ruxKn0DUQUys4XI6s52mqDLO4XQSskf9ssKlE0JkuajbbSnXRDQaeMMx4WjhetGVO7dkxZ4uiOXgfsDifH8cYtVgjomi0CxG+o1BhsoTKXkr/AVeqKDDR81/1+ejfBl0o1JNlPP81nAxf4DJ/Z8xZdbEltmKnVykLLG+d+mZLXNHFN+RybynkYdg6OSc/kJ2PIgM0OKt9j5dhNgxywmKcAgHrgFztYDzz5S/R7MO9fkFJt28VdwZFduEKUZRreD4LTQX6UjBFHklr/4HAwt2o6uRjeqJGSG5WJ+rszgAn+xIZ2Mh5GPYW5Jpowa74WEDOarIpM/gFfGlcUtE92jdDpQ0Orw02s5+FXbK7DVrbFrmdJp6dSk/EMrZik6gH6P+2amr7MeLppNPTqUn4hlbMUm4AKNBvoEDhAARFAAHEA0QAMA/zNkG+qC/7b/1NvovP//7ZYb7jOpRqUfChBYQnQIkjCNBSsXkBCIQiEIpkgBeW+3Re6bkUkAaOiIjrAH0Qev+Fru7CI+ImADhESIiIiK1q+YpyLJ9EVtjQOfiratRzk02JFoEK2y9NeOjNbF/QkWgQrbL0146M2q2rUc5NNiRaBCtsvTXjozaratR0s7CIiJERERESIiIiJIAUrDemwTVbSNhNON2IrqadcaTT06lJ+JsECor6vCMBTSAs4uvEnxowkfT6zzvOSVpbfSBLY6+pGBjrdCkAtJeIShsL+OdFjs0R0s0/YJ4JBVtvSwZADTRQFoghwW3+M58SK15m3M6hB2KDpwpJ/5XSAUj1ZWQq5GVnLFI1nbcbCF1wFrqayrVTMBIGZe4RYu7pRCrkIpc7narC+WkqOmDN2C4V3fOpRVIHob3ge+g+Tx1HDy7wCprCVUtXEM5hank7ygeCV5tO3Zk+0bC5+FXbKr4WLuGgr3wFPv+Dtsg4NwBEfOMyKJl7C5+FXbK7DVy9BEFF46jDqAfo/7Zqavsx4umk09OpSfiGVsxSdQD9H/bNTV9mOWAo0EggQPoAFEPAAYQDRAAwADOAX6mU0tccx2WbWbUhF4phCEIQiEJ+n6Wq5M4Rbhk5/z5UHQRGQiRxID+TVPf6IkdCZTE4X2p1pkCMhImwyl6tMgRkJFL1UitPMAyl6tMgRkJE2GUvVpkCMhImwyl6tMgRkJE8RIREQiIiIiEREREQiOgmMQ9Y6wPJjbEV1NOuNJp6dSk/E2A0MM8oh03MtPhuRtqabW+WtJU4epGQgoSlrjDBBpOrlFz4kVrzNuZ1CDsUHThST/yukApHqyshVyMrOWKScY0JLdQAVLO7ks5uYhqtk/4ryQ4m2r2E5XKAMhxNtXsQq7ZXYauXoIgovHUYdQD9H/bNTV9mPF00mnp1KT8QytmKTqAfo/7Zqavsxywo0GwgQRMANEQAAoQDRAAwAHUIfib+QDpwbbsOwMCDiIDISUcaKuLNm2rAiqZYhCEIQiE7F7s5AM9uK1v4bq1HwIIyESOJAfyap7/REjoTKXbOlcurTIEZCRNhlL1aZAjISKXqpFaeYBlL1aZAjISJsMperTIEZCRNhlL1aZAjISJ4iQiIhEREREIiIiIhEdAmTGQzKH7qmR3xPvrQLUb91BlnHWsph0f/bwgvHU0tG2toMPCGcXZKR2edRdxy8Mc3flYTjyfBaZv1jDTX3RplKeCNfPijKqIjlPIl7bRMPUpEd8qwbNZ4t8e9YxqxCZmlCRJBTy9oc3mZW7vhONkPABxqPzFQZn4NyohnvDQAWIrqadcaTT06lJ+JsGP15bd968UJvwm5flcDUAt6Amh9KlpsB8jo/1Eb5kIAShdxIsWcpXpwDWACXAZpLMA7eYtyHQC23yoEflB04Uk/8rpAKR6srIVcjKzlieNAFWOfqY5Z4xurcDTcbEKu2V2BvIu+yuw1cvQUOrw02s5+FU0xTENDTrjSaenUpPxDK2YpOoB+j/tmpq+zHi6aTT06lJ+IZNAH0O2dSBHsueCCWCjdxOBAACA0OwAnQEqIAPCAQBHCIWFiIWEiAGiEN89/9Yelwn//p/1z2aC/gPTo82It2G/1r8dPDE6Byn8ff7J+znzIWN+cfcj+N/rx7mf4gapj45+Kf0r+x/s5/dP//8J/5f+KvzA/B/+g9wP9H/6T+Sf9d///yA+pj8ZvYD/Hv5d/b/7r9//2lf0P+lf473A/o5/VfcB/S356fqM9h3+Zf3v2Av43/NPVa/s3+o/xXwLfrx/rf9T8Bf8m/nX+j/NH9///L+gP8B9AH0AfUX6A/wb8F/1q/ZP0t/jn8u/nH8f/oH+A/rvtv3yut3o7/Rv8n/XPeV/Efwq/Y7/Z96N+jfiB7l/xv6R/Hv7V+nv9Q/u/9v+DP4f+Cf63/5j3L9535H+AP7X/3b7Bfxv+E/yL8Rv57/jP737R/4D+BXkuVA/vX4X/AL63fAv5b/KP45/M/5h/xf9T/2vvt87/lX4K+4P4P/CP7p+OX0A/yv+B/yn+c/yP+afyX/j/vF94/yL+Q/zP9Gf3D/f/3Af0B/AH6Af4Z/Df6D/Uf8j/cP7N/1/3s/WD8V/jP8+/Sf+9f7v99vs9+O/xL+df2T9a/79/3/wF/jP8M/mX9F/q/9r/pP/k/fz8Hv5V7EP0R9g/9Df5V+MX79x2QN08AABzSTbgmpVdlo27lsleRjMaZ3RBi8/xkIbJ6a7WDIXPLDhm7HI5nSuXDNcAMP9eB9H1UFFhjU0CjXORRrnIdVpte0pyuBqsUQ5EtS5jYXsBG5gmCmg1F8Av9cnHKegiCOXsfcpnYji43QMw4Oqz45sALPuV64Y5kHqecaAZxkThn8ZUsLekVPFIav1p4VmwUkbKqEbYXQ8dyfiLCmkS8u0C6B+LvbV1in/Q+geMkN4N3fyHm3Qnwq/gAW24HZYX76bXUre+upW6zbFKk6Ax4fjL/9mWjuKe8iG7C+NX/FZyAsDQopls5Mxnf9s8ZvPeOZmyEfsJH0DycWhnHW8WhTpBHuS67KYfouIf7rW5DmxrevOP0VFMCHETjQ9buJm/EqVbMX+Hsg99mywzGwEozW5yG+B9jgCcd/M+N927AmCEiRy1uL9zQuHm4y3IEnBRDbjtEW/QjzukPCfVcFeNWiNl+rsF7IQDa1TS0w+XIH4ivx/oqU7uAB4fywRTnYMD3Q1FAMheAP9Lrs4TxAGrKj3cYrTHbdjz4NF5+MDpjuINZP4bCw52/0fYFCqv/hC2kTK759LY1orNJd83Wka/gURQQW0bsQoJ2uK9W8/hTe01DFJ40Qxsgv1LkWJ1lTdKFMAh9DlUOEIQ19OeHsPu4bK9OE4CLl71b1nlw1aU80d0KWr3aKttF9+OVTdVoMH7BQZzXW3Km9O9yQG2TQ6kL0XjIvtxdAjnAevgIX6Ryw6CgXNmoHJo7j6oiRchzo62pvKabjSjg57srfMAC3JEAC4kBZEaaGntIhSKHzLwIiOznKCUlSy9p7b2MMg0iIgbvS7DyaqLBlzZqBoRli/y72Bq1/smw+D36KrSW75tdSt766lb3178V6UyCcvh1ZvU8QzD2fHhYta/G40iHxJ0SQ+TArgU+ZC4xQF1omghskbl+FJ2HNdSt766lb311LGZc3JIqGYJ5mBmwwUggldGOfSOg2T8l0JGIk/ki3f80G/w93plDfPOSpeYYCYiM7z3QSRRi5q011K3vrqWM+aZ/OLT8Ro4xc1Z50VBxafiNHGLmrTXW4NDw4tPxGjjFzVpqyCSKMXNWmupW99dSxnzf6B6EaOMXNWmun43Qn4jRxi5q011K315z1PoRo4xc1aa6lZbVOLqVvfXUre+upXHdMDg9CNHGLmrTXUnrShWJo4xc1aa6lb4F4a7+I0cYuatNdSt1m2KVK3vrqVvfXUrfXa+oN7U681aa6lb311Ky2qcXUre+upW99dSuOz2YzfXkP6J+P/EP+JSFF5rYk9leatNdSt1m2KVK3vrqVvfXUrdIZbbsaFr4l5K35+MP+UOupW99dSstqnF1K3vrqVvfXUrI1WWZM011K3vrqVvfXLmeZT8Ro4xc1aa6lZa3NJmN766lb311K3tnRUHFp+I0cYuatNdbg0PDi0/EaOMXNWmrIJIoxc1aa6lb311LGfN/oHoRo4xc1aa6fjdCfiNHGLmrTXUrfXnPU+hGjjFzVprqVltU4upW99dSt766lcd0wOD0I0cYuatNdSetKFYmjjFzVprqVvgXhrv4jRxi5q011K3WbYpUre+upW99dSt9ec9T6EaOMXNWmupWW1Ti6lb311K3vrqVx3TA4PQjRxi5q011J60oViaOMXNWmupW+BeGu/iNHGLmrTXUrdZtilSt766lb311K315z1PoRo4xc1aa6lZbVOLqVvfXUre+upXHdMDg9CNHGLmrTXUnrShWJo4xc1aa6lb4FzUri9moQ/71udKLOLSk8WtAaPWjp03AMxLAgsJqiKcWlJ4taA0etHTpuAZiQM0xmYJ3NHEetHTpuAZiWBBYTVEU4tKTxa0Bo9aOnTcAzEsCCwmqIpxaUni1oDQEASfwD1FFidA6kM6Q7yveiu0WfIjfq++4Y3VtK7LKDVPSuD/tuwzDIaYu0y5HanKiM6P8ekwXFm1RFauwMhmeTQoNA4gBMaeS2rnOlPEF27+IZ2tQbj96AaKE5UGHrV2RnUHo6BBwPl0L8v16IdrUi/S8IYOFybRuC0Ox5zCxQzpQW27zOLUFkhIJ0di7E+ausynS8u1CUE/jnw7aNvhArJhYt0eqeVSRHg+2xBApwjeqo1trr6GW81oBe6L8UsiHteieiRZNzisGbu58WTCY73O4UpNretcqnvt3R0sVYXil8nydB9BuHjFJfi6IYLe2U+AIo4Z52DlproSx/Jvg8tpxdtO/wlSDuHkQuxwc4SSi6EyMO8OdJxoPE+6NMs8aFEaVh6IxTyiA7F4el5SzYfwl7pxDEeYLckyT20cCxiet+PdVP7oPdoeVFZh5P1SoZjjXygoSQgdGjdFFOB4/NwkUM6qnkXoXangKbklgZxp6lSQn8K/r0gOL9HJghAdTFAK5nfZCReTkh+sQxV4hB1ZwYdmf+dN+BQmtFtXAFVXG6qLVCi4f0nxLoirhrI/GcLwB+8LipmA5WlAyIey0eu0MiBKZKlVoCebFEe+R/My5FWLQMjbL9PBkQnkX/a03AFvzLBXDqoWIVLhN4FX1oCAIpD54sMna9acap8qqlCOm9HnOQGgZgvSNfMgFeFnF0466o16t05uW8ZqUVw4u0m9yyMwX4nOPQYKcKCXoZIoLD5toBfk0nMUdeqC0FUiYG4nErsx33bnISgxLE76yNd5Xlm0+h2KR/ZfwL4V91HW54F+hQxYAaPXhgnwoAB9kc0jjZS8zhVlPFluPyI4fFomRRGNkIu520YLppC+ntFm7BE0HahQeVAmpAbvIDKyxjKZALlw+CraAGkl4KuAmd+/fcrPRw3j/5YkB+6pXgdEC0225JiwJkIc3sZWexPA93h6sBKN1/osvOvSc5iZXUis4KkBAlh+S3lsTu3toDaFbu68lyofY1GeJCx21UTzsyLpTqmLwp2rfWhr+DCNQEj8oWkb2XrTT4TKU04KJkOTntlzkCvdXXxbflRX9oVbvJL4S9WqSpSjPKaxgXEJzWKe86Nc8xHIlqyJk9lExM8TECuSEab7pBRxiZ5L4IUnEbU6OWmbeOT1tas4sGr83wNbMxPyJ8Nimby7jwXmAh7QRu2ojMBUOWYKqNm/08frE7mEcpBOFyGZ3X9x+wYzok+tTTexjmS2GEYSrwHHy1NfkvuLgnJR+/87JOs1pxytcHKhz/Urid61ScfRt2+ZCPHFiUN31IMQiIlltRWJ1pUG0K50P3ixXd1un3KLnv+JP4Hzt5ijzTlovLVAezp9GRRjIZsv3pSSJ/yhKrbN4SLHWxSsh6lBKRYeNd8fbGJD7VvREYSaWfyV2FQopu7nmFs18+2pSKm11h6K5MhFMmoGUxdE7+Rh5fqrhSaPROzWK5mAD0Smve+9QSnlfN6+7mkclXDfFfKyWaPH38tNy2K8dLPa42h1Fuf4mHOIFa2wZfZxClJeTKr+Dl7lPDnGKnZ+nhW+RLKxy5U+PVLWw4cmM5QpB39aRR9V11mgq3ONidYcUNtBMeni7cN+lr3H8Qy6NtSSlIfv3zKXi0DHEl7tvWjSMSQ796Q0H7pwG1bPdu3LbwXtM1T1CqGSiRpR3EU1GtAt6nhfQae7FiTQ6zBm4ZZG+TMjs414qdaOBmubD0/nkPSYSq0Xz//PzygzZa7Mk5NjFwV3554JMkhke8ofqnSd63sK2Hi+I78D7hHCtAqwL8cXTxqD/FpnzQ5NNEno76KoKYKUv96mmDy9IcNNjtMU+KyzjAd1d/p6lgxWKXcaKCsreSogRxrq61FJh1VsjbZw2TuRAgJ91b/gQwpt8Eh8vnVuuEGxymwzv4YzPgZ5hxF0VOEzaWImM67AljPwgbmtzVk3JozvYi0UZPjf4qIiVeOxzDh9AIQfYWZulBtJS5Gz2y4xmNdlxCkXUDcSzEtKJs8Z9uhvR2nNwIFuWsCJF91Byukhf5iYutGb2Gh3N6Auh2lXazRBaSyV8qjMJjtDjwA3jx7OuEGGR9Sym2f2peg1Y/bejkvlMmULJ4g/PcnK4gtGP6dt9nCjO+qWOyjqJ245NGG5usMA3phAVDrOH6scT2rl0oNpKXcnzzvvD20I5jZtj6VeuCG0sKI0rD0RikjPnrvHi8NWdA2qBNjZojh0KxjBTZ0XtkryCzLbvgdQS9waYWXupIY1UvQxEcwrKffEtJ9KOhaEulngSnMrG2EnSEYkp1auSYei58mC0gMJ+Mo60fCA6UvR5munNSTt/NNQqhQz6FmHtTOyNb29V+3PTfMD0IJgfyqElSR1io+qzJBWEJFTpkrZB+v1IT01fpi+BjeKjOqNfTyQGdrUK3N9x+Q+6GbLel+pgrcNacp+ojGMY48e7Hrl+n2hzzhAUay+WXOhtLsNjBTgESknBw+mF+gDGXIfybF/ndtN9umXRQIT+dhoa/ZnS5ciW715GZXfIRu5UeqKYd4ojVv32wvNxllVD1NtlQGhgtc951WtOeT4tdySVXWgYAk4H1UnWUrVyz/n1kmQ+P/8vQ+bkbpI0XeOI5aj8/ZFAtFt7nNu4tDsPfHUD8XjokrXsQlk4+vCmeW5jozt8LxXmR8kwxqGI9dNcdaczkNFOH+MAm9O04LaLF5l1nTbaRMvpj0INq7ma4agcf44Eczv4VsPdhlf4re3zidFL3cXCKh2WuliGcRizrel4ortdRyl4wnXD9dnkDgelW2Sya+EJZrty0rgAoN8pd8D9Nb/TBHHxqNaPffBd5u/5x6qtZdMvEv8G8X2g0zszzm5PdJ3CCzLzTxzuDCgVEwBLnaMA5+Nt4zznDgNnBnGQVxQLfvcgmAn0gO1Hz2LMcziBj8JGBmNOXjYi9b4KOvbT5JCtvaWKBrGFTR3tAJu+7uCeTPu2YfURAK9+6tLYv5F31kPFD+f6vpHcldISyB5Nyqyg7EUN6tjAUknlG+P7FQlOy3Pl5OKf9MrIBTBAnczVxml/UsPK82z9xOgBf34wp6JyjHww8y2v+MA6MAaH38nbs614mDmMaztbPTUiNpD1BSyOzkR3Y42ujoBUYxur7onE+iMBSxiUC9NfF+I/d0aF8Gtw2oAwyym4ahAL8xJZyK2OTlFHWiUysGtPz2VTtPqpTnf7cXleEdmXkMLF6ybKsBQoAM1UG4rIgZD4//1wP2lfUPR9GLabH+A1EL3H4ZmTQaRnPG28aCGgfMmqqRBJFug5fEQlETGTYAgApm+eL+1EQKBdexdNOtR3w1YQ5p9BqSn/W0GiKsP3jZOQkpl+1PBeDPlP5D+1JKSMSv5P+cbQPZmFHYuhAOWfkSai8tH+o5lYbrLecwDVGsbIQMUmeJw/q3cxBw4/JHpooXq+3pn87uIjrX7l1V5T/UfwgsgefyQJ/Ahhva5IggZ+A2yBokJOM1T9IQ9M7Je6TuEFzJKvlEXrgorkfyoSLNHlOnN25vv1YJcC8GDV4rVB7QQokmOZcxCyzpfOLWsD+ejVHz2LMczlFCkBvrLWbctNGT0S5XcE9HHiGaWiS6z2Bn/gDqt4wUD4+eMR6DKaOWWUrIaosd4dfhP7+gXLPEefRO3UYdTnY/qKkmwUA2j5QdwsJ6wTbP6plSiN1csA8Vm0w/zArR7Ow4iiymgMZ2mIcoBAwxB6ZjgUZjU18HUhkwJSMYjGMdP99ySiGqnwjYGYbz9x9CjRHzX44266kIyqPpAdqPnsWY5nEDH4i96SLmDRiSM8sJLZiU0gDptIHaDY0V8Ohkz5Cv/RpWE2jB26BuySLJFV+IUN6jKZLqJ1vDHiH6erYpx2UHX1i8JWkxfKuCg3ceXx3JEkyQcrEWWqj+IIA7jIvkDSSSmNJB2oGVEmdKleQ1ykuMU6SsZyw/8ZA/p27B1rJlnTBqnoi4nKWGcZSFqwt1Nrc6LWmslXWiqvAu7goS7qJOZpVtasUsTYeft+i3hNXr8AirF5YMuBHKBqR4lHFEBJ0+kTfLVpaOYnW2HC5WdXFrSGhtgTV5nOAn93JpZsjLfYaTpwrklUDrxPie/hlAmbm1W2oIjX/59LV+lugYr1t3Wd321xo3jI4U4Q5oZQl1JEV2rdKBMWBfyED54dOjVja3ClWolgk80rUt4o0DPWtsRgKA7j95XtHJ6mipxe9Q+rLm9Up/c3gp04xo4M8PpvEBrWbUhPfManLnfhGzWT3w8p3PedYyqijIHl/vkt5wY28NcZlNexkEYHcHvaEDjrYuNbD9T9mtHrga2tHXsS4dx51ylNZjepnCW29DiDV1jVxvskuG0Is+jdOpSwcO+GjnWQZ+85XeEUKZZxoMrfMgso8zlMCEclQKBhl4SuP2yPM+cWhzeXm1s1+yIjBk/2VTwO59dm+VFTaAfluT822SOOAgwzoQiXVMtpr2MzFbwJeCXKAzY/ukMZe82PwgtfOLL9cjbgNmZcJitjItB5G4+WKDNGmqUChVCT4kuJNjedysifWemVepWp0Tb8k1vGswYhuaqxYYf3TkZh5dAvstZiqhitIRNDA3+IMyHLV8KeA2KCVnzQ5NNEn4YuxlH6XmDzgcs/IlNrnl1bw5GEmmc/BdfgPA27AqhA6WUqPVUzJVYqbQD8tyfm2yRxx0aj9Go+qJ/XbIshAofPpf+/CsqKgt/9iFOcodTlBOT8ecbtmx62R8cQWq799xXwRB9HsD6uA1FDuykI6LpJZd/yGhkHH6sg/+h/Cu2+G18JMG7RC+Q1lD8ZWNJnn2lHI771k/VZkDXmI1C34AYB+DbuVAd5kwJYWKrwh9dg72VRHdChoGRbsv0TWX3I3p3SU3/Jg4SMSXRwBls4INRSH0FkwXhhKuj/82F8dMkPQbsN5gyVjIWH6NQFdljbZYToDG5JFUevoBFO1FT4KHhnXAD6HsDgq9SgmPS0oHCP16DdTdpwVXG4eqnTr0c0jr2fSTv7bf9zygpC1kwENFTSwZR5Yryl+v2uVBo3pfgDfU3iD8amBdACjHcmftCBAHcbWiebeNPbmeftcSLbW8ZLQauw2DPSA899W2QCJ/kh33FtahShUCdLRv2krTbfoBHz0Uyo4GRped5FnmUxE9oMR1GvmVYHUdytVImWS+Wipw2pxeiC/m+I8z6fz7xgD98uhJCqrJ2BnOlSIiKhg+B75RhvyGkwqR46lknHf2pwC/WugjHGq/BocqN0S6MvMANGsJRRoyEYVFkvYgVrT2opcYwFmX4I+ROEu4rUyxQSBENY0UusEY9fwShhSiv75ewG+LGdOoa+8hLnmwZ2YoaWgVIhyIht59aPmIBdNi/Db7tdfwKbQMDh7aJNcuRzw26NqVfVsaIJzSEVjr9D+YDmXmtz3hVLx+gcokbVbk3UpuPx4mFjl4j3ud+pelynhDGveJDfcM0B0WcoqzbnkaOlBsnBDtfPxuaIc38DYSY5bqDi7lJSzOhTrPlMKJZqws/aRgTImAFo34reY4bqlDwFf7D+jKQVZ4B6PKCiv/g4SmFw6UbmteanqvnC9NcZD1wvj6ExsK9yar0KgsznFSYReOADS4ADj/hAs4WZERydQSgRQGmOz2rgDP51Vil4VDoE1RX/Odk8rhMj0rZr0CMxsEaUrcfK3cZoZQKe+kR0Zm82obILn4KXBb5I06dwMU5TiBQ+W/baKtlnWAjDkyT3htn75Wx8O3C6A/FriLLHiqMZgsCYrgz1CwOivCmfPtwuMOYxsDap1+J0m2EKFG2Jlbno3pu7f+1gGtMrX2zj7aKL7/8N/LsYC+n/vdXt10t71M9HCsO2WG25jZfLdmc23aZ9FMkjXtG6bEDvPpnAjIMMQt4GgvtWVgTA9G+MclyzhS4lJzCHDYNXh77Ygo0J4pfvjhPmk0LnymJVoNskRFUaBPOc/Trea+G1OWsXzTfafLPxs/ivPOweNuJIdkLpJmY+2GMNMZlF8omE2NoHeCkWfOHR8s22yx1YTLi7lE/S5L9xWNYHhBJq0oCKnt2XA14oKsgTSu3rYlYBhQLznhFW4ZlOIhIslN9rx0z4OPAkZCnruhCLyS5bih9CigtHByLx0sInhmFfxCSKdVOjN0bs1PX6yABel5fCFiLgABczHsgJ5NfidqxT2EEaIHctJj3wQvwcBBmZlh6ZLV98E1aO3PPKb2O/ogdbe8YxmVVIIgK8Cjs5a03AoGjvC1WxNlcatr7Yumflktir0siEZLUfVOHKNiYgXOhiZaebW9lkTkdXlFV49hmMziB5Fu0z/bR7t4CyHZ3syllQpYEj5YElFf7uwEzEKKo4zP5KuIkihHooa/j1mHh3wNTW5KdYghxU5X3MkKU7fDNGpJRgaC2e4FgIDArOeyEeQLMv/OvrMP4fab/56QJzd1HS7+ZP3JqNuI08qUTVGfzx2R8qXKCSgeLOwBmkrgmGb+9x9ffCy6FmagYKhz1GUZ8PyaeGD7rKW45/gOEBmWx9lGpeL9pimBncBatRHzEwC+fYBUf9vdtYcR030RYlqcUh+TOfh6vJAMWF+3QYvluZCnFDgeOFxFVqITsrqilkpRCNCIk0YBUBiwvr/aFxVJbmXpsjLrFIvuKHtNZMgoDSm2l3ZEfOYmaIY16g+PbCH/oEnc4OTB05NNj7wdv+pFriT4B7dMEMMWaPSCZ1dTiOttoMiomp+/cAfePIOOCgHdLBixyfVP0K7u4n1RTefsXs6glLJtAyko2vM5fpo6z7WvgLEPUUVX99pkM/QDDjdMQejpvdVVAOceDhCZzyYrvTQyuSBom3LV9IC6PcVYxwMnF6Y3HQY8DkcfAWC+NT/h1k5OM1fdc8wXi/FH/0YP69YzzB9+eZgPX9PKmcozxp+x9xey8PKYE3oRp/PqYruZjNpSWuwiTq+c1yLCBHYkjUsERdANRl6T5aeZm3qXfBWxGDXR4iQle0AQ8HDI9GU9EGUNLie5El2LAMoFzb9ovTBDYXUnx7SOade5ZIl3agMw144CHPcfiJiqRYIkh2DvjKTJYj3RbipujYmW5qUPYhbSIQsgqkK4a3Ah1h+u5sC4u7Vtmw3BNSXbp6k5hwGN6nTTCxUWFjY2nz2NuF0CV7W++ZJHiH/q1UV937G1CUaNoWwPGU8l71AzxE+3bgbG5YWKGEcHDiRx+MnF32/SipsQWCGNzwcsHRAQ78lO1G1eXX1KnTRu+tRfjp7fvOkIjs/xmgWnZxhYLbuU9CJRZ5bjV0lnn0L0r8gPiCUsm0DV1ZtA4zUQzZKALXyqdhMoXBT912nOEbm28vp3UzYO58L+DwzdGxPtDiPM54iWbwK/zkue8DZ8qeOSHbosre0RQuJyayJquHBYRiVOgyLLGIuBz+Fwvd8zsoZ8sc5mp/oxY7KdKTSPdSan+2gi2h3uu2tdVmqiJ9qJjH3JFJvyEJW+yQOKkQYVc/N3eoi56xvWS/ISSkO81OjsIYJy6jGQY0uCSenaAFjEOT2jNC10KjbEuZz0kPrOUdqsmHvUKLilytfpcqANRaVduyNVQzzdvjmE4jOT6g8jbHvfLd7xsm1tDfIWR2rrRLRN08tTIWgyRiOLQ/257gZD1aWhWM7tjsJey+8bzloVamjtvU13HcxTd5wxyL6aij9YfPRcvI0CDl7sKwKdSXsp9uny8eNmz/wSypA/Os+Mrtg96Hw3KKVzaev9oXFUloEG273IBtAdqIlyg60VhFrvGDGpFHq7zGAFKOiXwJQNvNuNtuEd/THyjY47yu8uUuCewbC7oQi7xzJFK4PcoIRNXRZ2mwtQxOb/sgkgNZv4VYE2wKRbzuVzFYZFAOJDHB4+8e84HRD/MMK/kQ5V4BBNrUpSPxHRu+zdT80mWIY+BNRjM8stMB02prAYQCrZqv2PwN2Xe57TcdJTyX8jmttjNKQAGZ3SkPycwk+rUoK2jfaF85lIKWmieUEvqNWj+qK50PJUZklOQnPWdZx7+AQL2i+tVltOAO/T7Wn8SRnBleMwEkVoUfbzCnSaInCP+76BxHLGrSovjhdfR9CWwsiFPJ5100NCCFts8Qx1U2i19FGlwCiPKAA8voArqmCkCwNYhSF/lPEMYp2mxzrP/SMwWBMVwZ6hWmUoHOF9NfbiDmEq7HaS3KJyo8kH3RTif9OWadudarxW6LW85inHW0DtFrn3ggacNUKiNw26Bz24YoojKiw3vIEltUWdgDItUMJff9r1Z/+Tl0c/coe2vTnXG8GQm7d8xL1x/qUwF+IMy8O/mAe96TqacRlIYtjIACLx9qjuYn2C4JP8NHil14nHZOpnH2cLjVvlvtefDSHdc54yDGhKGoYorbEoA4Z+BsL4Rw/qFiXYA1a5C11Feinveovvp1PYQqKZlCi/CUsdVJ9vLSRflmDjKPwOa7HdvW6KQl+lNicx6+wFqAMtGEkRxBYATeQYn1KvcGmZC4ZdzixacqGkL9d90fqlQuj2dssANqeESMp5ZYCF0yrkLxvU7LYoh+aMmCWKPyn+DtrQXcGoTYbh2aImnkDEd+OFiFL7REytpO/BVhbRLVIwiE8L/NJeAMI9+MshQTkFwLdFsV6fYBHKgfNRiC49cBL2GP2n/MXIJKPMBFzU7ljHbMRXrGixkccPORjj/6yJM08umvLz6AnZtdyZ6dj01FUjseP8+v7X93JaYLGjfPc5GJn21ma44GCYz7wcxRpFriT4B7dMEMMWSV9o6J5rDpjMsQC8s8BjMqA2MxaGlS1lOzbzEFfd8TblpVVL/k71XIOmCwLDSC1K4pgj588AES8JU+VR/cSuRJUXZYvRPut5fRSCfMVwc+MvTSWxk/lFz4c7HqP2zci7X5p1L3965G1bTCZB5LKpSfxISgvvqt6Xae+dLjF+qy/BHyKwskDQjdblJlbvHSEMXCnZCQmZZ1gIw5Mk94fPmPspSK3PoJlIiUprtehibRzbofeB7w4SubewIA6aOHbaXf/I6/5UrYwAZl32mayjAM+OpyS4zhjjxeGQbFLf0Uj9s0Fhg0se1gSgyklEnYjwmA/WZeDXpbqAf+wQ0TYfDfF3qTA7tFy+xPcSX0kc4pUzEw57LTJLatMgHOHO90Fy8jQIOXuuKprTFYNHka1CMphB7KMVXZ2NsGZGQhVhMiJIVdW/b+7lgKsgQ58Dsb87U1EbsdKDvEiTOHwt+bdiEIyWIEGRPEI1VTzxRocyQP321C/Y3R7P7aIbUPydiVEdIyg6ZxLA94Og34SFITbs2y/Q2+lb/FfJUwm3flG7LIvhSLqB9iSK8uyn3dtB1IyODtaN0tWpYVWmlNoJn2Op3Y7xa4G1SK52VeyTfpCSgQKSeY3m2whj3Be9RlvzIeXIIortExu37OBGWG+35hyFRtrAIJmFxd8/zfww+rzxKTE1wRnIMaXBJPTtACxlwazhHupg6frZutIpaX+/IZ5Eri8YyDNzMZuLRo6MN+JaJbtQMHky8xy1WvHTibhaOLKXExGogvaEJBU9cm2X+4W4b6hbkbSaqYQrN8v49d7jxml+rF/JJ4t0Gv8g85EQMPOCx8YW55B3E8y3ok2xZ4TW2P9z1dQFNdhhyU1oIYg4cfkj00UL1fw8txxOylPTeQQq1SFKLK6/8mQC1LII0uHJNegtPNIi7wIUX1H/0EOvSOBqUBHUcKL7G9+fN0slaiRpMAHoEBB08KPmsPLEroZ4J8xraehThLlnQFb5WA3Cuslr/y0vAeuhOKcqR5KB39uSu+0FMPJrUJ1qUeZyYSPMr4G5YIn/UmHfvnPuwYOa3Gy1d19BNOvk6rGY+jgRQR+qxyw5Zilt8W5QRjt2DrUYlw4c2gmQ6NNhFUjm7pCwkpVyz72BZLAKB+vqSaoW3R3hYLWB/0c/jDda7OEdaAx0p+M8U0XQa+npoI+/aeuoRjALXRT0ePUUJxpQMmKMueJqwUnb7MWWzi/7FtuMytx43B5Ax9l4h0F68uvAyrePEm9SpIoVvcDBJ7EUPdsouzjp+hbYpnF8QRdF1tu3LaSgfJKjy04+xh9e3ayOlvV1oV6AUVU+edX7EMkkbRwiHIkTGvv3RkfDrcJdWfZKFz9m/EwoIgMkSJf7bPRKzKg5aJgdbLZ2m8TswPhBxtg36TmapTaETGfPteiWLirEczgfjjYlBTC+mwdSQb3Rt3qGPETl6Nm0c5W4bXD9jcXdySeL8rzywG6VaBNDBwqlB2vE3qnDAs3Zkx8UBysAVKBblZM8SU+/xW0Z1deOqvA6lPNVRyv3ee6oRqfBQ3jMD1y0AwWllHMlqGadoB5hlOboxPlZEt9Z4JOn8deICqusAbXW3MxdFLHgKD3ZmrCLDNg/DXbLvDjbx08wfmfTlmI595tvMwwHai7G5rLZyKTaryBrGWGUjKUpBuqVTp8fJkGaJC8G+TTyNtVFbdn/aqY4pdhkReGGXzNeNg6pnxF4I+vytaFOSQPOImTenBJiWv79Wiv01qAlog9tfN1NdWuDNoP5pYp2bo3jJjQJNwbOxZaINAOl+2x+25jFSZeluWf8ngjmiDuYly4+e8P3lK1dvF8tnHe1LOZVhxykdOQlB82LMZ7zKB1B+aiyIJt3xWYoOOBbuKb2vd7Be7E/vwl/FIJla7uBtPxf6WiUg5VyUkQOTdy92RgvZomU/rTG2BL3CB15+12qkmQg/GofLU/SKfsvLb1G6fbIDx2u1UkyEH41D5SM2ZIgrIbQQv3u0qwz7NzXXOGao31+0xoqiRTQboHERaGPydUp4vKLk4ZqjfX1ZY4v02rQfTz5HZp2PIw+h4VH05J49U5iixyc//g/JuSh272S8WV/Fc8A41HObmFzqN453fcrt89Xdti6PJp02kNcQN6O77zqC1Vu7yqGkkToYf4dYDiYfVkDYCjXGTiYP9Eu+mKlnS51dlvWlaafblFgmUqUaK2vkME5O3qVCKDAjsp4xzYlwthgc/J5ahDErV0cWFEDazK28d4LCKJisxY0DD+1zQ2M2Eexl+Hzs6akeF6VAzWGAzM33/HBbmROlb7U2D83PL3SD4Cfa0BaDle1YBOxJzSEkaCvNzjH4lfOfhk3ftGpCDOrW4BM+uzj4WZElBrL7/pcYJeaf1hlr3JGcY3oGIE4Ls/9CR220z2YvTfFoB9WllIe7kJOJVahEFUSEBVmVz1u3olqZT3x6p2atrRnpmtn/ljqf1vF3+C7tJZAxpYII79OXjn2xmR6GpvBb2NwttDUziuTtRaPq4E8FvSxnBYuy+eG9DymQ2UUqeqqspXMfsK0zpes8nDfS71q3DYb85zGpYZ8sPVVmignYhyZ5RhqDU3FDUDg/kXEhFW5YAYR7wLo+8SEFU7xqlYdmclzgMoeou7sgbURZPm5408wdpm42ynH95PkL3ajy6M8q14YFPG0ZFHhGLwVjJvVQ0v3YyJb335t0IARUOdFLQT99l4o1FKJxCGvHAfqvdTme32WI6vP3C5Lavm68AzeQqeyckYLn1bwwRp6kIwYqOv0O33vaK9/zGSMIwL6Eg3lrVK3C58rX8SQs4N5dwAiDyFyIktVnOZhqZzaTAvJR0fN2DOJ8ZJQy9JP2Hb0xqi6fPkTgIckDAuFDpsUgihYZhjZUCEdfky6YC64irW4rpjpjmGMQ6PUwu+/rMAULS9zxQBw/7CDAB6pi5bWtCk0t+sTKCkQ89NPki29PbfpGGPNCzX1xT25YRzPIXZB8TRPJ/ZmtPwnebiWneCW5l06IBWvdvESZq7w/2ehc7Fg5xCbPz+msZ1NxRPGxGs0lgN3STQwjvNNijwgsBXGLDS3CaN39cYIW8G32L5QCKi44HDQcGCZN3doPW7b10EqjtC73dRogoM0zJ7y+nTyR1gCbJd0X7p9Kc9MIRZYoo1Su0GfniCOw1pTfZLCno2lTxlSyGoQgr2DOl5o243HSBlzE3X6wSCE9ixL2RSqVSx4etaS5ZlLwOml7FeS3Ah1kOR6005Wgd51rvBwDqzkjfJWdPRuDzWqihKHaMK5le9iV1q+Bt4KlxfqIFClfFPppxtzhBvyLUqPgCwEBKk/XTgKAHwUDY4PX3/G2/uRaWPXURXOwT/E/pME721Lw5smV384wzcBszLhNJIR5rruRsxN6SBAZ/5/z4Nu5GQ69d5jmx/+9oS1Xy25T/fECnZ2J4rdLZu2wpRd1KiDvZvMt6WCPiIoPZFji1nDO55xHsd06k4KjgIatsD1gjBRVf32mVZaQEPIWWF8UsGsRjBPED6PjLQw3IR+sWMG5XUAdUuv0zGHYQ1BDyaHO2rDcsXDImEZQV7Ph87bAWYNP0BEslCj5Tf7gjOKa6/tDlNFyrRPW6PncueCC0XkTYpOq9Iocj5qgi5Qc0x0mG7kjr03DlkdNG4KnOnh6BpsBIIfgz1okLnymJVoNskRFUaBPOolXIcViEfi19KTW4zAPJr3m2U8bNRRNrO4PzhGQsoOx4LxkTZmBSAZbJmupjGVNgMaw+sU9NHnrkAswVW3tLUliEBMpaz1sE8oPM9R0HSvcVFkU0C07qnJIleC9BI4aDqzDw8+fIEVLe/4kbJA1HWf1EwVgtZn1j33L/7OKO9xZ/aFtRFscq/c4dy7QIx9QFxDn8xO2xqhpBDRl3z+GZQuRwBr2/tmPi1OBnOeEVh9RUdsCn1siHVZuqUPAV/sPv9xre1X77/a91S5CBF5vLHxIHm2aogf0G/OyDX8C2OkY3UgEaYxKkEeMVXzbbbaDH+jY/nY+YsITLgoOgnSA3gURs61PxMSru5aLzxx+ewpSKyQneMI7+jY8L5C5ZGBv/x5wrPb38gM3ksnM8rstVmAvYlNQpZAjWM14Y+nImv5ZCr2oD/TPWy2300p7PltGnCmQezfPd/tjtT+3+gDvzNiL8i+x4tpR2gePqV7IG+2zpKuutUyavtKksKoj0HREyCrpWUp+TgDTZl+BfpZpujlPig4BS0PmvivGcftJUUFFqk+QF5qMi72SOdIBeWKSoOomy431+6xCEZ1DMdGEia1/XLnR+F/GF7B7t1SrEaPJAx7eysn7dQDple2h/Ppp7wFeJtH+U6BLjzsHfa5CFcVcSD6dpqDTevl3QHhS3z99+GRilzx7s0mXS8RR6+kCe8ZkVeUiufvcbcodnHUAFB4vJyQ+yPxjC5OwGosGEu5SM3n5FqtJxoXpj9hCjjG5lNLs0q7KNYhhbff2dk9U3i79NnfBRs3LwDSvIQdxmlznJPLkVlK3c9UTZLvKQNJlsJaTLiAmMguIe29apKbU1YHFS7UsLsv3Hkrh/kV2IME8xvWS/ISSkO81OjsIi5s1XiEHVgmZq6123+6SyD+wjSvbQdC27g/OEZCyg7HgvGRNmYFIBlsma6mMZU2AxrD6xT00eeuQCzBVbe0tSWIQEyloiiNAZuTTu/tzT3k9o0XR3MLFsxNr22HsbMFTduN63Rnct6Kn7ynsa+bWV9Wtznm06TmvYyem3yUSEn8QWIaeAeb7aCnl09TPTsemooo9Ji6DD80ci0iPPAycnqgWGF24tzM4U8XusQTbHAF4+G+LvUTInkrkqlSpCAiGmQQWmpbNt+1dZ3NFWeEK58WcnXIMaXBJPTp3KqWDjs1lkr1yvzktojAnhjXkGZhSFuWp7/R46GbQVFLSXmLNCCg02hurwMebMMnsk6Snbx62XKa7uAi6Y+JNXrcQnydfi/B7O9Q30FxmGetOvd+QAA+o+U/8kePV/6dLtxkD7A+85QT05h13zmGh6S4vt++1oFr5U7atuDQa4dJIyp5dmLzybqopvr24IG/3LnuyZpOOWKj8z54U5lSwJohlvnTXsc1XjXtcL17eBoDAsqbhUrqv///QX2PbX0UqWqRXOyr2Oi3nEZUxuW9aGsY5MQ3062s/w35oML5dQvo+2KIW7T43g4Zb2yp8ZePiWm2GGk6AmFN3b8MtuM9xQDCf1hneL4kJEAtAI2vgjJA4LYbtsewkXznq2ZlavclKA0mXXYfnj4KkNhuWLhkTCMVjfyaXHVYTi+TFkG0WCBaU5NYiTnIxt5cBbxlp07o4jrBhU54Yuz/QpwLztUBp+gIlkoUfKb/cEZxTbyZjpBf/AaoWnIfuW2vGEoa+w741TT6bymczrlRkPratnnVuo5FqeXh3g8pnu+xy7MV65hKdAlx7GxyKqchKlnWwgxVjHAyal9301tGHB14X5FXiEHVgmZq6123+6HYd2VEBxPl/IOJWN5drv5LmNMHVV1m3bgKlEk/LR4IRnUMx0YSDySkdDD4Cd5JF35hvnG5tKUKtP0TDDQZe+RZsiPJZZU/4kjODK8ZgJLk7ATRZzVV/F6GBIoIe9VamG2Ej+lFkFmhhXQFl6xmN+He+JxC5EbV9thZvbKnxl4+KmHxawYbEXNOFS3YdFFW5HlLZm8fId//gfqSnoRSYfJIbJjI99tjf1TXEdO5zJ9cE9H0mzZY1HoealW1I4of+pmFgdtWLGP2tvOArc6i8sF8zLnkHzgcpKnf3rwB9zmZjrNo31KeDY7L5Y2h9NZbW1JXtkOpclXZEtKEdmprrSKZ3ZcIOx3+nhgHaBRvq238+Zkmnc20n6Ic+YJ6thmZw+cPCrup6rTAuHICztbvavhrmd0fO5c8EFovImxSdV6RQ5HzVBFyg5pjpMN3JHXpuHLI6aNwVOdPD0DTYCQQ93JUO3PIzefkWq0nGhemP2EIIUyiWoiIZniV+fYUarDdaKonTD5xWsKfkG6wBqvydyvRCHeD7NnN5TjMW4aYDuU7zOtYOb901iMyn72y2yOqpJk6s2d2Xk5Am5XUAdUuv0zGHYRC3oF+5uUxqAHOtjGmjF6OBq1M8SiTZBaXalhdsEO+1yEL4ouXYQKWWiAF1NTrhQJEU60Z8AYXeHqiDOgjMILHkE9ONoVQmtiI0rAi90os0p7PxJXiJ0kLuyB6b4mCvjulxoDvJ2hat3bhzFst34ByS06/pNkzyNh8G8eaZc4Q79nFSiPUKX539mnneSZxR+Dgip8f0qwLl6os2GYr3WddlWCpUML4vr8xqk37ybK7y4N7vTbaFYKH2ex92Adqjo76rkYCKXLy3O6X76vWF/eOl1Co4xALt+L1xiX/1LECLXC03PkMezxu0irOpMkAO/YWXrLB8tOYrThDCh7tLRKn+TJ/p9s1O2VyMvETwl+/q1JtEx/wSQ4jkWojGUOWV3MsRlV8ny+xPcSX0kc4qsvkTlBgIEBaaLtm5QxVFgDvZc8Ngz3+Dyn7iFGFcEEETrEhbKiOoRXrCyNEmewcxeMbqB7Pfzd2lDAu7LevYfYMvM9K71+7zwOQ0VvG4IckGx5CE80ahOVEOwfGeUAk15fvgdwBKJy9Bq6I+ZmTWIRS/KGwR2gvrTiY4bfPQDakeeenabYp4WmSt0x/Jfr+lg4fsm9A8C950xGCAjfMdxKPEaOXClxd4VIQ+Jp6D8gjfRQfQnFF54RtMP8fHbe23t7Z/lo4vsXkfEQrezwn635/HgwxlIZk/HG1Zb7ZHuBE2uRTGViqf7GuPUPYug44KWZI4ZoAQNKz0bVjrVxlj5+95eQGKgV/Dtq/WeVYLi+rvzGXpWc8J1hxpn1ivef/Ilcvo7PkY9urRAz6O5YUPr/IK7oshakkUi+UbAwg/MnBHbW+eNSgQcLyYdV28D957wSRj4BA0VFnO1m3LF6Zu+hae5HrNlbC4fReqGSubXaS65RdJBYpEX3bfPhP+NlNsyJB1MILJKCzgognUahqKklD8R3OhZu4pAPPIu0y5PWI4AZDQlwakP18x+CNTdyptenRYOyMnKeZ18LoiYTQJxod2fFnO+7I+/ZT+QlSkP8POU/dxhjJhUWuBWqQlItjppjNmQuJN9/7oGH3cr64LuuKCzKRfwr80rLCdVOK3a4cmTLYKPadXIL2Cue5n0Qj4potg7Yiv7C09JyF8+IKbKc1x4h7GDhjXF1sf7t30RqHhjfMzIuSm+3vhTOZaK/KMcV18kPNRUszmVLuePWqgj2pNx2apkaNkMAKzNI7YI7Y9RbcF3b2epkY2s6GMUXlYLIIh4jyP+o3uFMBLS7Ng80i6UygOnZDeNFRuHa9TynyKH+rZpV69yI0crmBQoBTIW9tWt/DmZum57NvqeiaijTIEc1AOp+gXIvNIYekaPwyAoBQCgFAKAV0oklCrjEyC/SoGnfxk0qsgAinet1VgILC7DpnRT867B+9MCuftLrWi0PluP4a4p4EWoFW84SwOQS/sCMcBTo2+DCPXsj5gEyGbR9IAKNDyYEAZAARHwAREA0QAPbiWPVKpjE/9yH5inVM6u104x0YjnLcdePf/xx7XBY6H/2saOr/921/+zHdt73/0W///9s3B0Dm/9wAcmQ+8ABwCRwViWSElTyZ2OkBoOjyIscmeQh5dC50y4iR+IkRESIiJEYiNPxVOZI+ZpHuMyUoJJJMiKRLlBDSSTHsA3JRhCSSSTHOMGX2NLDzltDDx7OZ1rt/5Uxk6V0ogce8F6Y8VceJDYwJYejeKuPEhsYEsPRAUOsIKLoniQSw9G8VceJDYwJYejeKuPEhsYEsPRvFXHiQ2MCWHo3irjxIbHkISSSSSSSSSSSSSSSSSSSSSSS5ALPzqoyQefSb5AiG5ivwbYWrG6StDTLvo6KZLAxDbJNn49lTh/jGUtOyrpKA8DdhWeHGYLR+UM/XuwTXP7bQRYELcf1aysw0DR6tKMr9ACfs+gETKbmk7LvPhSqzpsZdkMxwQhPw8QtvvQ8ZAMVMgaaFiL0U+7Bom4wnGyNsLlUlg6S14VltDHjAAaK6VcFvfoE1CYsBVo4+C7UBTgnyU0oYDImVqWj4knn70v6xvSzCgVqJWhrBRj2CCFw2TGgLwxbBjN+OfVTG7HDu/13VmGADb93rrNghIQWhQFGJUc2ieHzLDZBfPKlayD1aog/1iyXMwvIabCB0VCzRmuKU1WFONBfQa5nCzqUclr3gEZpNhy9nykGvu/YlSVOY7ZhTHtfpLEYCgmG8+9B5+RA+c3q7oaYEHlKVjI8de2NvP3CwH0+A0GbrD8bjdOhH3CjOw0Gv2OYxi05t51VAUtu29zlm6z4sBDjsRBvxlIv13Bp7oAwGEQmJABMsJuW+k4VV0ur0wtlsKSuBhltTazrNDzbsy1mx79kPv9bVLPNEHMXLLkYUHzuInT4Nc0wCiQUcMEkXPtin70Iz1KC1m+EiBXDJ0J/6UsEL9DmxUAC1sYIPKd1JCg2IrcxeBiCBhTHE32xt/1XBHvsk9F+VQxwzUWz4CidBi1p69fz/VL1T8M7gtwhUZNrTvKxOf67KcYeLVMClAd32qZBz70FE8a5E1nl2Xn5UEn9WCRnlfmP8fzA8M3mTu4BlOvcZHlmgYb+u016JECeu2O7hWsXs3Wq+EJS/hTfupBhnW6bMpjIVQVW9QXGhrrYZ6siT43XokQJ67Y7xeLohLcRQPjPmsNm33Da4mZlsmNAXhjBmi6klPzuyTMy2TGgLwxgzRdSSn53ZJmZbhuGwst34pT87skzMtkxoC8MYM0XUkp+d2SZmWyY0BeGMGaLqSU+2AKNC/YEAyABxGgANEA0QAPcqgqaEIHgWvNRpC8oJkWlvIeHjxROF/rBTYh2+BEQiIiOMog+WB7d5RF4kS/nTtUNdlbV6ZJ4C1NOsKuwSqYEkyNNxX5ThOdw8RqONsxWrSGBLwcyqWFUyxExbme163tIdebs9K0yQgvx6g8+2tf08WJzCC/Hqa3FttBq/TcrtGLaFIJwUsx9npWmSEF+PUHn21r+nixOYQX49QefbWv6eLE5hBfj1B59ta/p4sTmEF+RYIer1hIQ8QEkSRJIkiSRJNcCJIkkSRJIkiSTUa6JxiyeaK9pAeJyH844oZ81gRwCq0iXcJMdkK+B81u7CRj25n/IbVfVKb4FBDwYYS29hJjlOx+90g0Te87O7hoTHtC7VYVhGqReb2Gf0FjtXI/IkomcHgafALktU/UrNWV3ZKXdgRihqZ9sE1VxKAvDRza3Dre4r2ppnqUN/rLe7OFyTug0UXZiQD1SUdNEwBGzBBoMDFYQ3xI/OAP8CGD3fjJEfUQrUMhTOD9gZiD2M2/nP1TTjMtEd9L9Df8P3sh51FAkR6wNrHt7J6eJyTRA1nw9ZhujhICxWAFiD9niyN+6kPCNEpOTzAwhZwSewspoI3Aqw+tmi7N2kV/xMB342Dwnk+aECeStv3yPB60v7WpSf3Y5jt7BJnhpdQetdY18KzhUVbq0xAN9FFELhkXFoNV5NV7kDh1C8YryYdzgSQPuLxpnD/1LfBbUZCE6Zg6NThohRqU5N8xPjHkgErn2qwhouSRba1L/DNYQuHhWAAb+sZI/WQ6xnBNfSJkVkjnIViaxh9Lx5ptCZj/PnmvkXo14PGTKkzQO39ukuKgAOnNDnOeSqpzQ5zZHc9xTLyGFmHWuHhzOPIEL6GhSHJVU5oc5zyVVOaHOc8lVTmhznPJVU5oc46447fADGJkzt4ikLNgzEHsZuCO9DSzg/YGYg9jNwR3oaWcH7AzEI9K2SL1mGgQMxB7GbgjvQ0s4P2BmIPYzcEd6GlnB+wMxB7GbdgKNCS4EBLABxGQAREA0QAPddAXn7jvLCbtNs7ecakfT9WCkwUCdjKwNHKDjyBY8AakcQrZf+kPyzgEh1N9hEiNCaGEIiIiIwX9F2ZHbb7AOh3XxETNvT/D4TlV/YCqxH5QG4pg2eCWW3IkoDKNim1s8WC9ySl3C5Mi+yyely2uly2uly2uly2uly2uly2uly2umXBmGRbPEHbXS5bXS5bXS5bXS5bXS5bXS5bXS5bXS5bXS5bXS5bXS5bXS5bXTLYBEkSRJEkSRJEkSRJEkSRJEkSRJOgIQCyaTpU171yMrvIU+mVgBcQ+qz2xJG+KgIzgm2k0+ox0ZfN82JGZFQu0Is35jozOUFdZPmgrfeCMXN/1IdlbUZPsmFpOUudAnvAwP2rmxJKYlPX33D6k6tCCPFPQtt+Gqw96Q+z4C8bcq1FEZo7XKGYp4Y6fvSal9Zkoi0vln/6F0gN/UPOGSmeKi5vozgSkGWTgNTnN6vK3+UrLqgplteN06ep2KtZSE6RKDLYq78BGlRpcHS4TgC49OuNr/9ORi2HTBC2HmwbH2EFUP6fPDdYX4Zvw1u9ZvWfpMS81ZnjPt1nWyH/7phH2YVnDCyRKEYHckXr8ZskSOp7u2vJvcm9yb3HhR3g6cPMWFptByU0z2yKsW+Ir5PjLHd215N7k3uTe5N7k3uTe5N7k3uTe3Fxx6DfayEg0P4ByhmKeGOn94Bkp17cRO1pEkGh/AOUMxTwx0/vBUpCA5QzFPDHT+8AyU69uIna0iSDQ/gHKGYp4Y6f3gGSnBAo0KGgQGQAFEYAA0QDRAAw3/ipRgs4E9f2AGsh+6JC06J5A19fYHPEyEn0HBoNfnxQwmEwlkQkRvV7XhERCIiNbihoJLHf2zB86voJ1Q3UryxoJsVj8WJ6XVUcUAiVEi9ZHHLuMp6k7nPQ69DvtiK+2fj62fj62fj62fj62fj62fj62fw/mWaWozXBJOsuFjtN6D62fj62fj62fj62fj62fj62fj62fj62fj62fj62fj62fj8te4iJEkSRJEkSRJFVACSJIkiSJIkiSK4QyZK93v6+nn7Jx3BWQdmRhGjAjUYuAqp2AN3UwYPgedppG4FrGJF+yBuRTNUxbWhktFB07W82npySLxE+VczAhyZOebHwbJnQ+Sasn8RxUZ1XcRbnu5htItkCcFojVbTeTNYqu+n8GP/TuY1kH26AudR7WolS51WN0JVh01/ciHh9upBJyzL8dQh3rXlzVO8wxMJze/I/5d05sL1R8vbZjni+TOUdUiyKZdytrDURbRM8eJyy1/nJsZlsQj9EwpeeYAKEga2Ob0gkHpbrrDHbUUOpjN9CeY7mttTsVbfZKIQs+LZzCPMKW4ZNKLj0642x7iUfu5zFxqOExMTYqs/CcU0gdkUmdnFSJXVbuIRUwNpKm3kr77ZvDVlSSsaRNnhxPHIarxAQqNLRZus/lcx0VBIbow8I73jH9aTHdSowjQM0Bduf5r+UgWSJF57TzFhabQclMN3sirEujiNAXbn+twhHfPyDp2ez2GzQw4qMI0DNAXvTdmGZk7tbu1WHTX9TqsboSrDpr+p1WN0JVh01/U6rG6Eqw6a/4wraNrd2qw6a/qdVjdCVYdNf1OqxuhKsOmv6nVY3QlWHTX3gKNCJ4EB9ADxFgANEA0QAMAA1kF9v18aDfUvEX/cVxopNOKVinJbpjyCNQeTnkPzerwSARsLwiIhEREQ9WYKNhadNIDS0VvhmXeelUsQE3L4TxqISBlAFV1sALAejPuHzCuEsjn7G9f5evtqZp84cgHFnAzR7xhdaSmj3jC60lNG8Qvw2borT5w5AOLOBmj3jC60lNHvGF1pKaPeMLrSU0e8YXWkpo94wutJTRJESRJEiSJEkSJIkSRIkiRJEiSJEpBUXvJ9WddabaPPnDLc7RrudPu9CjAWY2ilUCsT/TKPrPZLKW79n/88Ua3IflLJMp3Fwmj4hD3zsjo8753VCFQm9+RUUbrSOBMK66XQ3M57hx45qIGq9YH3pitMr2TX5sgatW+J+NcH2ZHYAV9Hh+4VqJUudVjdCVYdNf3I2q5vE4xTfuJRabTpCi0gOMh2GKMxH4NbHN6Vbl4Y6IPftXtrxujpmp2KtV+a/Bq47+LGNdggL5YMTrjbGzRUd09S9kQuzqPl/ltCnoRB9xMUwvy4U1fLznmSS1ZwZxXIarxAQpauA/q/ZGkzWxyf6Bj+sqk2aGHFRhGgZoC6+kmHc8xYWm0HJTDd7IqxLo7uBew2aGHFRhGgZoC7c/1uEI75+QdOz2eo3HG6rDpr+p1WN0JVh01/U6rG6Eqw6a/qdVjdCVYdNf1Oqx6mKAD6WatTpshZqnVY3QlWHTX9TqsboSrDpr+p1WN0JVGAo0LIgQJYABEaAAkQDRAAxEYAeeSJ/3AYug57Xq/w92u5ZSYPGKeLKl6VEBQJYygVEl4aerhR/9ayLG2Enyz9HXoj01PBJfb9Y7xkQTRoHYiIhEREQ6+d9qTT+dPBB4NBWSqleWNBTifiyNhCQs6/oxJMZDrRn3R5FcQ4s4GaJun321M0+cOQDizgZo94wutJTR7xhdaSmjeIX4bN0bN5LXKWRz9jev9O2pmnzhyAcWcDNHvGF1pKaPeMLrSU0e8YXWkpokiJIkiRJEiSJEkSJIkSRIkiRJEiUgBUYZPvXa7t0dsuHsP3ZFvjJYEN0U9sdi755OURbbNtyjm0Z51fiopaOKGjBsJa/IZMGQwITGZ9cxntd2QyuNlWuDxQ8QP5GmbG5bzuhpcgYPp8O8L8/ziM2qXapCL6DkREjtHPUHsCQK9Ow7usOyosHsHT+v35coBRevsNi8s2t2UD8A7EguHcGzNwyLHboKHr4epsY9cMq5Rw50lzNIHkc9ncxrIPls6cgV9Hh+4VqJUudVjdCVYdNf0siFNZMkVwAjOLWxeu1fw/qResxT4vF6o8iwyKkRwznCiJsOySYnlSz5BuyDzvqtnaOnzAwxqAoHdwl/oN1N2nBVcbN3MSsR+f9ciWz2O0cSrmhMjyBrY5vRYCgsIso7t8Lo99CeY7mttTsVbfZKISzzDepsxqGdcbWqpNA7anJMTZB63LQaU5huwr/uYb5oy/1ZMuhs2Zb/CgZoG7CojeAwtnFchqvEBCnpeDTwSoTV8Bxen8doqSujH9ZVJs0MOKjCNAzQF19JMO55iwtNoNvH+V4O2RViXR3cC9hs0MOKjCNAzQF25/rcIR3z8g6dns9sZuxvsRTX9TqsboSrDpr+p1WN0JVh01/U6rG6Eqw6a/qdVj1MUAH0s1anTZCzVOqxuhKsOmv6nVY3QlWHTX9TqsboSqMBxTu2u1u4+zgQC3iveBAfGCAZTwgQO7kLOCBLC3iveBAfGCTOrwgQS7kLOCCWC3iveBAfGCsA3wgQQ=\" type=\"video/webm\">\n",
              "</video>\n"
            ]
          },
          "metadata": {}
        },
        {
          "output_type": "error",
          "ename": "IndexError",
          "evalue": "ignored",
          "traceback": [
            "\u001b[0;31m---------------------------------------------------------------------------\u001b[0m",
            "\u001b[0;31mIndexError\u001b[0m                                Traceback (most recent call last)",
            "\u001b[0;32m<ipython-input-54-edd2f9d48656>\u001b[0m in \u001b[0;36m<module>\u001b[0;34m\u001b[0m\n\u001b[1;32m      5\u001b[0m \u001b[0menv\u001b[0m\u001b[0;34m.\u001b[0m\u001b[0mrun\u001b[0m\u001b[0;34m(\u001b[0m\u001b[0;34m[\u001b[0m\u001b[0;34m\"do_nothing\"\u001b[0m\u001b[0;34m,\u001b[0m \u001b[0;34m\"human.py\"\u001b[0m\u001b[0;34m]\u001b[0m\u001b[0;34m)\u001b[0m\u001b[0;34m\u001b[0m\u001b[0;34m\u001b[0m\u001b[0m\n\u001b[1;32m      6\u001b[0m \u001b[0;34m\u001b[0m\u001b[0m\n\u001b[0;32m----> 7\u001b[0;31m \u001b[0menv\u001b[0m\u001b[0;34m.\u001b[0m\u001b[0mrender\u001b[0m\u001b[0;34m(\u001b[0m\u001b[0mmode\u001b[0m\u001b[0;34m=\u001b[0m\u001b[0;34m\"html\"\u001b[0m\u001b[0;34m,\u001b[0m \u001b[0mwidth\u001b[0m\u001b[0;34m=\u001b[0m\u001b[0;36m960\u001b[0m\u001b[0;34m,\u001b[0m \u001b[0mheight\u001b[0m\u001b[0;34m=\u001b[0m\u001b[0;36m720\u001b[0m\u001b[0;34m)\u001b[0m\u001b[0;34m\u001b[0m\u001b[0;34m\u001b[0m\u001b[0m\n\u001b[0m",
            "\u001b[0;32m/usr/local/lib/python3.8/dist-packages/kaggle_environments/core.py\u001b[0m in \u001b[0;36mrender\u001b[0;34m(self, **kwargs)\u001b[0m\n\u001b[1;32m    333\u001b[0m             }\n\u001b[1;32m    334\u001b[0m             \u001b[0margs\u001b[0m \u001b[0;34m=\u001b[0m \u001b[0;34m[\u001b[0m\u001b[0mself\u001b[0m\u001b[0;34m]\u001b[0m\u001b[0;34m\u001b[0m\u001b[0;34m\u001b[0m\u001b[0m\n\u001b[0;32m--> 335\u001b[0;31m             player_html = get_player(window_kaggle,\n\u001b[0m\u001b[1;32m    336\u001b[0m                                      self.html_renderer(*args[:self.html_renderer.__code__.co_argcount]))\n\u001b[1;32m    337\u001b[0m             \u001b[0;32mif\u001b[0m \u001b[0mmode\u001b[0m \u001b[0;34m==\u001b[0m \u001b[0;34m\"html\"\u001b[0m\u001b[0;34m:\u001b[0m\u001b[0;34m\u001b[0m\u001b[0;34m\u001b[0m\u001b[0m\n",
            "\u001b[0;32m/usr/local/lib/python3.8/dist-packages/kaggle_environments/utils.py\u001b[0m in \u001b[0;36mget_player\u001b[0;34m(window_kaggle, renderer)\u001b[0m\n\u001b[1;32m    176\u001b[0m \u001b[0;31m# Player utilities\u001b[0m\u001b[0;34m\u001b[0m\u001b[0;34m\u001b[0m\u001b[0;34m\u001b[0m\u001b[0m\n\u001b[1;32m    177\u001b[0m \u001b[0;32mdef\u001b[0m \u001b[0mget_player\u001b[0m\u001b[0;34m(\u001b[0m\u001b[0mwindow_kaggle\u001b[0m\u001b[0;34m,\u001b[0m \u001b[0mrenderer\u001b[0m\u001b[0;34m)\u001b[0m\u001b[0;34m:\u001b[0m\u001b[0;34m\u001b[0m\u001b[0;34m\u001b[0m\u001b[0m\n\u001b[0;32m--> 178\u001b[0;31m     \u001b[0;32mif\u001b[0m \u001b[0mrenderer\u001b[0m\u001b[0;34m[\u001b[0m\u001b[0;36m0\u001b[0m\u001b[0;34m]\u001b[0m \u001b[0;34m==\u001b[0m \u001b[0;34m\"html_path\"\u001b[0m\u001b[0;34m:\u001b[0m\u001b[0;34m\u001b[0m\u001b[0;34m\u001b[0m\u001b[0m\n\u001b[0m\u001b[1;32m    179\u001b[0m         \u001b[0mkey\u001b[0m \u001b[0;34m=\u001b[0m \u001b[0;34m\"/*window.kaggle*/\"\u001b[0m\u001b[0;34m\u001b[0m\u001b[0;34m\u001b[0m\u001b[0m\n\u001b[1;32m    180\u001b[0m         value = f\"\"\"\n",
            "\u001b[0;31mIndexError\u001b[0m: string index out of range"
          ]
        }
      ],
      "source": [
        "env = make(\"football\", debug=True, configuration={\"scenario_name\": \"tests.penalty\", \"team_1\": 2, \"team_2\": 1, \"running_in_notebook\": True, \"save_video\": True})\n",
        "print(env.name, env.version)\n",
        "print(\"Default Agents: \", *env.agents)\n",
        "\n",
        "env.run([\"do_nothing\", \"human.py\"])\n",
        " \n",
        "env.render(mode=\"html\", width=960, height=720)"
      ]
    },
    {
      "cell_type": "code",
      "execution_count": null,
      "metadata": {
        "id": "KfLPmG9yC3KY"
      },
      "outputs": [],
      "source": [
        "env = make(\"football\", debug=True, configuration={\"scenario_name\": \"5_vs_5\", \"game_mode\":6,\"team_1\": 1, \"team_2\": 1, \"running_in_notebook\": True, \"save_video\": True})\n",
        "print(env.name, env.version)\n",
        "print(\"Default Agents: \", *env.agents)\n",
        "\n",
        "env.run([\"run_right\", \"run_left\"])\n",
        " \n",
        "env.render(mode=\"html\", width=960, height=720)"
      ]
    },
    {
      "cell_type": "code",
      "execution_count": null,
      "metadata": {
        "id": "s7leiFW6D6pQ"
      },
      "outputs": [],
      "source": [
        "env = make(\"football\", debug=True, configuration={\"scenario_name\": \"1_vs_1_easy\", \"game_mode\":6,\"team_1\": 1, \"team_2\": 1, \"running_in_notebook\": True, \"save_video\": True})\n",
        "print(env.name, env.version)\n",
        "print(\"Default Agents: \", *env.agents)\n",
        "\n",
        "env.run([\"run_right\", \"run_left\"])\n",
        " \n",
        "env.render(mode=\"html\", width=960, height=720)"
      ]
    }
  ],
  "metadata": {
    "colab": {
      "provenance": [],
      "include_colab_link": true
    },
    "kernelspec": {
      "display_name": "Python 3",
      "name": "python3"
    },
    "language_info": {
      "name": "python"
    }
  },
  "nbformat": 4,
  "nbformat_minor": 0
}